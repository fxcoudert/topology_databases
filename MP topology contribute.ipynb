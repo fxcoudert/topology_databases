{
 "cells": [
  {
   "cell_type": "code",
   "execution_count": 1,
   "id": "17e88883-58d0-4870-bf61-97ce7cf97226",
   "metadata": {},
   "outputs": [],
   "source": [
    "import json\n",
    "import os\n",
    "\n",
    "from mpcontribs.client import Client"
   ]
  },
  {
   "cell_type": "code",
   "execution_count": 2,
   "id": "560b8585-b623-4a92-ba9d-96ca3862b3de",
   "metadata": {},
   "outputs": [],
   "source": [
    "with open(os.path.expanduser(\"~/.mpapikey\"), \"r\") as f:\n",
    "    apikey = f.read().strip()\n",
    "\n",
    "client = Client(\n",
    "    host=\"contribs-api.materialsproject.org\",\n",
    "    apikey=apikey,\n",
    "    project=\"topology\"\n",
    ")"
   ]
  },
  {
   "cell_type": "code",
   "execution_count": 3,
   "id": "6dd363be-a30a-4ef8-8709-f6a592492aca",
   "metadata": {},
   "outputs": [],
   "source": [
    "with open(\"topo_data.json\", \"r\") as file:\n",
    "    data = json.load(file)"
   ]
  },
  {
   "cell_type": "code",
   "execution_count": 4,
   "id": "dcd21f33-d038-4c88-8e2c-e990c80d4ece",
   "metadata": {},
   "outputs": [],
   "source": [
    "def topo_summary(x):\n",
    "    if x is None:\n",
    "        return None\n",
    "\n",
    "    if len(x) != 1:\n",
    "        # Will have to deal with it later\n",
    "        return None\n",
    "\n",
    "    if \"UNKNOWN\" in x[0][2]:\n",
    "        topo = \"unknown\"\n",
    "    elif \"unstable\" in x[0][2]:\n",
    "        topo = \"unstable\"\n",
    "    else:\n",
    "        topo = x[0][2]\n",
    "    return {\"topology\": topo, \"dimension\": x[0][1], \"multiplicity\": x[0][0]}"
   ]
  },
  {
   "cell_type": "code",
   "execution_count": 5,
   "id": "644dfdda-d0b6-4494-b39e-b5b1c4d2c222",
   "metadata": {},
   "outputs": [
    {
     "data": {
      "text/plain": [
       "[{'identifier': 'mp-1056831',\n",
       "  'data': {'topology': 'non-periodic', 'dimension': 0, 'multiplicity': 1}},\n",
       " {'identifier': 'mp-1191581',\n",
       "  'data': {'topology': 'unknown', 'dimension': 2, 'multiplicity': 1}},\n",
       " {'identifier': 'mp-1056079',\n",
       "  'data': {'topology': 'non-periodic', 'dimension': 0, 'multiplicity': 1}},\n",
       " {'identifier': 'mp-1178801',\n",
       "  'data': {'topology': 'unknown', 'dimension': 2, 'multiplicity': 1}},\n",
       " {'identifier': 'mp-43',\n",
       "  'data': {'topology': 'unknown', 'dimension': 3, 'multiplicity': 1}},\n",
       " {'identifier': 'mp-1182070',\n",
       "  'data': {'topology': 'pcu', 'dimension': 3, 'multiplicity': 1}},\n",
       " {'identifier': 'mp-1067758',\n",
       "  'data': {'topology': 'unstable', 'dimension': 2, 'multiplicity': 1}},\n",
       " {'identifier': 'mp-567379',\n",
       "  'data': {'topology': 'pcu', 'dimension': 3, 'multiplicity': 1}},\n",
       " {'identifier': 'mp-613989',\n",
       "  'data': {'topology': 'unknown', 'dimension': 3, 'multiplicity': 1}},\n",
       " {'identifier': 'mp-632286',\n",
       "  'data': {'topology': 'sql', 'dimension': 2, 'multiplicity': 1}},\n",
       " {'identifier': 'mp-2647017',\n",
       "  'data': {'topology': 'unstable', 'dimension': 1, 'multiplicity': 1}},\n",
       " {'identifier': 'mp-1179605',\n",
       "  'data': {'topology': 'sql', 'dimension': 2, 'multiplicity': 1}},\n",
       " {'identifier': 'mp-567409',\n",
       "  'data': {'topology': 'unstable', 'dimension': 2, 'multiplicity': 1}},\n",
       " {'identifier': 'mp-676011',\n",
       "  'data': {'topology': 'unknown', 'dimension': 3, 'multiplicity': 1}},\n",
       " {'identifier': 'mp-1244924',\n",
       "  'data': {'topology': 'unknown', 'dimension': 3, 'multiplicity': 1}},\n",
       " {'identifier': 'mp-1244964',\n",
       "  'data': {'topology': 'unknown', 'dimension': 3, 'multiplicity': 1}},\n",
       " {'identifier': 'mp-1245266',\n",
       "  'data': {'topology': 'unknown', 'dimension': 3, 'multiplicity': 1}},\n",
       " {'identifier': 'mp-1244971',\n",
       "  'data': {'topology': 'unknown', 'dimension': 3, 'multiplicity': 1}},\n",
       " {'identifier': 'mp-1245170',\n",
       "  'data': {'topology': 'unknown', 'dimension': 3, 'multiplicity': 1}},\n",
       " {'identifier': 'mp-988210',\n",
       "  'data': {'topology': 'cpb', 'dimension': 2, 'multiplicity': 1}}]"
      ]
     },
     "execution_count": 5,
     "metadata": {},
     "output_type": "execute_result"
    }
   ],
   "source": [
    "contributions = []\n",
    "\n",
    "for k, v in data.items():\n",
    "    t = topo_summary(v[\"topology\"]) if v else None\n",
    "    if t is not None:\n",
    "        contributions.append({\"identifier\": k, \"data\": t})\n",
    "\n",
    "contributions[:20]"
   ]
  },
  {
   "cell_type": "code",
   "execution_count": 6,
   "id": "f574df37-7e4c-470b-ae70-646a76758a46",
   "metadata": {},
   "outputs": [
    {
     "data": {
      "text/plain": [
       "149991"
      ]
     },
     "execution_count": 6,
     "metadata": {},
     "output_type": "execute_result"
    }
   ],
   "source": [
    "len(contributions)"
   ]
  },
  {
   "cell_type": "code",
   "execution_count": 7,
   "id": "fd943653-8961-4d73-bfcc-524bf0ed2839",
   "metadata": {},
   "outputs": [
    {
     "name": "stdout",
     "output_type": "stream",
     "text": [
      "There aren't any contributions to delete for topology\n"
     ]
    },
    {
     "data": {
      "application/vnd.jupyter.widget-view+json": {
       "model_id": "2c319ee23a824b7b972cc2bfb26140a6",
       "version_major": 2,
       "version_minor": 0
      },
      "text/plain": [
       "Prepare:   0%|          | 0/500 [00:00<?, ?it/s]"
      ]
     },
     "metadata": {},
     "output_type": "display_data"
    },
    {
     "name": "stderr",
     "output_type": "stream",
     "text": [
      "Traceback (most recent call last):\n",
      "  File \"/usr/local/lib/python3.10/site-packages/flask_mongorest/views.py\", line 189, in _dispatch_request\n",
      "    return super(ResourceView, self).dispatch_request(*args, **kwargs)\n",
      "  File \"/usr/local/lib/python3.10/site-packages/flask/views.py\", line 188, in dispatch_request\n",
      "    return current_app.ensure_sync(meth)(**kwargs)\n",
      "  File \"/usr/local/lib/python3.10/site-packages/flask_mongorest/views.py\", line 387, in post\n",
      "    self.create_object(**kwargs)\n",
      "  File \"/usr/local/lib/python3.10/site-packages/flask_mongorest/views.py\", line 416, in create_object\n",
      "    self._resource.save_object(obj, force_insert=True, **kwargs)\n",
      "  File \"/usr/local/lib/python3.10/site-packages/flask_mongorest/resources.py\", line 1129, in save_object\n",
      "    obj.save(signal_kwargs=signal_kwargs, **kwargs).reload()\n",
      "  File \"/usr/local/lib/python3.10/site-packages/mongoengine/document.py\", line 407, in save\n",
      "    signals.pre_save_post_validation.send(\n",
      "  File \"/usr/local/lib/python3.10/site-packages/blinker/base.py\", line 279, in send\n",
      "    result = receiver(sender, **kwargs)\n",
      "  File \"/app/mpcontribs/api/contributions/document.py\", line 306, in pre_save_post_validation\n",
      "    document.data = remap(document.data, visit=make_quantities, enter=enter)\n",
      "  File \"/usr/local/lib/python3.10/site-packages/boltons/iterutils.py\", line 1200, in remap\n",
      "    visited_item = visit(path, key, value)\n",
      "  File \"/app/mpcontribs/api/contributions/document.py\", line 265, in make_quantities\n",
      "    if not q._magnitude:\n",
      "AttributeError: 'NoneType' object has no attribute '_magnitude'\n",
      "...\n"
     ]
    },
    {
     "name": "stdout",
     "output_type": "stream",
     "text": [
      "0/500 processed -> retrying ...\n"
     ]
    },
    {
     "name": "stderr",
     "output_type": "stream",
     "text": [
      "Traceback (most recent call last):\n",
      "  File \"/usr/local/lib/python3.10/site-packages/flask_mongorest/views.py\", line 189, in _dispatch_request\n",
      "    return super(ResourceView, self).dispatch_request(*args, **kwargs)\n",
      "  File \"/usr/local/lib/python3.10/site-packages/flask/views.py\", line 188, in dispatch_request\n",
      "    return current_app.ensure_sync(meth)(**kwargs)\n",
      "  File \"/usr/local/lib/python3.10/site-packages/flask_mongorest/views.py\", line 387, in post\n",
      "    self.create_object(**kwargs)\n",
      "  File \"/usr/local/lib/python3.10/site-packages/flask_mongorest/views.py\", line 416, in create_object\n",
      "    self._resource.save_object(obj, force_insert=True, **kwargs)\n",
      "  File \"/usr/local/lib/python3.10/site-packages/flask_mongorest/resources.py\", line 1129, in save_object\n",
      "    obj.save(signal_kwargs=signal_kwargs, **kwargs).reload()\n",
      "  File \"/usr/local/lib/python3.10/site-packages/mongoengine/document.py\", line 407, in save\n",
      "    signals.pre_save_post_validation.send(\n",
      "  File \"/usr/local/lib/python3.10/site-packages/blinker/base.py\", line 279, in send\n",
      "    result = receiver(sender, **kwargs)\n",
      "  File \"/app/mpcontribs/api/contributions/document.py\", line 306, in pre_save_post_validation\n",
      "    document.data = remap(document.data, visit=make_quantities, enter=enter)\n",
      "  File \"/usr/local/lib/python3.10/site-packages/boltons/iterutils.py\", line 1200, in remap\n",
      "    visited_item = visit(path, key, value)\n",
      "  File \"/app/mpcontribs/api/contributions/document.py\", line 265, in make_quantities\n",
      "    if not q._magnitude:\n",
      "AttributeError: 'NoneType' object has no attribute '_magnitude'\n",
      "...\n"
     ]
    },
    {
     "name": "stdout",
     "output_type": "stream",
     "text": [
      "0/500 processed -> retrying ...\n"
     ]
    },
    {
     "name": "stderr",
     "output_type": "stream",
     "text": [
      "Traceback (most recent call last):\n",
      "  File \"/usr/local/lib/python3.10/site-packages/flask_mongorest/views.py\", line 189, in _dispatch_request\n",
      "    return super(ResourceView, self).dispatch_request(*args, **kwargs)\n",
      "  File \"/usr/local/lib/python3.10/site-packages/flask/views.py\", line 188, in dispatch_request\n",
      "    return current_app.ensure_sync(meth)(**kwargs)\n",
      "  File \"/usr/local/lib/python3.10/site-packages/flask_mongorest/views.py\", line 387, in post\n",
      "    self.create_object(**kwargs)\n",
      "  File \"/usr/local/lib/python3.10/site-packages/flask_mongorest/views.py\", line 416, in create_object\n",
      "    self._resource.save_object(obj, force_insert=True, **kwargs)\n",
      "  File \"/usr/local/lib/python3.10/site-packages/flask_mongorest/resources.py\", line 1129, in save_object\n",
      "    obj.save(signal_kwargs=signal_kwargs, **kwargs).reload()\n",
      "  File \"/usr/local/lib/python3.10/site-packages/mongoengine/document.py\", line 407, in save\n",
      "    signals.pre_save_post_validation.send(\n",
      "  File \"/usr/local/lib/python3.10/site-packages/blinker/base.py\", line 279, in send\n",
      "    result = receiver(sender, **kwargs)\n",
      "  File \"/app/mpcontribs/api/contributions/document.py\", line 306, in pre_save_post_validation\n",
      "    document.data = remap(document.data, visit=make_quantities, enter=enter)\n",
      "  File \"/usr/local/lib/python3.10/site-packages/boltons/iterutils.py\", line 1200, in remap\n",
      "    visited_item = visit(path, key, value)\n",
      "  File \"/app/mpcontribs/api/contributions/document.py\", line 265, in make_quantities\n",
      "    if not q._magnitude:\n",
      "AttributeError: 'NoneType' object has no attribute '_magnitude'\n",
      "...\n"
     ]
    },
    {
     "name": "stdout",
     "output_type": "stream",
     "text": [
      "0/500 processed -> retrying ...\n"
     ]
    },
    {
     "name": "stderr",
     "output_type": "stream",
     "text": [
      "Traceback (most recent call last):\n",
      "  File \"/usr/local/lib/python3.10/site-packages/flask_mongorest/views.py\", line 189, in _dispatch_request\n",
      "    return super(ResourceView, self).dispatch_request(*args, **kwargs)\n",
      "  File \"/usr/local/lib/python3.10/site-packages/flask/views.py\", line 188, in dispatch_request\n",
      "    return current_app.ensure_sync(meth)(**kwargs)\n",
      "  File \"/usr/local/lib/python3.10/site-packages/flask_mongorest/views.py\", line 387, in post\n",
      "    self.create_object(**kwargs)\n",
      "  File \"/usr/local/lib/python3.10/site-packages/flask_mongorest/views.py\", line 416, in create_object\n",
      "    self._resource.save_object(obj, force_insert=True, **kwargs)\n",
      "  File \"/usr/local/lib/python3.10/site-packages/flask_mongorest/resources.py\", line 1129, in save_object\n",
      "    obj.save(signal_kwargs=signal_kwargs, **kwargs).reload()\n",
      "  File \"/usr/local/lib/python3.10/site-packages/mongoengine/document.py\", line 407, in save\n",
      "    signals.pre_save_post_validation.send(\n",
      "  File \"/usr/local/lib/python3.10/site-packages/blinker/base.py\", line 279, in send\n",
      "    result = receiver(sender, **kwargs)\n",
      "  File \"/app/mpcontribs/api/contributions/document.py\", line 306, in pre_save_post_validation\n",
      "    document.data = remap(document.data, visit=make_quantities, enter=enter)\n",
      "  File \"/usr/local/lib/python3.10/site-packages/boltons/iterutils.py\", line 1200, in remap\n",
      "    visited_item = visit(path, key, value)\n",
      "  File \"/app/mpcontribs/api/contributions/document.py\", line 265, in make_quantities\n",
      "    if not q._magnitude:\n",
      "AttributeError: 'NoneType' object has no attribute '_magnitude'\n",
      "...\n",
      "topology: Tried 3 times - abort.\n"
     ]
    },
    {
     "name": "stdout",
     "output_type": "stream",
     "text": [
      "It took 0.1min to submit 0/500 contributions.\n"
     ]
    },
    {
     "data": {
      "text/plain": [
       "{'count': 1}"
      ]
     },
     "execution_count": 7,
     "metadata": {},
     "output_type": "execute_result"
    }
   ],
   "source": [
    "client.init_columns({\"topology\": None, \"dimension\": \"\", \"multiplicity\": \"\"})\n",
    "client.delete_contributions()\n",
    "client.submit_contributions(contributions[:500])\n",
    "client.init_columns({\"topology\": None, \"dimension\": \"\", \"multiplicity\": \"\"})"
   ]
  },
  {
   "cell_type": "code",
   "execution_count": null,
   "id": "1edc3866-199f-4831-955e-70e585360a82",
   "metadata": {},
   "outputs": [],
   "source": []
  },
  {
   "cell_type": "code",
   "execution_count": 16,
   "id": "6838c0fc-da60-43e7-b7f0-be9366afa21c",
   "metadata": {},
   "outputs": [
    {
     "data": {
      "text/plain": [
       "{'material_id': 'mp-1206677',\n",
       " 'formula_pretty': 'Rb2O2',\n",
       " 'nelements': 2,\n",
       " 'coordination': [['O', 6], ['Rb', 6]],\n",
       " 'bonds': [['Rb', 'O']],\n",
       " 'topology': [[1, 3, 'pcu']]}"
      ]
     },
     "execution_count": 16,
     "metadata": {},
     "output_type": "execute_result"
    }
   ],
   "source": [
    "data['mp-1206677']"
   ]
  },
  {
   "cell_type": "code",
   "execution_count": 10,
   "id": "5550eb3f-9192-4586-9b5d-d8ccecd7744d",
   "metadata": {},
   "outputs": [],
   "source": [
    "import mpcontribs.client"
   ]
  },
  {
   "cell_type": "code",
   "execution_count": 12,
   "id": "8db77919-8aa5-499d-b346-90b5b6c1cbaa",
   "metadata": {},
   "outputs": [
    {
     "name": "stdout",
     "output_type": "stream",
     "text": [
      "\u001b[0;31m---------------------------------------------------------------------------\u001b[0m\n",
      "\u001b[0;31mAttributeError\u001b[0m                            Traceback (most recent call last)\n",
      "Cell \u001b[0;32mIn[12], line 1\u001b[0m\n",
      "\u001b[0;32m----> 1\u001b[0m \u001b[43mmpcontribs\u001b[49m\u001b[38;5;241;43m.\u001b[39;49m\u001b[43mclient\u001b[49m\u001b[38;5;241;43m.\u001b[39;49m\u001b[43mget\u001b[49m\n",
      "\n",
      "\u001b[0;31mAttributeError\u001b[0m: module 'mpcontribs.client' has no attribute 'get'\n"
     ]
    }
   ],
   "source": [
    "mpcontribs.client.get"
   ]
  },
  {
   "cell_type": "code",
   "execution_count": 13,
   "id": "7db52c8f-9f0c-4cf2-a9de-a5c5a3ef9bfa",
   "metadata": {},
   "outputs": [
    {
     "data": {
      "text/plain": [
       "['__doc__',\n",
       " '__file__',\n",
       " '__loader__',\n",
       " '__name__',\n",
       " '__package__',\n",
       " '__path__',\n",
       " '__spec__',\n",
       " 'client']"
      ]
     },
     "execution_count": 13,
     "metadata": {},
     "output_type": "execute_result"
    }
   ],
   "source": [
    "dir(mpcontribs)"
   ]
  },
  {
   "cell_type": "code",
   "execution_count": 15,
   "id": "73ab377e-c3c2-4244-a0c6-3528a740119f",
   "metadata": {},
   "outputs": [
    {
     "data": {
      "text/plain": [
       "_NamespacePath(['/Users/fx/miniforge3/envs/matten/lib/python3.10/site-packages/mpcontribs'])"
      ]
     },
     "execution_count": 15,
     "metadata": {},
     "output_type": "execute_result"
    }
   ],
   "source": [
    "mpcontribs.__path__"
   ]
  },
  {
   "cell_type": "code",
   "execution_count": null,
   "id": "6458b108-baa6-4dcb-bd61-feb230fca346",
   "metadata": {},
   "outputs": [],
   "source": []
  }
 ],
 "metadata": {
  "kernelspec": {
   "display_name": "Python 3 (ipykernel)",
   "language": "python",
   "name": "python3"
  },
  "language_info": {
   "codemirror_mode": {
    "name": "ipython",
    "version": 3
   },
   "file_extension": ".py",
   "mimetype": "text/x-python",
   "name": "python",
   "nbconvert_exporter": "python",
   "pygments_lexer": "ipython3",
   "version": "3.10.14"
  }
 },
 "nbformat": 4,
 "nbformat_minor": 5
}
