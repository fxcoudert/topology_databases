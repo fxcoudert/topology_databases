{
 "cells": [
  {
   "cell_type": "code",
   "execution_count": 1,
   "id": "17e88883-58d0-4870-bf61-97ce7cf97226",
   "metadata": {},
   "outputs": [],
   "source": [
    "import json\n",
    "import os\n",
    "\n",
    "from mpcontribs.client import Client"
   ]
  },
  {
   "cell_type": "code",
   "execution_count": 2,
   "id": "560b8585-b623-4a92-ba9d-96ca3862b3de",
   "metadata": {},
   "outputs": [],
   "source": [
    "with open(os.path.expanduser(\"~/.mpapikey\"), \"r\") as f:\n",
    "    apikey = f.read().strip()\n",
    "\n",
    "client = Client(\n",
    "    host=\"contribs-api.materialsproject.org\",\n",
    "    apikey=apikey,\n",
    "    project=\"topology\"\n",
    ")"
   ]
  },
  {
   "cell_type": "code",
   "execution_count": 3,
   "id": "6dd363be-a30a-4ef8-8709-f6a592492aca",
   "metadata": {},
   "outputs": [],
   "source": [
    "with open(\"topo_data.json\", \"r\") as file:\n",
    "    data = json.load(file)"
   ]
  },
  {
   "cell_type": "code",
   "execution_count": 4,
   "id": "dcd21f33-d038-4c88-8e2c-e990c80d4ece",
   "metadata": {},
   "outputs": [],
   "source": [
    "def topo_summary(x):\n",
    "    if x is None:\n",
    "        return None\n",
    "\n",
    "    if len(x) != 1:\n",
    "        # Will have to deal with it later\n",
    "        return None\n",
    "\n",
    "    if \"UNKNOWN\" in x[0][2]:\n",
    "        topo = \"unnamed\"\n",
    "    elif \"unstable\" in x[0][2]:\n",
    "        topo = \"unstable\"\n",
    "    else:\n",
    "        topo = x[0][2]\n",
    "    return {\"topology\": topo, \"dimension\": x[0][1], \"multiplicity\": x[0][0]}"
   ]
  },
  {
   "cell_type": "code",
   "execution_count": 5,
   "id": "644dfdda-d0b6-4494-b39e-b5b1c4d2c222",
   "metadata": {},
   "outputs": [
    {
     "data": {
      "text/plain": [
       "[{'identifier': 'mp-676011',\n",
       "  'data': {'topology': 'unnamed', 'dimension': 3, 'multiplicity': 1}},\n",
       " {'identifier': 'mp-1244924',\n",
       "  'data': {'topology': 'unnamed', 'dimension': 3, 'multiplicity': 1}},\n",
       " {'identifier': 'mp-1244964',\n",
       "  'data': {'topology': 'unnamed', 'dimension': 3, 'multiplicity': 1}},\n",
       " {'identifier': 'mp-1245266',\n",
       "  'data': {'topology': 'unnamed', 'dimension': 3, 'multiplicity': 1}},\n",
       " {'identifier': 'mp-1244971',\n",
       "  'data': {'topology': 'unnamed', 'dimension': 3, 'multiplicity': 1}},\n",
       " {'identifier': 'mp-1245170',\n",
       "  'data': {'topology': 'unnamed', 'dimension': 3, 'multiplicity': 1}},\n",
       " {'identifier': 'mp-988210',\n",
       "  'data': {'topology': 'cpb', 'dimension': 2, 'multiplicity': 1}},\n",
       " {'identifier': 'mp-1244987',\n",
       "  'data': {'topology': 'unnamed', 'dimension': 3, 'multiplicity': 1}},\n",
       " {'identifier': 'mp-1245152',\n",
       "  'data': {'topology': 'unnamed', 'dimension': 3, 'multiplicity': 1}},\n",
       " {'identifier': 'mp-1245307',\n",
       "  'data': {'topology': 'unnamed', 'dimension': 3, 'multiplicity': 1}},\n",
       " {'identifier': 'mp-1245129',\n",
       "  'data': {'topology': 'unnamed', 'dimension': 3, 'multiplicity': 1}},\n",
       " {'identifier': 'mp-1245164',\n",
       "  'data': {'topology': 'unnamed', 'dimension': 3, 'multiplicity': 1}},\n",
       " {'identifier': 'mp-1245190',\n",
       "  'data': {'topology': 'unnamed', 'dimension': 3, 'multiplicity': 1}},\n",
       " {'identifier': 'mp-1245184',\n",
       "  'data': {'topology': 'unnamed', 'dimension': 3, 'multiplicity': 1}},\n",
       " {'identifier': 'mp-656615',\n",
       "  'data': {'topology': 'unnamed', 'dimension': 3, 'multiplicity': 1}},\n",
       " {'identifier': 'mp-1245320',\n",
       "  'data': {'topology': 'unnamed', 'dimension': 3, 'multiplicity': 1}},\n",
       " {'identifier': 'mp-1244933',\n",
       "  'data': {'topology': 'unnamed', 'dimension': 3, 'multiplicity': 1}},\n",
       " {'identifier': 'mp-1245041',\n",
       "  'data': {'topology': 'unnamed', 'dimension': 3, 'multiplicity': 1}},\n",
       " {'identifier': 'mp-1245067',\n",
       "  'data': {'topology': 'unnamed', 'dimension': 3, 'multiplicity': 1}},\n",
       " {'identifier': 'mp-1180008',\n",
       "  'data': {'topology': 'non-periodic', 'dimension': 0, 'multiplicity': 1}}]"
      ]
     },
     "execution_count": 5,
     "metadata": {},
     "output_type": "execute_result"
    }
   ],
   "source": [
    "contributions = []\n",
    "\n",
    "for k, v in data.items():\n",
    "    t = topo_summary(v[\"topology\"]) if v else None\n",
    "    if t is not None:\n",
    "        contributions.append({\"identifier\": k, \"data\": t})\n",
    "\n",
    "contributions[:20]"
   ]
  },
  {
   "cell_type": "code",
   "execution_count": 6,
   "id": "f574df37-7e4c-470b-ae70-646a76758a46",
   "metadata": {},
   "outputs": [
    {
     "data": {
      "text/plain": [
       "149896"
      ]
     },
     "execution_count": 6,
     "metadata": {},
     "output_type": "execute_result"
    }
   ],
   "source": [
    "len(contributions)"
   ]
  },
  {
   "cell_type": "code",
   "execution_count": 7,
   "id": "fd943653-8961-4d73-bfcc-524bf0ed2839",
   "metadata": {},
   "outputs": [
    {
     "name": "stdout",
     "output_type": "stream",
     "text": [
      "It took 0.1min to delete 500 contributions.\n"
     ]
    },
    {
     "data": {
      "application/vnd.jupyter.widget-view+json": {
       "model_id": "4afdd3f6154543b7a2310b1dc491d5e9",
       "version_major": 2,
       "version_minor": 0
      },
      "text/plain": [
       "Prepare:   0%|          | 0/149896 [00:00<?, ?it/s]"
      ]
     },
     "metadata": {},
     "output_type": "display_data"
    },
    {
     "data": {
      "application/vnd.jupyter.widget-view+json": {
       "model_id": "fb1904565a02458aa7a551e18442987f",
       "version_major": 2,
       "version_minor": 0
      },
      "text/plain": [
       "Submit:   5%|4         | 7000/149896 [00:09<03:20, 711.15it/s]"
      ]
     },
     "metadata": {},
     "output_type": "display_data"
    },
    {
     "name": "stdout",
     "output_type": "stream",
     "text": [
      "It took 16.2min to submit 149896/149896 contributions.\n"
     ]
    },
    {
     "data": {
      "text/plain": [
       "{'count': 1}"
      ]
     },
     "execution_count": 7,
     "metadata": {},
     "output_type": "execute_result"
    }
   ],
   "source": [
    "client.init_columns({\"topology\": None, \"dimension\": \"\", \"multiplicity\": \"\"})\n",
    "client.delete_contributions()\n",
    "client.submit_contributions(contributions)\n",
    "client.init_columns({\"topology\": None, \"dimension\": \"\", \"multiplicity\": \"\"})"
   ]
  },
  {
   "cell_type": "code",
   "execution_count": null,
   "id": "1edc3866-199f-4831-955e-70e585360a82",
   "metadata": {},
   "outputs": [],
   "source": []
  },
  {
   "cell_type": "code",
   "execution_count": 9,
   "id": "6838c0fc-da60-43e7-b7f0-be9366afa21c",
   "metadata": {},
   "outputs": [
    {
     "data": {
      "text/plain": [
       "{'material_id': 'mp-1206677',\n",
       " 'formula_pretty': 'Rb2O2',\n",
       " 'nelements': 2,\n",
       " 'theoretical': False,\n",
       " 'is_stable': None,\n",
       " 'crystal_system': 'Monoclinic',\n",
       " 'space_group': 11,\n",
       " 'coordination': [['O', 6], ['Rb', 6]],\n",
       " 'bonds': [['Rb', 'O']],\n",
       " 'topology': [[1, 3, 'pcu']]}"
      ]
     },
     "execution_count": 9,
     "metadata": {},
     "output_type": "execute_result"
    }
   ],
   "source": [
    "data['mp-1206677']"
   ]
  },
  {
   "cell_type": "code",
   "execution_count": null,
   "id": "6458b108-baa6-4dcb-bd61-feb230fca346",
   "metadata": {},
   "outputs": [],
   "source": []
  }
 ],
 "metadata": {
  "kernelspec": {
   "display_name": "Python 3 (ipykernel)",
   "language": "python",
   "name": "python3"
  },
  "language_info": {
   "codemirror_mode": {
    "name": "ipython",
    "version": 3
   },
   "file_extension": ".py",
   "mimetype": "text/x-python",
   "name": "python",
   "nbconvert_exporter": "python",
   "pygments_lexer": "ipython3",
   "version": "3.10.14"
  }
 },
 "nbformat": 4,
 "nbformat_minor": 5
}
