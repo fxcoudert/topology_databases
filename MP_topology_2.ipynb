{
 "cells": [
  {
   "cell_type": "code",
   "execution_count": 1,
   "id": "3eed948c-05cd-49f2-84eb-dd1bfa81ccdf",
   "metadata": {},
   "outputs": [],
   "source": [
    "import json\n",
    "import os"
   ]
  },
  {
   "cell_type": "code",
   "execution_count": 2,
   "id": "eb93afef-4223-4ae8-b83b-5b7e424f48e5",
   "metadata": {},
   "outputs": [],
   "source": [
    "with open(\"topo_data.json\", \"r\") as file:\n",
    "    data = json.load(file)"
   ]
  },
  {
   "cell_type": "code",
   "execution_count": 3,
   "id": "fd369f62-eeda-467b-9bae-d910e5c34d34",
   "metadata": {},
   "outputs": [],
   "source": [
    "newtopo = {}\n",
    "for fname in os.listdir(\"cif/\"):\n",
    "    if not fname.endswith(\".cif.res2\"):\n",
    "        continue\n",
    "    name = fname.split(\"/\")[-1].replace(\".cif.res2\", \"\")\n",
    "    with open(\"cif/\" + fname, \"r\") as f:\n",
    "        x = json.load(f)\n",
    "        assert isinstance(x, list)\n",
    "        assert len(x) >= 1\n",
    "        assert isinstance(x[0], list)\n",
    "        assert len(x[0]) == 3\n",
    "        assert isinstance(x[0][2], str)\n",
    "        newtopo[name] = x"
   ]
  },
  {
   "cell_type": "code",
   "execution_count": 4,
   "id": "3745f3f9-2d73-45bc-a7c1-5a6d73e73c2f",
   "metadata": {},
   "outputs": [],
   "source": [
    "for k in newtopo.keys():\n",
    "    assert k in data\n",
    "    assert 'topology' in data[k]"
   ]
  },
  {
   "cell_type": "code",
   "execution_count": 5,
   "id": "fa7e53ae-06e2-4b05-ac2b-cf9ba3c36fad",
   "metadata": {},
   "outputs": [
    {
     "name": "stdout",
     "output_type": "stream",
     "text": [
      "Number of materials in old data: 170455\n",
      "Number of materials in new data: 170377\n",
      "Number of materials in common: 170377\n"
     ]
    }
   ],
   "source": [
    "print('Number of materials in old data:', len(data))\n",
    "print('Number of materials in new data:', len(newtopo))\n",
    "print('Number of materials in common:', len(set(data.keys()) & set(newtopo.keys())))"
   ]
  },
  {
   "cell_type": "code",
   "execution_count": 6,
   "id": "8ae892c7-1dbf-40ab-933c-a7c58b3b5d5f",
   "metadata": {},
   "outputs": [
    {
     "name": "stdout",
     "output_type": "stream",
     "text": [
      "Removing mp-1198724\n",
      "Removing mp-1147718\n",
      "Removing mp-683919\n",
      "Removing mp-630227\n",
      "Removing mp-705284\n",
      "Removing mp-1173444\n",
      "Removing mp-33046\n",
      "Removing mp-684964\n",
      "Removing mp-1173628\n",
      "Removing mp-685209\n",
      "Removing mp-1220654\n",
      "Removing mp-1100827\n",
      "Removing mp-555214\n",
      "Removing mp-556485\n",
      "Removing mp-557058\n",
      "Removing mp-32584\n",
      "Removing mp-673817\n",
      "Removing mp-685079\n",
      "Removing mp-685184\n",
      "Removing mp-561301\n",
      "Removing mp-1100824\n",
      "Removing mp-581693\n",
      "Removing mp-990083\n",
      "Removing mp-684621\n",
      "Removing mp-685100\n",
      "Removing mp-685158\n",
      "Removing mp-1100933\n",
      "Removing mp-1197010\n",
      "Removing mp-27907\n",
      "Removing mp-627314\n",
      "Removing mp-680086\n",
      "Removing mp-571061\n",
      "Removing mp-567252\n",
      "Removing mp-1219411\n",
      "Removing mp-569026\n",
      "Removing mp-540977\n",
      "Removing mp-684021\n",
      "Removing mp-758327\n",
      "Removing mp-1204878\n",
      "Removing mp-648414\n",
      "Removing mp-679967\n",
      "Removing mp-1100877\n",
      "Removing mp-1101031\n",
      "Removing mp-676894\n",
      "Removing mp-1100884\n",
      "Removing mp-1228750\n",
      "Removing mp-849579\n",
      "Removing mp-1203569\n",
      "Removing mp-818713\n",
      "Removing mp-990086\n",
      "Removing mp-1202132\n",
      "Removing mp-1173604\n",
      "Removing mp-1247830\n",
      "Removing mp-985595\n",
      "Removing mp-1006594\n",
      "Removing mp-675152\n",
      "Removing mp-690571\n",
      "Removing mp-686086\n",
      "Removing mp-1220298\n",
      "Removing mp-801731\n",
      "Removing mp-1196459\n",
      "Removing mp-1228482\n",
      "Removing mp-1199146\n",
      "Removing mp-1224566\n",
      "Removing mp-1046805\n",
      "Removing mp-1036532\n",
      "Removing mp-1201443\n",
      "Removing mp-1221823\n",
      "Removing mp-1227908\n",
      "Removing mp-1048012\n",
      "Removing mp-1191679\n",
      "Removing mp-1209015\n",
      "Removing mp-1843918\n",
      "Removing mp-1202625\n",
      "Removing mp-2230815\n",
      "Removing mp-3205752\n",
      "Removing mp-3208749\n",
      "Removing mp-3214184\n"
     ]
    }
   ],
   "source": [
    "for k in list(data.keys()):\n",
    "    if k not in newtopo:\n",
    "        print('Removing', k)\n",
    "        del data[k]\n",
    "    else:\n",
    "        data[k]['topology'] = newtopo[k]"
   ]
  },
  {
   "cell_type": "code",
   "execution_count": 7,
   "id": "2e74dd75-bf80-4ae9-98de-e847968fe2ed",
   "metadata": {},
   "outputs": [],
   "source": [
    "with open(\"topo_data_new.json\", \"w\") as file:\n",
    "    json.dump(data, file)"
   ]
  },
  {
   "cell_type": "code",
   "execution_count": null,
   "id": "e8a959c6-3a2e-44e7-a725-14686656efe7",
   "metadata": {},
   "outputs": [],
   "source": []
  }
 ],
 "metadata": {
  "kernelspec": {
   "display_name": "Python 3 (ipykernel)",
   "language": "python",
   "name": "python3"
  },
  "language_info": {
   "codemirror_mode": {
    "name": "ipython",
    "version": 3
   },
   "file_extension": ".py",
   "mimetype": "text/x-python",
   "name": "python",
   "nbconvert_exporter": "python",
   "pygments_lexer": "ipython3",
   "version": "3.12.9"
  }
 },
 "nbformat": 4,
 "nbformat_minor": 5
}
