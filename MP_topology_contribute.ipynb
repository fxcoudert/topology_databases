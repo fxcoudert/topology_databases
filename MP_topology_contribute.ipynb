{
 "cells": [
  {
   "cell_type": "code",
   "execution_count": 1,
   "id": "17e88883-58d0-4870-bf61-97ce7cf97226",
   "metadata": {},
   "outputs": [],
   "source": [
    "import json\n",
    "import os\n",
    "\n",
    "from mpcontribs.client import Client"
   ]
  },
  {
   "cell_type": "code",
   "execution_count": 2,
   "id": "560b8585-b623-4a92-ba9d-96ca3862b3de",
   "metadata": {},
   "outputs": [],
   "source": [
    "with open(os.path.expanduser(\"~/.mpapikey\"), \"r\") as f:\n",
    "    apikey = f.read().strip()\n",
    "\n",
    "client = Client(\n",
    "    host=\"contribs-api.materialsproject.org\",\n",
    "    apikey=apikey,\n",
    "    project=\"topology\"\n",
    ")"
   ]
  },
  {
   "cell_type": "code",
   "execution_count": 3,
   "id": "6dd363be-a30a-4ef8-8709-f6a592492aca",
   "metadata": {},
   "outputs": [],
   "source": [
    "with open(\"topo_data.json\", \"r\") as file:\n",
    "    data = json.load(file)"
   ]
  },
  {
   "cell_type": "code",
   "execution_count": 4,
   "id": "dcd21f33-d038-4c88-8e2c-e990c80d4ece",
   "metadata": {},
   "outputs": [],
   "source": [
    "def topo_summary(x):\n",
    "    if x is None:\n",
    "        return None\n",
    "\n",
    "    if len(x) != 1:\n",
    "        # Will have to deal with it later\n",
    "        return None\n",
    "\n",
    "    if \"UNKNOWN\" in x[0][2]:\n",
    "        topo = \"unnamed\"\n",
    "    elif \"unstable\" in x[0][2]:\n",
    "        topo = \"unstable\"\n",
    "    else:\n",
    "        topo = x[0][2]\n",
    "    return {\"topology\": topo, \"dimension\": x[0][1], \"multiplicity\": x[0][0]}"
   ]
  },
  {
   "cell_type": "code",
   "execution_count": 5,
   "id": "644dfdda-d0b6-4494-b39e-b5b1c4d2c222",
   "metadata": {},
   "outputs": [
    {
     "data": {
      "text/plain": [
       "[{'identifier': 'mp-1094120',\n",
       "  'data': {'topology': 'unnamed', 'dimension': 3, 'multiplicity': 1}},\n",
       " {'identifier': 'mp-1120447',\n",
       "  'data': {'topology': 'unnamed', 'dimension': 3, 'multiplicity': 1}},\n",
       " {'identifier': 'mp-1179802',\n",
       "  'data': {'topology': 'unnamed', 'dimension': 3, 'multiplicity': 1}},\n",
       " {'identifier': 'mp-1180008',\n",
       "  'data': {'topology': '0-dimensional', 'dimension': 0, 'multiplicity': 1}},\n",
       " {'identifier': 'mp-1180064',\n",
       "  'data': {'topology': '0-dimensional', 'dimension': 0, 'multiplicity': 1}},\n",
       " {'identifier': 'mp-1197903',\n",
       "  'data': {'topology': '0-dimensional', 'dimension': 0, 'multiplicity': 1}},\n",
       " {'identifier': 'mp-1244913',\n",
       "  'data': {'topology': 'unnamed', 'dimension': 3, 'multiplicity': 1}},\n",
       " {'identifier': 'mp-1244924',\n",
       "  'data': {'topology': 'unnamed', 'dimension': 3, 'multiplicity': 1}},\n",
       " {'identifier': 'mp-1244933',\n",
       "  'data': {'topology': 'unnamed', 'dimension': 3, 'multiplicity': 1}},\n",
       " {'identifier': 'mp-1244953',\n",
       "  'data': {'topology': 'unnamed', 'dimension': 3, 'multiplicity': 1}},\n",
       " {'identifier': 'mp-1244964',\n",
       "  'data': {'topology': 'unnamed', 'dimension': 3, 'multiplicity': 1}},\n",
       " {'identifier': 'mp-1244971',\n",
       "  'data': {'topology': 'unnamed', 'dimension': 3, 'multiplicity': 1}},\n",
       " {'identifier': 'mp-1244987',\n",
       "  'data': {'topology': 'unnamed', 'dimension': 3, 'multiplicity': 1}},\n",
       " {'identifier': 'mp-1244990',\n",
       "  'data': {'topology': 'unnamed', 'dimension': 3, 'multiplicity': 1}},\n",
       " {'identifier': 'mp-1245006',\n",
       "  'data': {'topology': 'unnamed', 'dimension': 3, 'multiplicity': 1}},\n",
       " {'identifier': 'mp-1245041',\n",
       "  'data': {'topology': 'unnamed', 'dimension': 3, 'multiplicity': 1}},\n",
       " {'identifier': 'mp-1245067',\n",
       "  'data': {'topology': 'unnamed', 'dimension': 3, 'multiplicity': 1}},\n",
       " {'identifier': 'mp-1245093',\n",
       "  'data': {'topology': 'unnamed', 'dimension': 3, 'multiplicity': 1}},\n",
       " {'identifier': 'mp-1245108',\n",
       "  'data': {'topology': 'unnamed', 'dimension': 3, 'multiplicity': 1}},\n",
       " {'identifier': 'mp-1245129',\n",
       "  'data': {'topology': 'unnamed', 'dimension': 3, 'multiplicity': 1}}]"
      ]
     },
     "execution_count": 5,
     "metadata": {},
     "output_type": "execute_result"
    }
   ],
   "source": [
    "contributions = []\n",
    "\n",
    "for k, v in data.items():\n",
    "    t = topo_summary(v[\"topology\"]) if v else None\n",
    "    if t is not None:\n",
    "        contributions.append({\"identifier\": k, \"data\": t})\n",
    "\n",
    "contributions[:20]"
   ]
  },
  {
   "cell_type": "code",
   "execution_count": 6,
   "id": "f574df37-7e4c-470b-ae70-646a76758a46",
   "metadata": {},
   "outputs": [
    {
     "data": {
      "text/plain": [
       "164877"
      ]
     },
     "execution_count": 6,
     "metadata": {},
     "output_type": "execute_result"
    }
   ],
   "source": [
    "len(contributions)"
   ]
  },
  {
   "cell_type": "code",
   "execution_count": 7,
   "id": "fd943653-8961-4d73-bfcc-524bf0ed2839",
   "metadata": {},
   "outputs": [
    {
     "data": {
      "application/vnd.jupyter.widget-view+json": {
       "model_id": "115c98b616734978ad0fac978ca26465",
       "version_major": 2,
       "version_minor": 0
      },
      "text/plain": [
       "Identifiers:  15%|#4        | 16/109 [00:05<00:32,  2.85it/s]"
      ]
     },
     "metadata": {},
     "output_type": "display_data"
    },
    {
     "data": {
      "application/vnd.jupyter.widget-view+json": {
       "model_id": "0c43ed0adc4f41af9cf4bf64b0124d1e",
       "version_major": 2,
       "version_minor": 0
      },
      "text/plain": [
       "Totals:   7%|6         | 83/1274 [00:05<01:11, 16.58it/s]"
      ]
     },
     "metadata": {},
     "output_type": "display_data"
    },
    {
     "data": {
      "application/vnd.jupyter.widget-view+json": {
       "model_id": "6945643f3f0041e7b7abededfc380160",
       "version_major": 2,
       "version_minor": 0
      },
      "text/plain": [
       "  1%|          | 896/163005 [00:06<19:06, 141.38it/s]"
      ]
     },
     "metadata": {},
     "output_type": "display_data"
    },
    {
     "data": {
      "application/vnd.jupyter.widget-view+json": {
       "model_id": "962fe48b11ee4b9fb742622d6f9d4e35",
       "version_major": 2,
       "version_minor": 0
      },
      "text/plain": [
       "Totals:   9%|9         | 120/1274 [00:05<00:48, 23.96it/s]"
      ]
     },
     "metadata": {},
     "output_type": "display_data"
    },
    {
     "name": "stdout",
     "output_type": "stream",
     "text": [
      "It took 15.4min to delete 163005 contributions.\n"
     ]
    },
    {
     "data": {
      "application/vnd.jupyter.widget-view+json": {
       "model_id": "26ec865a1d094fe08d2803d6ee5ab9a6",
       "version_major": 2,
       "version_minor": 0
      },
      "text/plain": [
       "Prepare:   0%|          | 0/164877 [00:00<?, ?it/s]"
      ]
     },
     "metadata": {},
     "output_type": "display_data"
    },
    {
     "data": {
      "application/vnd.jupyter.widget-view+json": {
       "model_id": "3683bc51b37349f9b16dbb9d573fdd44",
       "version_major": 2,
       "version_minor": 0
      },
      "text/plain": [
       "Submit:   4%|4         | 7000/164877 [00:15<05:43, 460.16it/s]"
      ]
     },
     "metadata": {},
     "output_type": "display_data"
    },
    {
     "name": "stdout",
     "output_type": "stream",
     "text": [
      "It took 17.0min to submit 164877/164877 contributions.\n"
     ]
    },
    {
     "data": {
      "text/plain": [
       "{'count': 1}"
      ]
     },
     "execution_count": 7,
     "metadata": {},
     "output_type": "execute_result"
    }
   ],
   "source": [
    "client.init_columns({\"topology\": None, \"dimension\": \"\", \"multiplicity\": \"\"})\n",
    "client.delete_contributions()\n",
    "client.submit_contributions(contributions)\n",
    "client.init_columns({\"topology\": None, \"dimension\": \"\", \"multiplicity\": \"\"})"
   ]
  },
  {
   "cell_type": "code",
   "execution_count": null,
   "id": "1edc3866-199f-4831-955e-70e585360a82",
   "metadata": {},
   "outputs": [],
   "source": []
  },
  {
   "cell_type": "code",
   "execution_count": 8,
   "id": "6838c0fc-da60-43e7-b7f0-be9366afa21c",
   "metadata": {},
   "outputs": [
    {
     "data": {
      "text/plain": [
       "{'material_id': 'mp-1206677',\n",
       " 'formula_pretty': 'Rb2O2',\n",
       " 'nelements': 2,\n",
       " 'theoretical': False,\n",
       " 'is_stable': None,\n",
       " 'crystal_system': 'Monoclinic',\n",
       " 'space_group': 11,\n",
       " 'coordination': [['O', 6], ['Rb', 6]],\n",
       " 'bonds': [['Rb', 'O']],\n",
       " 'topology': [[1, 3, 'pcu']]}"
      ]
     },
     "execution_count": 8,
     "metadata": {},
     "output_type": "execute_result"
    }
   ],
   "source": [
    "data['mp-1206677']"
   ]
  },
  {
   "cell_type": "code",
   "execution_count": null,
   "id": "6458b108-baa6-4dcb-bd61-feb230fca346",
   "metadata": {},
   "outputs": [],
   "source": []
  }
 ],
 "metadata": {
  "kernelspec": {
   "display_name": "Python 3 (ipykernel)",
   "language": "python",
   "name": "python3"
  },
  "language_info": {
   "codemirror_mode": {
    "name": "ipython",
    "version": 3
   },
   "file_extension": ".py",
   "mimetype": "text/x-python",
   "name": "python",
   "nbconvert_exporter": "python",
   "pygments_lexer": "ipython3",
   "version": "3.12.9"
  }
 },
 "nbformat": 4,
 "nbformat_minor": 5
}
