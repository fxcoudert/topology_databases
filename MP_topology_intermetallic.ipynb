{
 "cells": [
  {
   "cell_type": "markdown",
   "id": "9d9ce041-19f8-485b-9b2a-3e257820c43f",
   "metadata": {},
   "source": [
    "# Bonding and topology determination in the Materials Project database\n",
    "\n",
    "In this file, we test the influence of the two CrystalNN options to handle intermetallic systems."
   ]
  },
  {
   "cell_type": "code",
   "execution_count": 1,
   "id": "65784a98-0478-4827-ba8a-69ec0431e189",
   "metadata": {},
   "outputs": [
    {
     "name": "stdout",
     "output_type": "stream",
     "text": [
      "Using pymatgen version: 2025.2.18\n"
     ]
    }
   ],
   "source": [
    "import json\n",
    "import os\n",
    "import random\n",
    "import warnings\n",
    "\n",
    "import pymatgen\n",
    "from pymatgen.analysis.local_env import CrystalNN\n",
    "from pymatgen.core import Structure\n",
    "from pymatgen.ext.matproj import MPRester\n",
    "\n",
    "from tqdm.notebook import tqdm\n",
    "\n",
    "random.seed(\"Call me Ishmael\")\n",
    "print(\"Using pymatgen version:\", pymatgen.core.__version__)"
   ]
  },
  {
   "cell_type": "code",
   "execution_count": 2,
   "id": "a4a50d5a-f489-4c1c-a531-89b383f8f46c",
   "metadata": {},
   "outputs": [],
   "source": [
    "with open(os.path.expanduser(\"~/.mpapikey\"), \"r\") as f:\n",
    "    apikey = f.read().strip()"
   ]
  },
  {
   "cell_type": "code",
   "execution_count": 3,
   "id": "adc46520-ecac-4099-8ab1-c873efe494ea",
   "metadata": {},
   "outputs": [],
   "source": [
    "crystallnn = CrystalNN()\n",
    "crystallnn_noweight = CrystalNN(x_diff_weight = 0)\n",
    "\n",
    "\n",
    "def make_labels_unique(struct):\n",
    "    from collections import Counter\n",
    "    \n",
    "    labels = Counter(site.label for site in struct.sites)\n",
    "    counter = {}\n",
    "    for i, site in enumerate(struct.sites):\n",
    "        label = site.label\n",
    "        if labels[label] > 1 or label.isalpha():\n",
    "            c = counter.get(label, 0)\n",
    "            site.label = f\"{label}{c}\" if label.isalpha() else f\"{label}_{c}\"\n",
    "            c = c + 1\n",
    "            counter[label] = c\n",
    "\n",
    "\n",
    "def analyse_bonding(mat, method = \"CrystalNN\"):\n",
    "    if method != \"CrystalNN\" and method != \"CrystalNN_noweight\":\n",
    "        raise ValueError(\"invalid method name\")\n",
    "\n",
    "    # Magnetic moments trigger a bug in CifWriter, so we remove them here\n",
    "    # https://github.com/materialsproject/pymatgen/issues/3772\n",
    "    if \"magmom\" in mat.structure.site_properties:\n",
    "        mat.structure.remove_site_property(\"magmom\")\n",
    "\n",
    "    # All labels should be unique (otherwise bond specifications will fail)\n",
    "    make_labels_unique(mat.structure)\n",
    "    labels = [site.label for site in mat.structure.sites]\n",
    "    if len(labels) != len(set(labels)):\n",
    "        raise ValueError(\"labels are not unique in structure\")\n",
    "\n",
    "    while True:\n",
    "        bonded_struct = None\n",
    "        with warnings.catch_warnings():\n",
    "            warnings.simplefilter(\"ignore\")\n",
    "            try:\n",
    "                if method == \"CrystalNN_noweight\":\n",
    "                    bonded_struct = crystallnn_noweight.get_bonded_structure(mat.structure)\n",
    "                else:\n",
    "                    bonded_struct = crystallnn.get_bonded_structure(mat.structure)\n",
    "\n",
    "            except Exception as e:\n",
    "                print(f\"{method} failed for {mat.material_id}: {e}\")\n",
    "                return None\n",
    "\n",
    "        coord = set()\n",
    "        bonds = set()\n",
    "        rerun_flag = False\n",
    "        for n, site in enumerate(bonded_struct.structure.sites):\n",
    "            neighbors = bonded_struct.get_connected_sites(n)\n",
    "            # We cannot use get_coordination_of_site() because of a bug:\n",
    "            # https://github.com/materialsproject/pymatgen/issues/3888#issuecomment-2232571072\n",
    "            coord.add((str(site.specie), len(neighbors)))\n",
    "            for connected in neighbors:\n",
    "                if site.specie <= connected.site.specie:\n",
    "                    bonds.add((str(site.specie), str(connected.site.specie)))\n",
    "                if site.label == connected.site.label:\n",
    "                    # If an atom is bonded to its own image, then CrystalNets will not like it\n",
    "                    # and we need to make rerun on a supercell\n",
    "                    rerun_flag = True\n",
    "\n",
    "        if rerun_flag:\n",
    "            # If we found an atom bonded to itself, \n",
    "            mat.structure.make_supercell(2, in_place=True)\n",
    "            make_labels_unique(mat.structure)\n",
    "        else:\n",
    "            # Otherwise we're done\n",
    "            break\n",
    "\n",
    "    return {\"material_id\": str(mat.material_id),\n",
    "            \"formula_pretty\": mat.formula_pretty,\n",
    "            \"nelements\": mat.nelements,\n",
    "            \"theoretical\": mat.theoretical,\n",
    "            \"is_stable\": mat.is_stable,\n",
    "            \"crystal_system\": str(mat.symmetry.crystal_system),\n",
    "            \"space_group\": mat.symmetry.number,\n",
    "            \"coordination\": coord,\n",
    "            \"bonds\": bonds}"
   ]
  },
  {
   "cell_type": "code",
   "execution_count": 4,
   "id": "44d94499-80e1-416d-9d78-e9af43193220",
   "metadata": {},
   "outputs": [
    {
     "data": {
      "application/vnd.jupyter.widget-view+json": {
       "model_id": "f7b7dc1b50a549a2879f1609e503a8a9",
       "version_major": 2,
       "version_minor": 0
      },
      "text/plain": [
       "Retrieving SummaryDoc documents:   0%|          | 0/1 [00:00<?, ?it/s]"
      ]
     },
     "metadata": {},
     "output_type": "display_data"
    },
    {
     "name": "stdout",
     "output_type": "stream",
     "text": [
      "{'material_id': 'mp-3934', 'formula_pretty': 'Cu3PS4', 'nelements': 3, 'theoretical': False, 'is_stable': None, 'crystal_system': 'Orthorhombic', 'space_group': 31, 'coordination': {('S', 4), ('Cu', 4), ('P', 4)}, 'bonds': {('Cu', 'S'), ('P', 'S')}}\n",
      "{'material_id': 'mp-3934', 'formula_pretty': 'Cu3PS4', 'nelements': 3, 'theoretical': False, 'is_stable': None, 'crystal_system': 'Orthorhombic', 'space_group': 31, 'coordination': {('S', 4), ('Cu', 4), ('P', 4)}, 'bonds': {('Cu', 'S'), ('P', 'S')}}\n"
     ]
    }
   ],
   "source": [
    "# Test our analysis method on one material\n",
    "with MPRester(apikey) as mpr:\n",
    "    mp_data = mpr.materials.summary.search(\n",
    "        material_ids=[\"mp-3934\"],\n",
    "        fields=[\"material_id\", \"builder_meta\", \"deprecated\", \"formula_pretty\", \"nelements\", \"elements\", \"structure\", \"theoretical\", \"symmetry\"]\n",
    "    )\n",
    "\n",
    "    assert len(mp_data) == 1\n",
    "    res = analyse_bonding(mp_data[0])\n",
    "    print(res)\n",
    "\n",
    "    res = analyse_bonding(mp_data[0], \"CrystalNN_noweight\")\n",
    "    print(res)"
   ]
  },
  {
   "cell_type": "code",
   "execution_count": 5,
   "id": "269cdd7d-2275-4981-8de3-ccbbdcd8e084",
   "metadata": {},
   "outputs": [
    {
     "data": {
      "application/vnd.jupyter.widget-view+json": {
       "model_id": "2df563134d804cb9991e15dcf7210912",
       "version_major": 2,
       "version_minor": 0
      },
      "text/plain": [
       "Retrieving SummaryDoc documents:   0%|          | 0/170470 [00:00<?, ?it/s]"
      ]
     },
     "metadata": {},
     "output_type": "display_data"
    },
    {
     "name": "stdout",
     "output_type": "stream",
     "text": [
      "Database version 2025.02.12.post\n",
      "Number of materials found: 170470\n"
     ]
    }
   ],
   "source": [
    "with MPRester(apikey) as mpr:\n",
    "    mp_data = mpr.materials.summary.search(\n",
    "        deprecated=False,\n",
    "        fields=[\"material_id\", \"builder_meta\", \"deprecated\", \"formula_pretty\", \"nelements\", \"elements\", \"structure\", \"theoretical\", \"symmetry\"]\n",
    "    )\n",
    "\n",
    "print(\"Database version\", mpr.get_database_version())\n",
    "print(\"Number of materials found:\", len(mp_data))\n",
    "\n",
    "# Check that we did not get any deprecated material\n",
    "# See https://github.com/materialsproject/api/issues/964\n",
    "assert sum(1 for x in mp_data if x.deprecated) == 0"
   ]
  },
  {
   "cell_type": "code",
   "execution_count": 6,
   "id": "de34f1b8-73f3-49e3-838d-846f6b1a1bfa",
   "metadata": {},
   "outputs": [],
   "source": [
    "nonmetals = {'O', 'S', 'Se', 'Te', 'Po', 'F', 'Cl', 'Br', 'I', 'At', 'N', 'P', 'As', 'Sb', 'C', 'Si', 'Ge', 'B', 'H', 'He', 'Ne', 'Ar', 'Kr', 'Xe'}\n",
    "\n",
    "def isIntermetallic(struct):\n",
    "    el = set(str(x) for x in struct.elements)\n",
    "    return len(el & nonmetals) == 0"
   ]
  },
  {
   "cell_type": "code",
   "execution_count": 7,
   "id": "1fa9a785-720e-480b-846c-1ca09fb6cd1c",
   "metadata": {},
   "outputs": [
    {
     "data": {
      "text/plain": [
       "0.1617000058661348"
      ]
     },
     "execution_count": 7,
     "metadata": {},
     "output_type": "execute_result"
    }
   ],
   "source": [
    "sum(1 for x in mp_data if isIntermetallic(x)) / len(mp_data)"
   ]
  },
  {
   "cell_type": "code",
   "execution_count": 8,
   "id": "1a7912b6-c84e-43a1-ad99-978a8b3443ab",
   "metadata": {},
   "outputs": [],
   "source": [
    "intermetallics = [x for x in mp_data if isIntermetallic(x)]"
   ]
  },
  {
   "cell_type": "code",
   "execution_count": 9,
   "id": "692bbce6-6494-480f-aa4a-78f1d98dc53a",
   "metadata": {
    "scrolled": true
   },
   "outputs": [
    {
     "data": {
      "application/vnd.jupyter.widget-view+json": {
       "model_id": "dbc398446c504808b7af494eb5c848ff",
       "version_major": 2,
       "version_minor": 0
      },
      "text/plain": [
       "  0%|          | 0/27565 [00:00<?, ?it/s]"
      ]
     },
     "metadata": {},
     "output_type": "display_data"
    },
    {
     "name": "stdout",
     "output_type": "stream",
     "text": [
      "CrystalNN failed for mp-1210439: No Voronoi neighbors found for site - try increasing cutoff\n",
      "CrystalNN failed for mp-1212347: No Voronoi neighbors found for site - try increasing cutoff\n",
      "Number of systems analyzed: 27563\n"
     ]
    }
   ],
   "source": [
    "data = {}\n",
    "\n",
    "with warnings.catch_warnings():\n",
    "    warnings.filterwarnings(\"ignore\", message=\"No Pauling electronegativity\")\n",
    "    for mat in tqdm(intermetallics, smoothing=0.01, mininterval=1):\n",
    "        x = analyse_bonding(mat)\n",
    "        if x is not None:\n",
    "            data[mat.material_id] = x\n",
    "\n",
    "print(\"Number of systems analyzed:\", len(data))"
   ]
  },
  {
   "cell_type": "code",
   "execution_count": 10,
   "id": "ea33c87a-afd5-4960-b7e0-9481be6f06fc",
   "metadata": {},
   "outputs": [
    {
     "data": {
      "application/vnd.jupyter.widget-view+json": {
       "model_id": "03b5c86b2cc74bc5a7e399574410fd0b",
       "version_major": 2,
       "version_minor": 0
      },
      "text/plain": [
       "  0%|          | 0/27565 [00:00<?, ?it/s]"
      ]
     },
     "metadata": {},
     "output_type": "display_data"
    },
    {
     "name": "stdout",
     "output_type": "stream",
     "text": [
      "CrystalNN_noweight failed for mp-1210439: No Voronoi neighbors found for site - try increasing cutoff\n",
      "CrystalNN_noweight failed for mp-1212347: No Voronoi neighbors found for site - try increasing cutoff\n",
      "Number of systems analyzed: 27563\n"
     ]
    }
   ],
   "source": [
    "data_noweight = {}\n",
    "\n",
    "with warnings.catch_warnings():\n",
    "    warnings.filterwarnings(\"ignore\", message=\"No Pauling electronegativity\")\n",
    "    for mat in tqdm(intermetallics, smoothing=0.01, mininterval=1):\n",
    "        x = analyse_bonding(mat, \"CrystalNN_noweight\")\n",
    "        if x is not None:\n",
    "            data_noweight[mat.material_id] = x\n",
    "\n",
    "print(\"Number of systems analyzed:\", len(data_noweight))"
   ]
  },
  {
   "cell_type": "code",
   "execution_count": 11,
   "id": "7552bda7-ab9c-4f0c-bf2e-6c5b710c8a18",
   "metadata": {},
   "outputs": [
    {
     "data": {
      "text/plain": [
       "11477"
      ]
     },
     "execution_count": 11,
     "metadata": {},
     "output_type": "execute_result"
    }
   ],
   "source": [
    "sum(1 for x in data.keys() if data[x] != data_noweight[x])"
   ]
  },
  {
   "cell_type": "code",
   "execution_count": 12,
   "id": "f6292b49-e640-4f96-8343-737de6a61aa1",
   "metadata": {},
   "outputs": [
    {
     "data": {
      "text/plain": [
       "[MPID(mp-1104792),\n",
       " MPID(mp-11241),\n",
       " MPID(mp-11252),\n",
       " MPID(mp-11454),\n",
       " MPID(mp-11493),\n",
       " MPID(mp-1181275),\n",
       " MPID(mp-1183189),\n",
       " MPID(mp-1183278),\n",
       " MPID(mp-1183511),\n",
       " MPID(mp-1183643)]"
      ]
     },
     "execution_count": 12,
     "metadata": {},
     "output_type": "execute_result"
    }
   ],
   "source": [
    "differences = [x for x in data.keys() if data[x] != data_noweight[x]]\n",
    "differences[:10]"
   ]
  },
  {
   "cell_type": "code",
   "execution_count": 13,
   "id": "faa4eca1-a209-4c2b-95e6-c5e39e1b9675",
   "metadata": {},
   "outputs": [
    {
     "data": {
      "text/plain": [
       "{'material_id': 'mp-1183278',\n",
       " 'formula_pretty': 'AlPb3',\n",
       " 'nelements': 2,\n",
       " 'theoretical': True,\n",
       " 'is_stable': None,\n",
       " 'crystal_system': 'Tetragonal',\n",
       " 'space_group': 139,\n",
       " 'coordination': {('Al', 4), ('Pb', 4), ('Pb', 12)},\n",
       " 'bonds': {('Al', 'Pb'), ('Pb', 'Pb')}}"
      ]
     },
     "execution_count": 13,
     "metadata": {},
     "output_type": "execute_result"
    }
   ],
   "source": [
    "data['mp-1183278']"
   ]
  },
  {
   "cell_type": "code",
   "execution_count": 14,
   "id": "90c3e7f2-59bc-4904-b435-287744ef8b94",
   "metadata": {},
   "outputs": [
    {
     "data": {
      "text/plain": [
       "{'material_id': 'mp-1183278',\n",
       " 'formula_pretty': 'AlPb3',\n",
       " 'nelements': 2,\n",
       " 'theoretical': True,\n",
       " 'is_stable': None,\n",
       " 'crystal_system': 'Tetragonal',\n",
       " 'space_group': 139,\n",
       " 'coordination': {('Al', 4), ('Pb', 8), ('Pb', 12)},\n",
       " 'bonds': {('Al', 'Pb'), ('Pb', 'Pb')}}"
      ]
     },
     "execution_count": 14,
     "metadata": {},
     "output_type": "execute_result"
    }
   ],
   "source": [
    "data_noweight['mp-1183278']"
   ]
  },
  {
   "cell_type": "code",
   "execution_count": 15,
   "id": "6baf001b-80a3-4e02-838f-6cfa4d647295",
   "metadata": {},
   "outputs": [
    {
     "data": {
      "text/plain": [
       "0.41639153938250556"
      ]
     },
     "execution_count": 15,
     "metadata": {},
     "output_type": "execute_result"
    }
   ],
   "source": [
    "sum(1 for x in data.keys() if data[x] != data_noweight[x]) / len(data)"
   ]
  },
  {
   "cell_type": "code",
   "execution_count": null,
   "id": "b1fd5f5e-583a-4319-824e-780201440810",
   "metadata": {},
   "outputs": [],
   "source": []
  }
 ],
 "metadata": {
  "kernelspec": {
   "display_name": "Python 3 (ipykernel)",
   "language": "python",
   "name": "python3"
  },
  "language_info": {
   "codemirror_mode": {
    "name": "ipython",
    "version": 3
   },
   "file_extension": ".py",
   "mimetype": "text/x-python",
   "name": "python",
   "nbconvert_exporter": "python",
   "pygments_lexer": "ipython3",
   "version": "3.12.9"
  }
 },
 "nbformat": 4,
 "nbformat_minor": 5
}
