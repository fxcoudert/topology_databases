{
 "cells": [
  {
   "cell_type": "code",
   "execution_count": 1,
   "id": "8e137ed3-be74-4f45-8a56-b63ab274a82c",
   "metadata": {},
   "outputs": [],
   "source": [
    "from collections import Counter\n",
    "import json\n",
    "import os\n",
    "\n",
    "from pymatgen.ext.matproj import MPRester\n",
    "\n",
    "import matplotlib.pyplot as plt\n",
    "import numpy as np\n",
    "import pandas as pd\n",
    "import seaborn as sns"
   ]
  },
  {
   "cell_type": "code",
   "execution_count": 2,
   "id": "a279685d-38df-4c68-816a-1ff1d74746c8",
   "metadata": {},
   "outputs": [],
   "source": [
    "with open(\"topo_data.json\", \"r\") as file:\n",
    "    data = json.load(file)"
   ]
  },
  {
   "cell_type": "code",
   "execution_count": 3,
   "id": "cce97c4f-307c-4f59-b4eb-b702cece39a2",
   "metadata": {},
   "outputs": [],
   "source": [
    "with open(os.path.expanduser(\"~/.mpapikey\"), \"r\") as f:\n",
    "    apikey = f.read().strip()"
   ]
  },
  {
   "cell_type": "code",
   "execution_count": null,
   "id": "c2075765-8be9-4840-aa8a-769d2e64a3a0",
   "metadata": {},
   "outputs": [],
   "source": []
  },
  {
   "cell_type": "code",
   "execution_count": 4,
   "id": "de3c497a-8fe5-4fe8-a617-4942a36bde15",
   "metadata": {},
   "outputs": [
    {
     "data": {
      "text/plain": [
       "7"
      ]
     },
     "execution_count": 4,
     "metadata": {},
     "output_type": "execute_result"
    }
   ],
   "source": [
    "rna = [k for k, v in data.items() if len(v['topology']) == 1 and v['topology'][0][2] == 'rna']\n",
    "len(rna)"
   ]
  },
  {
   "cell_type": "code",
   "execution_count": 5,
   "id": "ec8cc757-d5c6-4ba6-a721-acb5782a0a0a",
   "metadata": {},
   "outputs": [
    {
     "data": {
      "text/plain": [
       "16"
      ]
     },
     "execution_count": 5,
     "metadata": {},
     "output_type": "execute_result"
    }
   ],
   "source": [
    "bpq = [k for k, v in data.items() if len(v['topology']) == 1 and v['topology'][0][2] == 'bpq']\n",
    "len(bpq)"
   ]
  },
  {
   "cell_type": "code",
   "execution_count": 6,
   "id": "b359d355-5ba4-4653-b9e3-1724158af834",
   "metadata": {},
   "outputs": [
    {
     "data": {
      "text/plain": [
       "['mp-759957',\n",
       " 'mp-31237',\n",
       " 'mp-1188385',\n",
       " 'mp-758075',\n",
       " 'mp-725680',\n",
       " 'mp-1210967',\n",
       " 'mp-1189240',\n",
       " 'mp-763244',\n",
       " 'mp-767419',\n",
       " 'mp-504945',\n",
       " 'mp-510638',\n",
       " 'mp-24142',\n",
       " 'mp-697263',\n",
       " 'mp-23768',\n",
       " 'mp-505254',\n",
       " 'mp-1193110']"
      ]
     },
     "execution_count": 6,
     "metadata": {},
     "output_type": "execute_result"
    }
   ],
   "source": [
    "bpq"
   ]
  },
  {
   "cell_type": "code",
   "execution_count": null,
   "id": "987e8d89-e8c5-4388-b450-75b4e36aacac",
   "metadata": {},
   "outputs": [],
   "source": []
  },
  {
   "cell_type": "code",
   "execution_count": 7,
   "id": "e258e680-c873-410b-be5c-70014fb1d0fb",
   "metadata": {},
   "outputs": [
    {
     "data": {
      "application/vnd.jupyter.widget-view+json": {
       "model_id": "a1dee7e86cb44ea3b59f4a3794833771",
       "version_major": 2,
       "version_minor": 0
      },
      "text/plain": [
       "Retrieving SummaryDoc documents:   0%|          | 0/23 [00:00<?, ?it/s]"
      ]
     },
     "metadata": {},
     "output_type": "display_data"
    }
   ],
   "source": [
    "with MPRester(apikey) as mpr:\n",
    "    docs = mpr.materials.summary.search(\n",
    "        material_ids=rna + bpq,\n",
    "        fields=[\"material_id\", \"formula_pretty\", \"structure\", \"theoretical\", \"symmetry\"]\n",
    "    )"
   ]
  },
  {
   "cell_type": "code",
   "execution_count": 8,
   "id": "19e80091-11aa-4576-92a9-09894bed6dfa",
   "metadata": {},
   "outputs": [
    {
     "data": {
      "text/plain": [
       "[('NaPH2OF6', False, MPID(mp-767419), 'Pnna'),\n",
       " ('MnFeH4O2F5', False, MPID(mp-504945), 'Imma'),\n",
       " ('MnGaH4O2F5', False, MPID(mp-510638), 'Imma'),\n",
       " ('MgAlH4O2F5', False, MPID(mp-24142), 'Imma'),\n",
       " ('LiAsH2OF6', False, MPID(mp-697263), 'Imma'),\n",
       " ('LiNO3', True, MPID(mp-696822), 'C2/c'),\n",
       " ('TaAsO5', True, MPID(mp-1346171), 'P2_12_12_1'),\n",
       " ('AgH9O5', True, MPID(mp-769296), 'P2_12_12_1'),\n",
       " ('BiAsO5', True, MPID(mp-1347378), 'P2_12_12_1'),\n",
       " ('SbAsO5', True, MPID(mp-1340007), 'P2_12_12_1'),\n",
       " ('Fe2H4O2F5', False, MPID(mp-758075), 'Imma'),\n",
       " ('NaPOF6', False, MPID(mp-725680), 'Imma'),\n",
       " ('MnVO2F5', True, MPID(mp-1210967), 'Imma'),\n",
       " ('MgAlO2F5', False, MPID(mp-1189240), 'Imma'),\n",
       " ('ZnFeH4O2F5', False, MPID(mp-763244), 'Imm2'),\n",
       " ('CuHIO4', False, MPID(mp-697072), 'Pnma'),\n",
       " ('NaH6C4SN3O5', False, MPID(mp-1197676), 'C2/c'),\n",
       " ('V2F7', True, MPID(mp-759957), 'Imma'),\n",
       " ('CuAsF7', False, MPID(mp-31237), 'Imma'),\n",
       " ('Fe2O2F5', False, MPID(mp-1188385), 'Imma'),\n",
       " ('AlZnH4O2F5', False, MPID(mp-23768), 'Imma'),\n",
       " ('MnVH4O2F5', False, MPID(mp-505254), 'Imma'),\n",
       " ('AlZnH4O2F5', False, MPID(mp-1193110), 'Imma')]"
      ]
     },
     "execution_count": 8,
     "metadata": {},
     "output_type": "execute_result"
    }
   ],
   "source": [
    "[(d.formula_pretty, d.theoretical, d.material_id, d.symmetry.symbol) for d in docs]"
   ]
  },
  {
   "cell_type": "code",
   "execution_count": 9,
   "id": "1578d01b-e6cf-4970-b10b-47a4a0802dae",
   "metadata": {},
   "outputs": [
    {
     "data": {
      "text/plain": [
       "23"
      ]
     },
     "execution_count": 9,
     "metadata": {},
     "output_type": "execute_result"
    }
   ],
   "source": [
    "len(docs)"
   ]
  },
  {
   "cell_type": "code",
   "execution_count": 10,
   "id": "d997db01-8335-4cc7-a0fc-393e455399ae",
   "metadata": {},
   "outputs": [
    {
     "data": {
      "text/plain": [
       "7"
      ]
     },
     "execution_count": 10,
     "metadata": {},
     "output_type": "execute_result"
    }
   ],
   "source": [
    "sum(1 for doc in docs if doc.theoretical)"
   ]
  },
  {
   "cell_type": "code",
   "execution_count": null,
   "id": "e6e583bd-a3ff-484d-aea7-6f58eb60e262",
   "metadata": {},
   "outputs": [],
   "source": []
  },
  {
   "cell_type": "code",
   "execution_count": null,
   "id": "ce38073b-a4ce-436c-915c-394d7ad67998",
   "metadata": {},
   "outputs": [],
   "source": []
  },
  {
   "cell_type": "code",
   "execution_count": 11,
   "id": "91f02d0f-2754-4489-88a0-5376292c48cc",
   "metadata": {},
   "outputs": [
    {
     "data": {
      "text/plain": [
       "179"
      ]
     },
     "execution_count": 11,
     "metadata": {},
     "output_type": "execute_result"
    }
   ],
   "source": [
    "fsn = [k for k, v in data.items() if len(v['topology']) == 1 and v['topology'][0][2] == 'fsn']\n",
    "len(fsn)"
   ]
  },
  {
   "cell_type": "code",
   "execution_count": 12,
   "id": "5c4180c6-9269-4825-af25-45989146f47f",
   "metadata": {},
   "outputs": [
    {
     "data": {
      "application/vnd.jupyter.widget-view+json": {
       "model_id": "61c439a54567473086e1107ec47efe38",
       "version_major": 2,
       "version_minor": 0
      },
      "text/plain": [
       "Retrieving SummaryDoc documents:   0%|          | 0/179 [00:00<?, ?it/s]"
      ]
     },
     "metadata": {},
     "output_type": "display_data"
    }
   ],
   "source": [
    "with MPRester(apikey) as mpr:\n",
    "    docs_fsn = mpr.materials.summary.search(\n",
    "        material_ids=fsn,\n",
    "        fields=[\"material_id\", \"formula_pretty\", \"structure\", \"theoretical\", \"symmetry\"]\n",
    "    )"
   ]
  },
  {
   "cell_type": "code",
   "execution_count": 13,
   "id": "8d80d6c2-b004-4b70-bbc7-6ab2bd593972",
   "metadata": {},
   "outputs": [
    {
     "name": "stdout",
     "output_type": "stream",
     "text": [
      "Number of theoretical structures: 85\n",
      "Number of experimental structures: 94\n"
     ]
    }
   ],
   "source": [
    "print(\"Number of theoretical structures:\", sum(1 for doc in docs_fsn if doc.theoretical))\n",
    "print(\"Number of experimental structures:\", sum(1 for doc in docs_fsn if not doc.theoretical))"
   ]
  },
  {
   "cell_type": "code",
   "execution_count": 14,
   "id": "ad19d653-10dd-4b36-8be1-e209be4b3f68",
   "metadata": {},
   "outputs": [
    {
     "data": {
      "text/plain": [
       "[('CoTe2', False, MPID(mp-1103359), 'Pa-3'),\n",
       " ('CuSe2', False, MPID(mp-2280), 'Pa-3'),\n",
       " ('Te2Os', False, MPID(mp-2142), 'Pa-3'),\n",
       " ('RhSe2', False, MPID(mp-983), 'Pa-3'),\n",
       " ('Te2Rh', False, MPID(mp-754), 'Pa-3'),\n",
       " ('UC2', False, MPID(mp-1102444), 'Pa-3'),\n",
       " ('NiP2', False, MPID(mp-22619), 'Pa-3'),\n",
       " ('Bi2Pt', False, MPID(mp-22864), 'Pa-3'),\n",
       " ('Sb2Pd', False, MPID(mp-1356), 'Pa-3'),\n",
       " ('NiS2', False, MPID(mp-2282), 'Pa-3'),\n",
       " ('SiP2', False, MPID(mp-21065), 'Pa-3'),\n",
       " ('SiAs2', False, MPID(mp-21268), 'Pa-3'),\n",
       " ('CoSe2', False, MPID(mp-22309), 'Pa-3'),\n",
       " ('CuS2', False, MPID(mp-1068), 'Pa-3'),\n",
       " ('NiTe2', False, MPID(mp-1102324), 'Pa-3'),\n",
       " ('ZnO2', False, MPID(mp-8484), 'Pa-3'),\n",
       " ('As2Pt', False, MPID(mp-2513), 'Pa-3'),\n",
       " ('As2Pd', False, MPID(mp-20465), 'Pa-3'),\n",
       " ('CdSe2', False, MPID(mp-1095493), 'Pa-3'),\n",
       " ('RhS2', False, MPID(mp-22555), 'Pa-3'),\n",
       " ('MgO2', False, MPID(mp-2589), 'Pa-3'),\n",
       " ('RuSe2', False, MPID(mp-1922), 'Pa-3'),\n",
       " ('CuTe2', False, MPID(mp-1103235), 'Pa-3'),\n",
       " ('NiSe2', False, MPID(mp-20901), 'Pa-3'),\n",
       " ('RuS2', False, MPID(mp-2030), 'Pa-3'),\n",
       " ('NiAs2', False, MPID(mp-21873), 'Pa-3'),\n",
       " ('CdS2', False, MPID(mp-1095440), 'Pa-3'),\n",
       " ('Sb2Au', False, MPID(mp-738), 'Pa-3'),\n",
       " ('MnTe2', False, MPID(mp-21893), 'Pa-3'),\n",
       " ('P2Pt', False, MPID(mp-730), 'Pa-3'),\n",
       " ('MgTe2', False, MPID(mp-2604), 'Pa-3'),\n",
       " ('ZnSe2', False, MPID(mp-1102515), 'Pa-3'),\n",
       " ('ThC2', False, MPID(mp-10720), 'Pa-3'),\n",
       " ('OsSe2', False, MPID(mp-2480), 'Pa-3'),\n",
       " ('MgSe2', False, MPID(mp-1103590), 'Pa-3'),\n",
       " ('PRhSe', False, MPID(mp-1102531), 'P2_13'),\n",
       " ('SbPtS', False, MPID(mp-1102850), 'P2_13'),\n",
       " ('SbPdS', False, MPID(mp-1102284), 'P2_13'),\n",
       " ('SbPtSe', False, MPID(mp-1101950), 'P2_13'),\n",
       " ('SiP2O7', False, MPID(mp-18293), 'Pa-3'),\n",
       " ('P2WO7', False, MPID(mp-505687), 'Pa-3'),\n",
       " ('ThP2O7', False, MPID(mp-5156), 'Pa-3'),\n",
       " ('MoP2O7', False, MPID(mp-505406), 'Pa-3'),\n",
       " ('CeP2O7', False, MPID(mp-22524), 'Pa-3'),\n",
       " ('TiP2O7', False, MPID(mp-1200136), 'Pa-3'),\n",
       " ('ZrV2O7', False, MPID(mp-554326), 'Pa-3'),\n",
       " ('SnP2O7', False, MPID(mp-17887), 'Pa-3'),\n",
       " ('ZrP2O7', False, MPID(mp-5024), 'Pa-3'),\n",
       " ('HfV2O7', False, MPID(mp-505679), 'Pa-3'),\n",
       " ('SbIrS', False, MPID(mp-9270), 'Pca2_1'),\n",
       " ('CoAsS', False, MPID(mp-4627), 'Pca2_1'),\n",
       " ('GePtSe', False, MPID(mp-20817), 'Pca2_1'),\n",
       " ('GePtS', False, MPID(mp-1101755), 'Pca2_1'),\n",
       " ('SiPtSe', False, MPID(mp-1103261), 'Pca2_1'),\n",
       " ('InSb(P2O7)2', False, MPID(mp-1196350), 'Pna2_1'),\n",
       " ('NiPS', False, MPID(mp-505820), 'P2_13'),\n",
       " ('SbPdSe', False, MPID(mp-4368), 'P2_13'),\n",
       " ('BiIrS', False, MPID(mp-1102836), 'P2_13'),\n",
       " ('BiTePd', False, MPID(mp-29011), 'P2_13'),\n",
       " ('BiTePt', False, MPID(mp-29638), 'P2_13'),\n",
       " ('SbTeIr', False, MPID(mp-1102430), 'P2_13'),\n",
       " ('SbIrS', False, MPID(mp-8630), 'P2_13'),\n",
       " ('NiAsS', False, MPID(mp-3830), 'P2_13'),\n",
       " ('NiBiSe', False, MPID(mp-1103017), 'P2_13'),\n",
       " ('NiSbSe', False, MPID(mp-10847), 'P2_13'),\n",
       " ('BiRhS', False, MPID(mp-1103098), 'P2_13'),\n",
       " ('Zr(WO4)2', False, MPID(mp-18778), 'P2_13'),\n",
       " ('AsPdSe', False, MPID(mp-10849), 'P2_13'),\n",
       " ('NiAsSe', False, MPID(mp-10846), 'P2_13'),\n",
       " ('NiSbS', False, MPID(mp-3679), 'P2_13'),\n",
       " ('BiIrSe', False, MPID(mp-1103228), 'P2_13'),\n",
       " ('SbTePd', False, MPID(mp-10850), 'P2_13'),\n",
       " ('AsPdS', False, MPID(mp-10848), 'P2_13'),\n",
       " ('Hf(WO4)2', False, MPID(mp-1204711), 'P2_13'),\n",
       " ('BiRhSe', False, MPID(mp-1101765), 'P2_13'),\n",
       " ('BiPtSe', False, MPID(mp-1103607), 'P2_13'),\n",
       " ('FeSbPt', False, MPID(mp-669307), 'P2_13'),\n",
       " ('SbRhS', False, MPID(mp-1103317), 'P2_13'),\n",
       " ('CoSbS', False, MPID(mp-1102443), 'P2_13'),\n",
       " ('SbIrSe', False, MPID(mp-1095507), 'P2_13'),\n",
       " ('BiPdSe', False, MPID(mp-1095370), 'P2_13'),\n",
       " ('Te2Ir', False, MPID(mp-10844), 'Pa-3'),\n",
       " ('NaO2', False, MPID(mp-614), 'Pa-3'),\n",
       " ('Te2Ru', False, MPID(mp-1848), 'Pa-3'),\n",
       " ('Sb2Pt', False, MPID(mp-562), 'Pa-3'),\n",
       " ('CoS2', False, MPID(mp-2070), 'Pa-3'),\n",
       " ('CdO2', False, MPID(mp-2310), 'Pa-3'),\n",
       " ('ZnS2', False, MPID(mp-1102743), 'Pa-3'),\n",
       " ('OsS2', False, MPID(mp-20905), 'Pa-3'),\n",
       " ('FeS2', False, MPID(mp-226), 'Pa-3'),\n",
       " ('UP2O7', False, MPID(mp-1200695), 'P1'),\n",
       " ('SbRhSe', False, MPID(mp-1102366), 'P2_13'),\n",
       " ('CoAsS', False, MPID(mp-16363), 'P2_13'),\n",
       " ('LiSbF4', False, MPID(mp-1190441), 'P2_13')]"
      ]
     },
     "execution_count": 14,
     "metadata": {},
     "output_type": "execute_result"
    }
   ],
   "source": [
    "[(d.formula_pretty, d.theoretical, d.material_id, d.symmetry.symbol) for d in docs_fsn if not d.theoretical]"
   ]
  },
  {
   "cell_type": "code",
   "execution_count": 15,
   "id": "b9222d28-b06f-4058-9c26-a5ef67dbeb43",
   "metadata": {},
   "outputs": [
    {
     "data": {
      "text/plain": [
       "[('Pa-3', 54), ('P2_13', 33), ('Pca2_1', 5), ('Pna2_1', 1), ('P1', 1)]"
      ]
     },
     "execution_count": 15,
     "metadata": {},
     "output_type": "execute_result"
    }
   ],
   "source": [
    "c = Counter([d.symmetry.symbol for d in docs_fsn if not d.theoretical])\n",
    "c.most_common()"
   ]
  },
  {
   "cell_type": "code",
   "execution_count": 16,
   "id": "a9bbb031-7913-4a3e-95b3-22537ac16af3",
   "metadata": {},
   "outputs": [
    {
     "data": {
      "text/plain": [
       "[('Te2Os', False, MPID(mp-2142), 'Pa-3'),\n",
       " ('ZnO2', False, MPID(mp-8484), 'Pa-3'),\n",
       " ('MgO2', False, MPID(mp-2589), 'Pa-3'),\n",
       " ('OsSe2', False, MPID(mp-2480), 'Pa-3'),\n",
       " ('SiP2O7', False, MPID(mp-18293), 'Pa-3'),\n",
       " ('P2WO7', False, MPID(mp-505687), 'Pa-3'),\n",
       " ('ThP2O7', False, MPID(mp-5156), 'Pa-3'),\n",
       " ('MoP2O7', False, MPID(mp-505406), 'Pa-3'),\n",
       " ('CeP2O7', False, MPID(mp-22524), 'Pa-3'),\n",
       " ('TiP2O7', False, MPID(mp-1200136), 'Pa-3'),\n",
       " ('ZrV2O7', False, MPID(mp-554326), 'Pa-3'),\n",
       " ('SnP2O7', False, MPID(mp-17887), 'Pa-3'),\n",
       " ('ZrP2O7', False, MPID(mp-5024), 'Pa-3'),\n",
       " ('HfV2O7', False, MPID(mp-505679), 'Pa-3'),\n",
       " ('InSb(P2O7)2', False, MPID(mp-1196350), 'Pna2_1'),\n",
       " ('Zr(WO4)2', False, MPID(mp-18778), 'P2_13'),\n",
       " ('Hf(WO4)2', False, MPID(mp-1204711), 'P2_13'),\n",
       " ('NaO2', False, MPID(mp-614), 'Pa-3'),\n",
       " ('CdO2', False, MPID(mp-2310), 'Pa-3'),\n",
       " ('OsS2', False, MPID(mp-20905), 'Pa-3'),\n",
       " ('UP2O7', False, MPID(mp-1200695), 'P1')]"
      ]
     },
     "execution_count": 16,
     "metadata": {},
     "output_type": "execute_result"
    }
   ],
   "source": [
    "[(d.formula_pretty, d.theoretical, d.material_id, d.symmetry.symbol) for d in docs_fsn if not d.theoretical and \"O\" in d.formula_pretty]"
   ]
  },
  {
   "cell_type": "code",
   "execution_count": 17,
   "id": "d27bc3bc-066a-4939-bc7b-d6af313311bd",
   "metadata": {},
   "outputs": [
    {
     "data": {
      "text/plain": [
       "[('P2WO7', False, MPID(mp-505687), 'Pa-3'),\n",
       " ('Zr(WO4)2', False, MPID(mp-18778), 'P2_13'),\n",
       " ('Hf(WO4)2', False, MPID(mp-1204711), 'P2_13')]"
      ]
     },
     "execution_count": 17,
     "metadata": {},
     "output_type": "execute_result"
    }
   ],
   "source": [
    "[(d.formula_pretty, d.theoretical, d.material_id, d.symmetry.symbol) for d in docs_fsn if not d.theoretical and \"W\" in d.formula_pretty]"
   ]
  },
  {
   "cell_type": "code",
   "execution_count": 18,
   "id": "c2710218-0a68-4725-902f-424a734dd5b5",
   "metadata": {},
   "outputs": [
    {
     "data": {
      "text/plain": [
       "[('Te2Os', False, MPID(mp-2142), 'Pa-3'),\n",
       " ('ZnO2', False, MPID(mp-8484), 'Pa-3'),\n",
       " ('MgO2', False, MPID(mp-2589), 'Pa-3'),\n",
       " ('OsSe2', False, MPID(mp-2480), 'Pa-3'),\n",
       " ('SiP2O7', False, MPID(mp-18293), 'Pa-3'),\n",
       " ('P2WO7', False, MPID(mp-505687), 'Pa-3'),\n",
       " ('ThP2O7', False, MPID(mp-5156), 'Pa-3'),\n",
       " ('MoP2O7', False, MPID(mp-505406), 'Pa-3'),\n",
       " ('CeP2O7', False, MPID(mp-22524), 'Pa-3'),\n",
       " ('TiP2O7', False, MPID(mp-1200136), 'Pa-3'),\n",
       " ('ZrV2O7', False, MPID(mp-554326), 'Pa-3'),\n",
       " ('SnP2O7', False, MPID(mp-17887), 'Pa-3'),\n",
       " ('ZrP2O7', False, MPID(mp-5024), 'Pa-3'),\n",
       " ('HfV2O7', False, MPID(mp-505679), 'Pa-3'),\n",
       " ('InSb(P2O7)2', False, MPID(mp-1196350), 'Pna2_1'),\n",
       " ('Zr(WO4)2', False, MPID(mp-18778), 'P2_13'),\n",
       " ('Hf(WO4)2', False, MPID(mp-1204711), 'P2_13'),\n",
       " ('NaO2', False, MPID(mp-614), 'Pa-3'),\n",
       " ('CdO2', False, MPID(mp-2310), 'Pa-3'),\n",
       " ('OsS2', False, MPID(mp-20905), 'Pa-3'),\n",
       " ('UP2O7', False, MPID(mp-1200695), 'P1')]"
      ]
     },
     "execution_count": 18,
     "metadata": {},
     "output_type": "execute_result"
    }
   ],
   "source": [
    "[(d.formula_pretty, d.theoretical, d.material_id, d.symmetry.symbol) for d in docs_fsn if not d.theoretical and \"O\" in d.formula_pretty]"
   ]
  },
  {
   "cell_type": "code",
   "execution_count": null,
   "id": "b3344d81-e936-4c5f-935a-7fe75bc555cd",
   "metadata": {},
   "outputs": [],
   "source": []
  }
 ],
 "metadata": {
  "kernelspec": {
   "display_name": "Python 3 (ipykernel)",
   "language": "python",
   "name": "python3"
  },
  "language_info": {
   "codemirror_mode": {
    "name": "ipython",
    "version": 3
   },
   "file_extension": ".py",
   "mimetype": "text/x-python",
   "name": "python",
   "nbconvert_exporter": "python",
   "pygments_lexer": "ipython3",
   "version": "3.10.14"
  }
 },
 "nbformat": 4,
 "nbformat_minor": 5
}
