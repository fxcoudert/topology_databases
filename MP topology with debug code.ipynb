{
 "cells": [
  {
   "cell_type": "code",
   "execution_count": 1,
   "id": "65784a98-0478-4827-ba8a-69ec0431e189",
   "metadata": {},
   "outputs": [
    {
     "name": "stdout",
     "output_type": "stream",
     "text": [
      "Detected IPython. Loading juliacall extension. See https://juliapy.github.io/PythonCall.jl/stable/compat/#IPython\n",
      "Using pymatgen version: 2024.6.10\n"
     ]
    }
   ],
   "source": [
    "import json\n",
    "import os\n",
    "import warnings\n",
    "\n",
    "import juliacall\n",
    "\n",
    "import pymatgen\n",
    "from pymatgen.analysis.local_env import CrystalNN\n",
    "from pymatgen.core import Structure\n",
    "from pymatgen.ext.matproj import MPRester\n",
    "from pymatgen.io.cif import CifWriter\n",
    "\n",
    "from tqdm.notebook import tqdm\n",
    "\n",
    "print(\"Using pymatgen version:\", pymatgen.core.__version__)"
   ]
  },
  {
   "cell_type": "code",
   "execution_count": 2,
   "id": "d883bc49-1801-4693-8bf3-26522f8b8220",
   "metadata": {},
   "outputs": [
    {
     "name": "stdout",
     "output_type": "stream",
     "text": [
      "Using Julia version: 1.10.4\n",
      "Running from directory: /opt/julia-1.10.4/bin\n"
     ]
    }
   ],
   "source": [
    "jl = juliacall.newmodule(\"NotebookModule\")\n",
    "jl.seval(\"using CrystalNets\")\n",
    "jl.CrystalNets.toggle_export(False)\n",
    "\n",
    "print(\"Using Julia version:\", jl.seval(\"VERSION\"))\n",
    "print(\"Running from directory:\", jl.seval(\"Sys.BINDIR\"))"
   ]
  },
  {
   "cell_type": "code",
   "execution_count": 3,
   "id": "a4a50d5a-f489-4c1c-a531-89b383f8f46c",
   "metadata": {},
   "outputs": [],
   "source": [
    "with open(os.path.expanduser(\"~/.mpapikey\"), \"r\") as f:\n",
    "    apikey = f.read().strip()"
   ]
  },
  {
   "cell_type": "code",
   "execution_count": 7,
   "id": "adc46520-ecac-4099-8ab1-c873efe494ea",
   "metadata": {},
   "outputs": [],
   "source": [
    "crystallnn = CrystalNN()\n",
    "\n",
    "try:\n",
    "    os.mkdir(\"cif\")\n",
    "except FileExistsError as e:\n",
    "    pass\n",
    "\n",
    "def make_labels_unique(struct):\n",
    "    from collections import Counter\n",
    "    \n",
    "    labels = Counter(site.label for site in struct.sites)\n",
    "    counter = {}\n",
    "    for i, site in enumerate(struct.sites):\n",
    "        label = site.label\n",
    "        if labels[label] > 1 or label.isalpha():\n",
    "            c = counter.get(label, 0)\n",
    "            site.label = f\"{label}{c}\" if label.isalpha() else f\"{label}_{c}\"\n",
    "            c = c + 1\n",
    "            counter[label] = c\n",
    "\n",
    "\n",
    "def jimage_to_site_symmetry(jimage):\n",
    "    i, j, k = jimage\n",
    "    return f\"1_{5+i}{5+j}{5+k}\"\n",
    "\n",
    "\n",
    "def writeToCifFile(bonded_struct, file):\n",
    "    cif_writer = CifWriter(bonded_struct.structure)\n",
    "    cif = str(cif_writer)\n",
    "    cif += \"\"\"loop_\n",
    "_geom_bond_atom_site_label_1\n",
    "_geom_bond_atom_site_label_2\n",
    "_geom_bond_distance\n",
    "_geom_bond_site_symmetry_2\n",
    "\"\"\"\n",
    "\n",
    "    for n, site in enumerate(bonded_struct.structure.sites):\n",
    "        for connected in bonded_struct.get_connected_sites(n):\n",
    "            # Make sure we only output each bond once\n",
    "            if site.label <= connected.site.label:\n",
    "                cif += f\"{site.label} {connected.site.label} {connected.dist:.6f} {jimage_to_site_symmetry(connected.jimage)}\\n\"\n",
    "\n",
    "    file.write(cif)\n",
    "\n",
    "\n",
    "def analyse_bonding(mat):\n",
    "    # Magnetic moments trigger a bug in CifWriter, so we remove them here\n",
    "    # https://github.com/materialsproject/pymatgen/issues/3772\n",
    "    if \"magmom\" in mat.structure.site_properties:\n",
    "        mat.structure.remove_site_property(\"magmom\")\n",
    "\n",
    "    # All labels should be unique (otherwise bond specifications will fail)\n",
    "    make_labels_unique(mat.structure)\n",
    "    labels = [site.label for site in mat.structure.sites]\n",
    "    if len(labels) != len(set(labels)):\n",
    "        raise ValueError(\"labels are not unique in structure\")\n",
    "\n",
    "    while True:\n",
    "        bonded_struct = None\n",
    "        with warnings.catch_warnings():\n",
    "            warnings.simplefilter(\"ignore\")\n",
    "            try:\n",
    "                bonded_struct = crystallnn.get_bonded_structure(mat.structure)\n",
    "            except Exception as e:\n",
    "                print(f\"CrystalNN failed for {mat.material_id}: {e}\")\n",
    "                return None\n",
    "\n",
    "        coord = set()\n",
    "        bonds = set()\n",
    "        rerun_flag = False\n",
    "        for n, site in enumerate(bonded_struct.structure.sites):\n",
    "            neighbors = bonded_struct.get_connected_sites(n)\n",
    "            # We cannot use get_coordination_of_site() because of a bug:\n",
    "            # https://github.com/materialsproject/pymatgen/issues/3888#issuecomment-2232571072\n",
    "            coord.add((str(site.specie), len(neighbors)))\n",
    "            for connected in neighbors:\n",
    "                if site.specie <= connected.site.specie:\n",
    "                    bonds.add((str(site.specie), str(connected.site.specie)))\n",
    "                if site.label == connected.site.label:\n",
    "                    # If an atom is bonded to its own image, then CrystalNets will not like it\n",
    "                    # and we need to make rerun on a supercell\n",
    "                    rerun_flag = True\n",
    "\n",
    "        if rerun_flag:\n",
    "            # If we found an atom bonded to itself, double the cell and restart\n",
    "            mat.structure.make_supercell(2, in_place=True)\n",
    "            make_labels_unique(mat.structure)\n",
    "        else:\n",
    "            # Otherwise we're done\n",
    "            break\n",
    "\n",
    "    with open(f\"cif/{mat.material_id}.cif\", \"w\") as f:\n",
    "        writeToCifFile(bonded_struct, f)\n",
    "\n",
    "    return {\"material_id\": str(mat.material_id),\n",
    "            \"formula_pretty\": mat.formula_pretty,\n",
    "            \"nelements\": mat.nelements,\n",
    "            \"coordination\": coord,\n",
    "            \"bonds\": bonds}"
   ]
  },
  {
   "cell_type": "code",
   "execution_count": 5,
   "id": "44d94499-80e1-416d-9d78-e9af43193220",
   "metadata": {},
   "outputs": [
    {
     "data": {
      "application/vnd.jupyter.widget-view+json": {
       "model_id": "efaa2e6ae1fe4533ae2c1357b9f5f441",
       "version_major": 2,
       "version_minor": 0
      },
      "text/plain": [
       "Retrieving SummaryDoc documents:   0%|          | 0/1 [00:00<?, ?it/s]"
      ]
     },
     "metadata": {},
     "output_type": "display_data"
    },
    {
     "name": "stdout",
     "output_type": "stream",
     "text": [
      "{'material_id': 'mp-3934', 'formula_pretty': 'Cu3PS4', 'nelements': 3, 'coordination': {('Cu', 4), ('P', 4), ('S', 4)}, 'bonds': {('Cu', 'S'), ('P', 'S')}}\n"
     ]
    }
   ],
   "source": [
    "with MPRester(apikey) as mpr:\n",
    "    mp_data = mpr.materials.summary.search(\n",
    "        material_ids=[\"mp-3934\"],\n",
    "        fields=[\"material_id\", \"formula\", \"formula_pretty\", \"nelements\", \"structure\"]\n",
    "    )\n",
    "\n",
    "    assert len(mp_data) == 1\n",
    "    res = analyse_bonding(mp_data[0])\n",
    "    print(res)"
   ]
  },
  {
   "cell_type": "code",
   "execution_count": 6,
   "id": "269cdd7d-2275-4981-8de3-ccbbdcd8e084",
   "metadata": {},
   "outputs": [
    {
     "data": {
      "application/vnd.jupyter.widget-view+json": {
       "model_id": "b30f2d9414b848b4b19d3a6848a88bda",
       "version_major": 2,
       "version_minor": 0
      },
      "text/plain": [
       "Retrieving SummaryDoc documents:   0%|          | 0/153235 [00:00<?, ?it/s]"
      ]
     },
     "metadata": {},
     "output_type": "display_data"
    },
    {
     "name": "stdout",
     "output_type": "stream",
     "text": [
      "Number of materials found: 155361\n",
      "Database version 2023.11.1\n"
     ]
    }
   ],
   "source": [
    "with MPRester(apikey) as mpr:\n",
    "    mp_data = mpr.materials.summary.search(\n",
    "        fields=[\"material_id\", \"formula\", \"formula_pretty\", \"nelements\", \"structure\"]\n",
    "    )\n",
    "    print(\"Number of materials found:\", len(mp_data))\n",
    "    print(\"Database version\", mpr.get_database_version())"
   ]
  },
  {
   "cell_type": "code",
   "execution_count": 7,
   "id": "692bbce6-6494-480f-aa4a-78f1d98dc53a",
   "metadata": {
    "scrolled": true
   },
   "outputs": [
    {
     "data": {
      "application/vnd.jupyter.widget-view+json": {
       "model_id": "25bdc01a01cd4264b8f3df6cdf9571fb",
       "version_major": 2,
       "version_minor": 0
      },
      "text/plain": [
       "  0%|          | 0/155361 [00:00<?, ?it/s]"
      ]
     },
     "metadata": {},
     "output_type": "display_data"
    },
    {
     "name": "stdout",
     "output_type": "stream",
     "text": [
      "CrystalNN failed for mp-994911: No Voronoi neighbors found for site - try increasing cutoff\n",
      "CrystalNN failed for mp-1210439: No Voronoi neighbors found for site - try increasing cutoff\n",
      "CrystalNN failed for mp-1247838: No Voronoi neighbors found for site - try increasing cutoff\n",
      "CrystalNN failed for mp-1213668: No Voronoi neighbors found for site - try increasing cutoff\n",
      "CrystalNN failed for mp-1215144: No Voronoi neighbors found for site - try increasing cutoff\n",
      "CrystalNN failed for mp-1180797: No Voronoi neighbors found for site - try increasing cutoff\n",
      "CrystalNN failed for mp-1247813: No Voronoi neighbors found for site - try increasing cutoff\n",
      "CrystalNN failed for mp-1212347: No Voronoi neighbors found for site - try increasing cutoff\n",
      "CrystalNN failed for mp-1212578: No Voronoi neighbors found for site - try increasing cutoff\n",
      "CrystalNN failed for mp-1214815: No Voronoi neighbors found for site - try increasing cutoff\n",
      "CrystalNN failed for mp-1215160: No Voronoi neighbors found for site - try increasing cutoff\n",
      "CrystalNN failed for mp-1180180: No Voronoi neighbors found for site - try increasing cutoff\n",
      "CrystalNN failed for mp-1101037: No Voronoi neighbors found for site - try increasing cutoff\n",
      "CrystalNN failed for mp-1182718: No Voronoi neighbors found for site - try increasing cutoff\n",
      "CrystalNN failed for mp-1182772: No Voronoi neighbors found for site - try increasing cutoff\n",
      "CrystalNN failed for mp-1212042: No Voronoi neighbors found for site - try increasing cutoff\n",
      "Number of systems analyzed: 155345\n"
     ]
    }
   ],
   "source": [
    "data = {}\n",
    "\n",
    "with warnings.catch_warnings():\n",
    "    warnings.filterwarnings(\"ignore\", message=\"No Pauling electronegativity\")\n",
    "    for mat in tqdm(mp_data, smoothing=0.01, mininterval=1):\n",
    "        x = analyse_bonding(mat)\n",
    "        if x is not None:\n",
    "            data[mat.material_id] = x\n",
    "\n",
    "print(\"Number of systems analyzed:\", len(data))"
   ]
  },
  {
   "cell_type": "code",
   "execution_count": 20,
   "id": "29ef1b6e-d163-4663-8ed1-34e5b6d5a0eb",
   "metadata": {},
   "outputs": [
    {
     "data": {
      "text/plain": [
       "{'material_id': 'mp-1206677',\n",
       " 'formula_pretty': 'Rb2O2',\n",
       " 'nelements': 2,\n",
       " 'coordination': {('O', 6), ('Rb', 6)},\n",
       " 'bonds': {('Rb', 'O')}}"
      ]
     },
     "execution_count": 20,
     "metadata": {},
     "output_type": "execute_result"
    }
   ],
   "source": [
    "data[\"mp-1206677\"]"
   ]
  },
  {
   "cell_type": "code",
   "execution_count": 8,
   "id": "3542de12-6896-4788-a135-70eb27b11e17",
   "metadata": {},
   "outputs": [],
   "source": [
    "crystalnets_options = jl.CrystalNets.Options(structure=jl.StructureType.Auto, clusterings=[jl.Clustering.EachVertex], bonding=jl.Bonding.Input, split_O_vertex=False)\n",
    "\n",
    "def analyse_topology(material_id):\n",
    "    res = jl.determine_topology(f\"cif/{material_id}.cif\", crystalnets_options)\n",
    "    topologies = [(mult, jl.ndims(net[jl.Clustering.EachVertex].genome), str(net[jl.Clustering.EachVertex])) for net, mult in res]\n",
    "    return topologies"
   ]
  },
  {
   "cell_type": "code",
   "execution_count": 26,
   "id": "faaf9f08-d496-4f2c-bcd0-36fb84b37560",
   "metadata": {},
   "outputs": [
    {
     "data": {
      "text/plain": [
       "[(1, 3, 'pcu')]"
      ]
     },
     "execution_count": 26,
     "metadata": {},
     "output_type": "execute_result"
    }
   ],
   "source": [
    "analyse_topology(\"mp-1206677\")"
   ]
  },
  {
   "cell_type": "code",
   "execution_count": 32,
   "id": "dc2400f0-adc5-40ca-a6db-1165c5848324",
   "metadata": {},
   "outputs": [
    {
     "data": {
      "application/vnd.jupyter.widget-view+json": {
       "model_id": "a625d121db984af2b649960ab8e1f4e2",
       "version_major": 2,
       "version_minor": 0
      },
      "text/plain": [
       "  0%|          | 0/155345 [00:00<?, ?it/s]"
      ]
     },
     "metadata": {},
     "output_type": "display_data"
    },
    {
     "name": "stderr",
     "output_type": "stream",
     "text": [
      "spglib: Indicated max size(=384) is less than number spglib: of symmetry operations(=768).\n",
      "spglib: Indicated max size(=384) is less than number spglib: of symmetry operations(=768).\n",
      "spglib: Indicated max size(=384) is less than number spglib: of symmetry operations(=768).\n",
      "spglib: Indicated max size(=384) is less than number spglib: of symmetry operations(=768).\n",
      "spglib: Indicated max size(=384) is less than number spglib: of symmetry operations(=768).\n",
      "spglib: Indicated max size(=384) is less than number spglib: of symmetry operations(=768).\n"
     ]
    }
   ],
   "source": [
    "jl.CrystalNets.toggle_export(False)\n",
    "jl.CrystalNets.toggle_warning(False)\n",
    "\n",
    "for material_id in tqdm(data.keys(), smoothing=0.01, mininterval=1):\n",
    "    topo = analyse_topology(material_id)\n",
    "    data[material_id][\"topology\"] = topo"
   ]
  },
  {
   "cell_type": "code",
   "execution_count": 33,
   "id": "fff2f122-c800-441e-aad3-5f0ea2acc912",
   "metadata": {},
   "outputs": [
    {
     "data": {
      "text/plain": [
       "{'material_id': 'mp-1206677',\n",
       " 'formula_pretty': 'Rb2O2',\n",
       " 'nelements': 2,\n",
       " 'coordination': {('O', 6), ('Rb', 6)},\n",
       " 'bonds': {('Rb', 'O')},\n",
       " 'topology': [(1, 3, 'pcu')]}"
      ]
     },
     "execution_count": 33,
     "metadata": {},
     "output_type": "execute_result"
    }
   ],
   "source": [
    "data[\"mp-1206677\"]"
   ]
  },
  {
   "cell_type": "code",
   "execution_count": 43,
   "id": "13cae65e-76af-4965-b4e5-d047d083b98b",
   "metadata": {},
   "outputs": [],
   "source": [
    "class SetEncoder(json.JSONEncoder):\n",
    "    def default(self, obj):\n",
    "        if isinstance(obj, set):\n",
    "            return list(obj)\n",
    "        return json.JSONEncoder.default(self, obj)\n",
    "\n",
    "with open(\"topo_data.json\", \"w\") as file:\n",
    "    json.dump(data, file, cls=SetEncoder)"
   ]
  },
  {
   "cell_type": "code",
   "execution_count": null,
   "id": "9f7e5c8d-4dfa-42d7-bc06-13aed728f08d",
   "metadata": {},
   "outputs": [],
   "source": []
  },
  {
   "cell_type": "code",
   "execution_count": null,
   "id": "10cbacaa-fb39-4275-9201-701b95338a48",
   "metadata": {},
   "outputs": [],
   "source": []
  },
  {
   "cell_type": "code",
   "execution_count": null,
   "id": "54d9e826-a22f-44c5-a8a8-f9e2f12e89a9",
   "metadata": {},
   "outputs": [],
   "source": []
  },
  {
   "cell_type": "markdown",
   "id": "5b96be15-4c32-454f-9764-02deb6166365",
   "metadata": {},
   "source": [
    "# Debugging"
   ]
  },
  {
   "cell_type": "code",
   "execution_count": 9,
   "id": "5dd19192-282c-4f5a-9546-f86c014ff0b0",
   "metadata": {},
   "outputs": [
    {
     "data": {
      "application/vnd.jupyter.widget-view+json": {
       "model_id": "44f2e48cccb74a1ca0d5caa9e8fd7c86",
       "version_major": 2,
       "version_minor": 0
      },
      "text/plain": [
       "Retrieving SummaryDoc documents:   0%|          | 0/1 [00:00<?, ?it/s]"
      ]
     },
     "metadata": {},
     "output_type": "display_data"
    },
    {
     "name": "stdout",
     "output_type": "stream",
     "text": [
      "{'material_id': 'mp-2647057', 'formula_pretty': 'Co', 'nelements': 1, 'coordination': {('Co', 8)}, 'bonds': {('Co', 'Co')}}\n",
      "[(1, 3, 'bcu')]\n"
     ]
    }
   ],
   "source": [
    "with MPRester(apikey) as mpr:\n",
    "    mp_data = mpr.materials.summary.search(\n",
    "        material_ids=[\"mp-2647057\"],\n",
    "        fields=[\"material_id\", \"formula\", \"formula_pretty\", \"nelements\", \"structure\"]\n",
    "    )\n",
    "\n",
    "    assert len(mp_data) == 1\n",
    "    res = analyse_bonding(mp_data[0])\n",
    "    print(res)\n",
    "    print(analyse_topology(\"mp-2647057\"))\n",
    "\n",
    "# Bug filed at https://github.com/materialsproject/pymatgen/issues/3888"
   ]
  },
  {
   "cell_type": "code",
   "execution_count": 25,
   "id": "dfeb393c-fd86-4b7f-84e9-ebc369cf1aaf",
   "metadata": {},
   "outputs": [
    {
     "name": "stderr",
     "output_type": "stream",
     "text": [
      "/Users/fx/miniforge3/envs/matten/lib/python3.10/site-packages/pymatgen/analysis/local_env.py:4146: UserWarning: No oxidation states specified on sites! For better results, set the site oxidation states in the structure.\n",
      "  warnings.warn(\n",
      "/Users/fx/miniforge3/envs/matten/lib/python3.10/site-packages/pymatgen/analysis/local_env.py:3939: UserWarning: CrystalNN: cannot locate an appropriate radius, covalent or atomic radii will be used, this can lead to non-optimal results.\n",
      "  warnings.warn(\n"
     ]
    },
    {
     "data": {
      "text/plain": [
       "Structure Graph\n",
       "Structure: \n",
       "Structure Summary\n",
       "Lattice\n",
       "    abc : 2.428889488469988 2.428889488469988 2.428889488469988\n",
       " angles : 109.47122063449069 109.47122063449069 109.47122063449069\n",
       " volume : 11.030656874268672\n",
       "      A : -1.40232 1.40232 1.40232\n",
       "      B : 1.40232 -1.40232 1.40232\n",
       "      C : 1.40232 1.40232 -1.40232\n",
       "    pbc : True True True\n",
       "PeriodicSite: Co0 (Co) (0.0, 0.0, 0.0) [0.0, 0.0, 0.0]\n",
       "Graph: bonds\n",
       "from    to  to_image    \n",
       "----  ----  ------------\n",
       "   0     0  (1, 1, 1)   \n",
       "   0     0  (1, 0, 0)   \n",
       "   0     0  (0, 0, 1)   \n",
       "   0     0  (0, 1, 0)   "
      ]
     },
     "execution_count": 25,
     "metadata": {},
     "output_type": "execute_result"
    }
   ],
   "source": [
    "structure = mp_data[0].structure\n",
    "bonded_struct = crystallnn.get_bonded_structure(structure)\n",
    "bonded_struct"
   ]
  },
  {
   "cell_type": "code",
   "execution_count": 11,
   "id": "ad661773-70d5-4ce7-9828-07d4d27e26f6",
   "metadata": {},
   "outputs": [
    {
     "data": {
      "text/plain": [
       "8"
      ]
     },
     "execution_count": 11,
     "metadata": {},
     "output_type": "execute_result"
    }
   ],
   "source": [
    "crystallnn.get_cn(structure, 0)"
   ]
  },
  {
   "cell_type": "code",
   "execution_count": 12,
   "id": "fd82555c-6895-458b-b2ee-a1fa6103d1da",
   "metadata": {},
   "outputs": [
    {
     "data": {
      "text/plain": [
       "{'Co': 8}"
      ]
     },
     "execution_count": 12,
     "metadata": {},
     "output_type": "execute_result"
    }
   ],
   "source": [
    "crystallnn.get_cn_dict(structure, 0)"
   ]
  },
  {
   "cell_type": "code",
   "execution_count": 13,
   "id": "62d6fd4e-d5ae-4e00-a7b8-ed0beea82089",
   "metadata": {},
   "outputs": [
    {
     "name": "stderr",
     "output_type": "stream",
     "text": [
      "/Users/fx/miniforge3/envs/matten/lib/python3.10/site-packages/pymatgen/analysis/graphs.py:437: UserWarning: Trying to add an edge that already exists from site 0 to site 0 in (1, 1, 1).\n",
      "  warnings.warn(\n",
      "/Users/fx/miniforge3/envs/matten/lib/python3.10/site-packages/pymatgen/analysis/graphs.py:437: UserWarning: Trying to add an edge that already exists from site 0 to site 0 in (1, 0, 0).\n",
      "  warnings.warn(\n",
      "/Users/fx/miniforge3/envs/matten/lib/python3.10/site-packages/pymatgen/analysis/graphs.py:437: UserWarning: Trying to add an edge that already exists from site 0 to site 0 in (0, 1, 0).\n",
      "  warnings.warn(\n",
      "/Users/fx/miniforge3/envs/matten/lib/python3.10/site-packages/pymatgen/analysis/graphs.py:437: UserWarning: Trying to add an edge that already exists from site 0 to site 0 in (0, 0, 1).\n",
      "  warnings.warn(\n"
     ]
    },
    {
     "name": "stdout",
     "output_type": "stream",
     "text": [
      "0 [-1. -1. -1.]\n",
      "0 [1. 1. 1.]\n",
      "0 [1. 0. 0.]\n",
      "0 [0. 0. 1.]\n",
      "0 [-1.  0.  0.]\n",
      "0 [ 0. -1.  0.]\n",
      "0 [0. 1. 0.]\n",
      "0 [ 0.  0. -1.]\n"
     ]
    }
   ],
   "source": [
    "from pymatgen.analysis.graphs import StructureGraph\n",
    "\n",
    "struct_graph = StructureGraph.from_empty_graph(structure, name=\"bonds\")\n",
    "for idx, neighbors in enumerate(crystallnn.get_all_nn_info(structure)):\n",
    "    for neighbor in neighbors:\n",
    "        print(neighbor[\"site_index\"], neighbor[\"image\"])\n",
    "        struct_graph.add_edge(from_index=idx, from_jimage=(0, 0, 0), to_index=neighbor[\"site_index\"], to_jimage=neighbor[\"image\"])"
   ]
  },
  {
   "cell_type": "code",
   "execution_count": null,
   "id": "e07ae4bc-47cf-4cbf-bbb2-bb6f2c05e5d8",
   "metadata": {},
   "outputs": [],
   "source": []
  },
  {
   "cell_type": "code",
   "execution_count": 26,
   "id": "9bb709c7-653a-4b1f-8073-69d58516fa97",
   "metadata": {},
   "outputs": [
    {
     "data": {
      "application/vnd.jupyter.widget-view+json": {
       "model_id": "b4c3883763b64e93a03eade371d59e15",
       "version_major": 2,
       "version_minor": 0
      },
      "text/plain": [
       "Retrieving SummaryDoc documents:   0%|          | 0/1 [00:00<?, ?it/s]"
      ]
     },
     "metadata": {},
     "output_type": "display_data"
    },
    {
     "name": "stdout",
     "output_type": "stream",
     "text": [
      "{'material_id': 'mp-2647057', 'formula_pretty': 'Co', 'nelements': 1, 'coordination': {('Co', 8)}, 'bonds': {('Co', 'Co')}}\n",
      "[(1, 3, 'bcu')]\n"
     ]
    }
   ],
   "source": [
    "with MPRester(apikey) as mpr:\n",
    "    mp_data = mpr.materials.summary.search(\n",
    "        material_ids=[\"mp-2647057\"],\n",
    "        fields=[\"material_id\", \"formula\", \"formula_pretty\", \"nelements\", \"structure\"]\n",
    "    )\n",
    "\n",
    "    assert len(mp_data) == 1\n",
    "    mp_data[0].structure.make_supercell(2)\n",
    "    res = analyse_bonding(mp_data[0])\n",
    "    print(res)\n",
    "    print(analyse_topology(\"mp-2647057\"))"
   ]
  },
  {
   "cell_type": "code",
   "execution_count": null,
   "id": "d548d28b-dbfa-45e4-87d3-103cd4edcf35",
   "metadata": {},
   "outputs": [],
   "source": []
  },
  {
   "cell_type": "code",
   "execution_count": 16,
   "id": "1a031189-97db-4018-8dc9-39e7378f47f6",
   "metadata": {},
   "outputs": [
    {
     "data": {
      "text/plain": [
       "[ConnectedSite(site=PeriodicSite: Co (1.402, 1.402, -1.402) [0.0, 0.0, 1.0], jimage=(0, 0, 1), index=0, weight=1, dist=2.428889488469988),\n",
       " ConnectedSite(site=PeriodicSite: Co (-1.402, 1.402, -1.402) [0.0, -1.0, 0.0], jimage=(0, -1, 0), index=0, weight=1, dist=2.428889488469988),\n",
       " ConnectedSite(site=PeriodicSite: Co (-1.402, -1.402, -1.402) [-1.0, -1.0, -1.0], jimage=(-1, -1, -1), index=0, weight=1, dist=2.428889488469988),\n",
       " ConnectedSite(site=PeriodicSite: Co (1.402, -1.402, 1.402) [0.0, 1.0, 0.0], jimage=(0, 1, 0), index=0, weight=1, dist=2.428889488469988),\n",
       " ConnectedSite(site=PeriodicSite: Co (-1.402, 1.402, 1.402) [1.0, 0.0, 0.0], jimage=(1, 0, 0), index=0, weight=1, dist=2.428889488469988),\n",
       " ConnectedSite(site=PeriodicSite: Co (1.402, -1.402, -1.402) [-1.0, 0.0, 0.0], jimage=(-1, 0, 0), index=0, weight=1, dist=2.428889488469988),\n",
       " ConnectedSite(site=PeriodicSite: Co (-1.402, -1.402, 1.402) [0.0, 0.0, -1.0], jimage=(0, 0, -1), index=0, weight=1, dist=2.428889488469988),\n",
       " ConnectedSite(site=PeriodicSite: Co (1.402, 1.402, 1.402) [1.0, 1.0, 1.0], jimage=(1, 1, 1), index=0, weight=1, dist=2.428889488469988)]"
      ]
     },
     "execution_count": 16,
     "metadata": {},
     "output_type": "execute_result"
    }
   ],
   "source": [
    "bonded_struct.get_connected_sites(0)"
   ]
  },
  {
   "cell_type": "code",
   "execution_count": 14,
   "id": "d4e39e1a-a4aa-4446-9044-640fb4c4d8eb",
   "metadata": {
    "scrolled": true
   },
   "outputs": [
    {
     "data": {
      "application/vnd.jupyter.widget-view+json": {
       "model_id": "527598eb5fb647fbbdde19e86bd30161",
       "version_major": 2,
       "version_minor": 0
      },
      "text/plain": [
       "Retrieving SummaryDoc documents:   0%|          | 0/1 [00:00<?, ?it/s]"
      ]
     },
     "metadata": {},
     "output_type": "display_data"
    },
    {
     "data": {
      "text/plain": [
       "Structure Graph\n",
       "Structure: \n",
       "Structure Summary\n",
       "Lattice\n",
       "    abc : 2.428889488469988 2.428889488469988 2.428889488469988\n",
       " angles : 109.47122063449069 109.47122063449069 109.47122063449069\n",
       " volume : 11.030656874268672\n",
       "      A : -1.40232 1.40232 1.40232\n",
       "      B : 1.40232 -1.40232 1.40232\n",
       "      C : 1.40232 1.40232 -1.40232\n",
       "    pbc : True True True\n",
       "PeriodicSite: Co (0.0, 0.0, 0.0) [0.0, 0.0, 0.0]\n",
       "Graph: bonds\n",
       "from    to  to_image    \n",
       "----  ----  ------------\n",
       "   0     0  (1, 1, 1)   \n",
       "   0     0  (1, 0, 0)   \n",
       "   0     0  (0, 0, 1)   \n",
       "   0     0  (0, 1, 0)   "
      ]
     },
     "execution_count": 14,
     "metadata": {},
     "output_type": "execute_result"
    }
   ],
   "source": [
    "with MPRester(apikey) as mpr:\n",
    "    mp_data = mpr.materials.summary.search(\n",
    "        material_ids=[\"mp-2647057\"],\n",
    "        fields=[\"material_id\", \"formula\", \"formula_pretty\", \"nelements\", \"structure\"]\n",
    "    )\n",
    "\n",
    "structure = mp_data[0].structure\n",
    "bonded_struct = crystallnn.get_bonded_structure(structure)\n",
    "bonded_struct"
   ]
  },
  {
   "cell_type": "code",
   "execution_count": null,
   "id": "5952ad38-3e32-45f2-95fa-5d433841f639",
   "metadata": {},
   "outputs": [],
   "source": []
  },
  {
   "cell_type": "code",
   "execution_count": null,
   "id": "34cfecf2-91f2-4301-a806-a8b97ed6286e",
   "metadata": {},
   "outputs": [],
   "source": []
  },
  {
   "cell_type": "markdown",
   "id": "cd7de57c-0f0b-4135-8a3b-df59ab8bd447",
   "metadata": {},
   "source": [
    "# Previous version of the code"
   ]
  },
  {
   "cell_type": "code",
   "execution_count": 1,
   "id": "417e7b16-62ca-48c7-a374-acd22a7d1262",
   "metadata": {},
   "outputs": [
    {
     "name": "stdout",
     "output_type": "stream",
     "text": [
      "Detected IPython. Loading juliacall extension. See https://juliapy.github.io/PythonCall.jl/stable/compat/#IPython\n",
      "Using pymatgen version: 2024.6.10\n"
     ]
    }
   ],
   "source": [
    "import json\n",
    "import os\n",
    "import tempfile\n",
    "import warnings\n",
    "\n",
    "import juliacall\n",
    "\n",
    "import pymatgen\n",
    "from pymatgen.analysis.local_env import CrystalNN\n",
    "from pymatgen.core import Lattice, Structure\n",
    "from pymatgen.ext.matproj import MPRester\n",
    "from pymatgen.io.cif import CifWriter\n",
    "\n",
    "from tqdm.notebook import tqdm\n",
    "\n",
    "print(\"Using pymatgen version:\", pymatgen.core.__version__)"
   ]
  },
  {
   "cell_type": "code",
   "execution_count": 2,
   "id": "ea48a640-c51f-4c6a-9fd2-31187616d9c4",
   "metadata": {},
   "outputs": [
    {
     "name": "stdout",
     "output_type": "stream",
     "text": [
      "Using Julia version: 1.10.3\n",
      "Running from directory: /opt/julia-1.10.3/bin\n"
     ]
    }
   ],
   "source": [
    "jl = juliacall.newmodule(\"NotebookModule\")\n",
    "jl.seval(\"using CrystalNets\")\n",
    "jl.CrystalNets.toggle_export(False)\n",
    "\n",
    "print(\"Using Julia version:\", jl.seval(\"VERSION\"))\n",
    "print(\"Running from directory:\", jl.seval(\"Sys.BINDIR\"))"
   ]
  },
  {
   "cell_type": "code",
   "execution_count": 3,
   "id": "e52eaa60-8f56-4256-ab49-df638eb660af",
   "metadata": {},
   "outputs": [],
   "source": [
    "with open(os.path.expanduser(\"~/.mpapikey\"), \"r\") as f:\n",
    "    apikey = f.read().strip()"
   ]
  },
  {
   "cell_type": "code",
   "execution_count": 4,
   "id": "01de6408-16b7-4b67-a9f3-98d78d567538",
   "metadata": {},
   "outputs": [],
   "source": [
    "crystallnn = CrystalNN()\n",
    "crystalnets_options = jl.CrystalNets.Options(structure=jl.StructureType.Auto, clusterings=[jl.Clustering.AllNodes], bonding=jl.Bonding.Input)\n",
    "\n",
    "\n",
    "def make_labels_unique(struct):\n",
    "    from collections import Counter\n",
    "    \n",
    "    labels = Counter(site.label for site in struct.sites)\n",
    "    counter = {}\n",
    "    for i, site in enumerate(struct.sites):\n",
    "        label = site.label\n",
    "        if labels[label] > 1 or label.isalpha():\n",
    "            c = counter.get(label, 0)\n",
    "            site.label = f\"{label}{c}\" if label.isalpha() else f\"{label}_{c}\"\n",
    "            c = c + 1\n",
    "            counter[label] = c\n",
    "\n",
    "\n",
    "def jimage_to_site_symmetry(jimage):\n",
    "    i, j, k = jimage\n",
    "    return f\"1_{5+i}{5+j}{5+k}\"\n",
    "\n",
    "\n",
    "def writeToCifFile(bonded_struct, file):\n",
    "    cif_writer = CifWriter(bonded_struct.structure)\n",
    "    cif = str(cif_writer)\n",
    "    cif += \"\"\"loop_\n",
    "_geom_bond_atom_site_label_1\n",
    "_geom_bond_atom_site_label_2\n",
    "_geom_bond_distance\n",
    "_geom_bond_site_symmetry_2\n",
    "\"\"\"\n",
    "\n",
    "    for n, site in enumerate(bonded_struct.structure.sites):\n",
    "        for connected in bonded_struct.get_connected_sites(n):\n",
    "            # Make sure we only output each bond once\n",
    "            if site.label < connected.site.label:\n",
    "                cif += f\"{site.label} {connected.site.label} {connected.dist:.6f} {jimage_to_site_symmetry(connected.jimage)}\\n\"\n",
    "\n",
    "    file.write(cif.encode())\n",
    "\n",
    "\n",
    "def analyse_topology(struct):\n",
    "    # All labels should be unique (otherwise bond specifications will fail)\n",
    "    labels = [site.label for site in struct.sites]\n",
    "    if len(labels) != len(set(labels)):\n",
    "        raise ValueError(\"labels are not unique in structure\")\n",
    "\n",
    "    bonded_struct = None\n",
    "    with warnings.catch_warnings():\n",
    "        warnings.simplefilter(\"ignore\")\n",
    "        try:\n",
    "            bonded_struct = crystallnn.get_bonded_structure(struct)\n",
    "        except Exception as e:\n",
    "            print(f\"CrystalNN failed for {mat.material_id}: {e}\")\n",
    "\n",
    "    coord = set()\n",
    "    bonds = set()\n",
    "    for n, site in enumerate(bonded_struct.structure.sites):\n",
    "        coord.add((str(site.specie), bonded_struct.get_coordination_of_site(n)))\n",
    "        for connected in bonded_struct.get_connected_sites(n):\n",
    "            if site.specie <= connected.site.specie:\n",
    "                bonds.add((str(site.specie), str(connected.site.specie)))\n",
    "\n",
    "    with tempfile.NamedTemporaryFile(suffix=\".cif\", delete=False) as f:\n",
    "        writeToCifFile(bonded_struct, f)\n",
    "        f.close()\n",
    "        res = jl.determine_topology(f.name, crystalnets_options)\n",
    "        os.unlink(f.name)\n",
    "        topologies = [(mult, jl.ndims(net[jl.Clustering.AllNodes].genome), str(net[jl.Clustering.AllNodes])) for net, mult in res]\n",
    "        return {\"topology\": topologies, \"coordination\": coord, \"bonds\": bonds}"
   ]
  },
  {
   "cell_type": "code",
   "execution_count": 5,
   "id": "23198aca-4ac4-48ec-ac2c-866ee6add260",
   "metadata": {},
   "outputs": [
    {
     "data": {
      "application/vnd.jupyter.widget-view+json": {
       "model_id": "41fc3814473541089c58af4cfe93ecf1",
       "version_major": 2,
       "version_minor": 0
      },
      "text/plain": [
       "Retrieving MaterialsDoc documents:   0%|          | 0/1 [00:00<?, ?it/s]"
      ]
     },
     "metadata": {},
     "output_type": "display_data"
    },
    {
     "name": "stdout",
     "output_type": "stream",
     "text": [
      "{'topology': [(1, 3, 'lon')], 'coordination': {('P', 4), ('S', 4), ('Cu', 4)}, 'bonds': {('P', 'S'), ('Cu', 'S')}}\n"
     ]
    }
   ],
   "source": [
    "with MPRester(apikey) as mpr:\n",
    "    structure = mpr.get_structure_by_material_id(\"mp-3934\")\n",
    "    make_labels_unique(structure)\n",
    "\n",
    "    # Magnetic moments trigger a bug in CifWriter, so we remove them here\n",
    "    # https://github.com/materialsproject/pymatgen/issues/3772\n",
    "    if \"magmom\" in structure.site_properties:\n",
    "        structure.remove_site_property(\"magmom\")\n",
    "\n",
    "    topo = analyse_topology(structure)\n",
    "    print(topo)"
   ]
  },
  {
   "cell_type": "code",
   "execution_count": 6,
   "id": "68193024-fccf-484d-b22e-2dcc08bda9dc",
   "metadata": {},
   "outputs": [],
   "source": [
    "def analyze_structure(mat):\n",
    "    make_labels_unique(mat.structure)\n",
    "\n",
    "    # Magnetic moments trigger a bug in CifWriter, so we remove them here\n",
    "    # https://github.com/materialsproject/pymatgen/issues/3772\n",
    "    if \"magmom\" in mat.structure.site_properties:\n",
    "        mat.structure.remove_site_property(\"magmom\")\n",
    "\n",
    "    try:\n",
    "        topo = analyse_topology(mat.structure)\n",
    "        topo[\"material_id\"] = mat.material_id\n",
    "        topo[\"formula_pretty\"] = mat.formula_pretty\n",
    "        topo[\"nelements\"] = mat.nelements\n",
    "        return topo\n",
    "    except Exception as e:\n",
    "        print(f\"Error with {mat.material_id}: {e}\")"
   ]
  },
  {
   "cell_type": "code",
   "execution_count": 7,
   "id": "8dcd059b-d8af-4aba-a0cf-f66a63b47784",
   "metadata": {},
   "outputs": [
    {
     "data": {
      "application/vnd.jupyter.widget-view+json": {
       "model_id": "33424b06ac62480783d3df60fc9f2d21",
       "version_major": 2,
       "version_minor": 0
      },
      "text/plain": [
       "Retrieving SummaryDoc documents:   0%|          | 0/153235 [00:00<?, ?it/s]"
      ]
     },
     "metadata": {},
     "output_type": "display_data"
    },
    {
     "name": "stdout",
     "output_type": "stream",
     "text": [
      "Number of materials found: 155361\n",
      "Database version 2023.11.1\n"
     ]
    }
   ],
   "source": [
    "with MPRester(apikey) as mpr:\n",
    "    mp_data = mpr.materials.summary.search(\n",
    "        fields=[\"material_id\", \"formula\", \"formula_pretty\", \"nelements\", \"structure\"]\n",
    "    )\n",
    "    print(\"Number of materials found:\", len(mp_data))\n",
    "    print(\"Database version\", mpr.get_database_version())"
   ]
  },
  {
   "cell_type": "code",
   "execution_count": 9,
   "id": "4fe92329-3498-4f6f-bfdf-5e93ae546361",
   "metadata": {},
   "outputs": [
    {
     "data": {
      "application/vnd.jupyter.widget-view+json": {
       "model_id": "2f94fcbbabd74313b68383f1ebb17dbf",
       "version_major": 2,
       "version_minor": 0
      },
      "text/plain": [
       "  0%|          | 0/155361 [00:00<?, ?it/s]"
      ]
     },
     "metadata": {},
     "output_type": "display_data"
    },
    {
     "name": "stdout",
     "output_type": "stream",
     "text": [
      "CrystalNN failed for mp-994911: No Voronoi neighbors found for site - try increasing cutoff\n",
      "Error with mp-994911: 'NoneType' object has no attribute 'structure'\n"
     ]
    },
    {
     "name": "stderr",
     "output_type": "stream",
     "text": [
      "spglib: Indicated max size(=384) is less than number spglib: of symmetry operations(=768).\n"
     ]
    },
    {
     "name": "stdout",
     "output_type": "stream",
     "text": [
      "CrystalNN failed for mp-1210439: No Voronoi neighbors found for site - try increasing cutoff\n",
      "Error with mp-1210439: 'NoneType' object has no attribute 'structure'\n"
     ]
    },
    {
     "name": "stderr",
     "output_type": "stream",
     "text": [
      "spglib: Indicated max size(=384) is less than number spglib: of symmetry operations(=768).\n"
     ]
    },
    {
     "name": "stdout",
     "output_type": "stream",
     "text": [
      "CrystalNN failed for mp-1247838: No Voronoi neighbors found for site - try increasing cutoff\n",
      "Error with mp-1247838: 'NoneType' object has no attribute 'structure'\n",
      "CrystalNN failed for mp-1213668: No Voronoi neighbors found for site - try increasing cutoff\n",
      "Error with mp-1213668: 'NoneType' object has no attribute 'structure'\n",
      "CrystalNN failed for mp-1215144: No Voronoi neighbors found for site - try increasing cutoff\n",
      "Error with mp-1215144: 'NoneType' object has no attribute 'structure'\n"
     ]
    },
    {
     "name": "stderr",
     "output_type": "stream",
     "text": [
      "spglib: Indicated max size(=384) is less than number spglib: of symmetry operations(=768).\n",
      "spglib: Indicated max size(=384) is less than number spglib: of symmetry operations(=768).\n"
     ]
    },
    {
     "name": "stdout",
     "output_type": "stream",
     "text": [
      "CrystalNN failed for mp-1180797: No Voronoi neighbors found for site - try increasing cutoff\n",
      "Error with mp-1180797: 'NoneType' object has no attribute 'structure'\n",
      "CrystalNN failed for mp-1247813: No Voronoi neighbors found for site - try increasing cutoff\n",
      "Error with mp-1247813: 'NoneType' object has no attribute 'structure'\n"
     ]
    },
    {
     "name": "stderr",
     "output_type": "stream",
     "text": [
      "spglib: Indicated max size(=384) is less than number spglib: of symmetry operations(=768).\n"
     ]
    },
    {
     "name": "stdout",
     "output_type": "stream",
     "text": [
      "CrystalNN failed for mp-1212347: No Voronoi neighbors found for site - try increasing cutoff\n",
      "Error with mp-1212347: 'NoneType' object has no attribute 'structure'\n",
      "CrystalNN failed for mp-1212578: No Voronoi neighbors found for site - try increasing cutoff\n",
      "Error with mp-1212578: 'NoneType' object has no attribute 'structure'\n"
     ]
    },
    {
     "name": "stderr",
     "output_type": "stream",
     "text": [
      "spglib: Indicated max size(=384) is less than number spglib: of symmetry operations(=768).\n"
     ]
    },
    {
     "name": "stdout",
     "output_type": "stream",
     "text": [
      "CrystalNN failed for mp-1214815: No Voronoi neighbors found for site - try increasing cutoff\n",
      "Error with mp-1214815: 'NoneType' object has no attribute 'structure'\n",
      "CrystalNN failed for mp-1215160: No Voronoi neighbors found for site - try increasing cutoff\n",
      "Error with mp-1215160: 'NoneType' object has no attribute 'structure'\n",
      "CrystalNN failed for mp-1180180: No Voronoi neighbors found for site - try increasing cutoff\n",
      "Error with mp-1180180: 'NoneType' object has no attribute 'structure'\n",
      "CrystalNN failed for mp-1101037: No Voronoi neighbors found for site - try increasing cutoff\n",
      "Error with mp-1101037: 'NoneType' object has no attribute 'structure'\n",
      "CrystalNN failed for mp-1182718: No Voronoi neighbors found for site - try increasing cutoff\n",
      "Error with mp-1182718: 'NoneType' object has no attribute 'structure'\n"
     ]
    },
    {
     "name": "stderr",
     "output_type": "stream",
     "text": [
      "spglib: Indicated max size(=384) is less than number spglib: of symmetry operations(=768).\n",
      "spglib: Indicated max size(=384) is less than number spglib: of symmetry operations(=768).\n"
     ]
    },
    {
     "name": "stdout",
     "output_type": "stream",
     "text": [
      "CrystalNN failed for mp-1182772: No Voronoi neighbors found for site - try increasing cutoff\n",
      "Error with mp-1182772: 'NoneType' object has no attribute 'structure'\n"
     ]
    },
    {
     "name": "stderr",
     "output_type": "stream",
     "text": [
      "spglib: Indicated max size(=384) is less than number spglib: of symmetry operations(=768).\n",
      "spglib: Indicated max size(=384) is less than number spglib: of symmetry operations(=768).\n",
      "spglib: Indicated max size(=384) is less than number spglib: of symmetry operations(=768).\n",
      "spglib: Indicated max size(=384) is less than number spglib: of symmetry operations(=768).\n",
      "spglib: Indicated max size(=384) is less than number spglib: of symmetry operations(=768).\n",
      "spglib: Indicated max size(=384) is less than number spglib: of symmetry operations(=768).\n",
      "spglib: Indicated max size(=384) is less than number spglib: of symmetry operations(=768).\n",
      "spglib: Indicated max size(=384) is less than number spglib: of symmetry operations(=768).\n",
      "spglib: Indicated max size(=384) is less than number spglib: of symmetry operations(=768).\n",
      "spglib: Indicated max size(=384) is less than number spglib: of symmetry operations(=768).\n",
      "spglib: Indicated max size(=384) is less than number spglib: of symmetry operations(=768).\n"
     ]
    },
    {
     "name": "stdout",
     "output_type": "stream",
     "text": [
      "CrystalNN failed for mp-1212042: No Voronoi neighbors found for site - try increasing cutoff\n",
      "Error with mp-1212042: 'NoneType' object has no attribute 'structure'\n"
     ]
    },
    {
     "name": "stderr",
     "output_type": "stream",
     "text": [
      "spglib: Indicated max size(=384) is less than number spglib: of symmetry operations(=768).\n",
      "spglib: Indicated max size(=384) is less than number spglib: of symmetry operations(=768).\n",
      "spglib: Indicated max size(=384) is less than number spglib: of symmetry operations(=768).\n",
      "spglib: Indicated max size(=384) is less than number spglib: of symmetry operations(=768).\n",
      "spglib: Indicated max size(=384) is less than number spglib: of symmetry operations(=768).\n",
      "spglib: Indicated max size(=384) is less than number spglib: of symmetry operations(=768).\n",
      "spglib: Indicated max size(=384) is less than number spglib: of symmetry operations(=768).\n",
      "spglib: Indicated max size(=384) is less than number spglib: of symmetry operations(=768).\n",
      "spglib: Indicated max size(=384) is less than number spglib: of symmetry operations(=768).\n",
      "spglib: Indicated max size(=384) is less than number spglib: of symmetry operations(=768).\n",
      "spglib: Indicated max size(=384) is less than number spglib: of symmetry operations(=768).\n",
      "spglib: Indicated max size(=384) is less than number spglib: of symmetry operations(=768).\n",
      "spglib: Indicated max size(=384) is less than number spglib: of symmetry operations(=768).\n",
      "spglib: Indicated max size(=384) is less than number spglib: of symmetry operations(=768).\n",
      "spglib: Indicated max size(=384) is less than number spglib: of symmetry operations(=768).\n",
      "spglib: Indicated max size(=384) is less than number spglib: of symmetry operations(=768).\n",
      "spglib: Indicated max size(=384) is less than number spglib: of symmetry operations(=768).\n",
      "spglib: Indicated max size(=384) is less than number spglib: of symmetry operations(=768).\n",
      "spglib: Indicated max size(=384) is less than number spglib: of symmetry operations(=768).\n",
      "spglib: Indicated max size(=384) is less than number spglib: of symmetry operations(=768).\n",
      "spglib: Indicated max size(=384) is less than number spglib: of symmetry operations(=768).\n",
      "spglib: Indicated max size(=384) is less than number spglib: of symmetry operations(=768).\n",
      "spglib: Indicated max size(=384) is less than number spglib: of symmetry operations(=768).\n",
      "spglib: Indicated max size(=384) is less than number spglib: of symmetry operations(=768).\n",
      "spglib: Indicated max size(=384) is less than number spglib: of symmetry operations(=768).\n",
      "spglib: Indicated max size(=384) is less than number spglib: of symmetry operations(=768).\n",
      "spglib: Indicated max size(=384) is less than number spglib: of symmetry operations(=768).\n",
      "spglib: Indicated max size(=384) is less than number spglib: of symmetry operations(=768).\n",
      "spglib: Indicated max size(=384) is less than number spglib: of symmetry operations(=768).\n",
      "spglib: Indicated max size(=384) is less than number spglib: of symmetry operations(=768).\n",
      "spglib: Indicated max size(=384) is less than number spglib: of symmetry operations(=768).\n",
      "spglib: Indicated max size(=384) is less than number spglib: of symmetry operations(=768).\n",
      "spglib: Indicated max size(=384) is less than number spglib: of symmetry operations(=768).\n",
      "spglib: Indicated max size(=384) is less than number spglib: of symmetry operations(=768).\n",
      "spglib: Indicated max size(=384) is less than number spglib: of symmetry operations(=768).\n",
      "spglib: Indicated max size(=384) is less than number spglib: of symmetry operations(=768).\n",
      "spglib: Indicated max size(=384) is less than number spglib: of symmetry operations(=768).\n",
      "spglib: Indicated max size(=384) is less than number spglib: of symmetry operations(=768).\n",
      "spglib: Indicated max size(=384) is less than number spglib: of symmetry operations(=768).\n",
      "spglib: Indicated max size(=384) is less than number spglib: of symmetry operations(=768).\n",
      "spglib: Indicated max size(=384) is less than number spglib: of symmetry operations(=768).\n",
      "spglib: Indicated max size(=384) is less than number spglib: of symmetry operations(=768).\n",
      "spglib: Indicated max size(=384) is less than number spglib: of symmetry operations(=768).\n",
      "spglib: Indicated max size(=384) is less than number spglib: of symmetry operations(=768).\n",
      "spglib: Indicated max size(=384) is less than number spglib: of symmetry operations(=768).\n",
      "spglib: Indicated max size(=384) is less than number spglib: of symmetry operations(=768).\n",
      "spglib: Indicated max size(=384) is less than number spglib: of symmetry operations(=768).\n",
      "spglib: Indicated max size(=384) is less than number spglib: of symmetry operations(=768).\n",
      "spglib: Indicated max size(=384) is less than number spglib: of symmetry operations(=768).\n",
      "spglib: Indicated max size(=384) is less than number spglib: of symmetry operations(=768).\n",
      "spglib: Indicated max size(=384) is less than number spglib: of symmetry operations(=768).\n",
      "spglib: Indicated max size(=384) is less than number spglib: of symmetry operations(=768).\n",
      "spglib: Indicated max size(=384) is less than number spglib: of symmetry operations(=768).\n",
      "spglib: Indicated max size(=384) is less than number spglib: of symmetry operations(=768).\n",
      "spglib: Indicated max size(=384) is less than number spglib: of symmetry operations(=768).\n",
      "spglib: Indicated max size(=384) is less than number spglib: of symmetry operations(=768).\n",
      "spglib: Indicated max size(=384) is less than number spglib: of symmetry operations(=768).\n",
      "spglib: Indicated max size(=384) is less than number spglib: of symmetry operations(=768).\n",
      "spglib: Indicated max size(=384) is less than number spglib: of symmetry operations(=768).\n",
      "spglib: Indicated max size(=384) is less than number spglib: of symmetry operations(=768).\n",
      "spglib: Indicated max size(=384) is less than number spglib: of symmetry operations(=768).\n",
      "spglib: Indicated max size(=384) is less than number spglib: of symmetry operations(=768).\n",
      "spglib: Indicated max size(=384) is less than number spglib: of symmetry operations(=768).\n"
     ]
    },
    {
     "name": "stdout",
     "output_type": "stream",
     "text": [
      "Number of systems analyzed: 155361\n"
     ]
    }
   ],
   "source": [
    "jl.CrystalNets.toggle_export(False)\n",
    "jl.CrystalNets.toggle_warning(False)\n",
    "warnings.filterwarnings('ignore')\n",
    "\n",
    "res = {}\n",
    "for mat in tqdm(mp_data):\n",
    "    res[mat.material_id] = analyze_structure(mat)\n",
    "\n",
    "print(\"Number of systems analyzed:\", len(res))"
   ]
  },
  {
   "cell_type": "code",
   "execution_count": 10,
   "id": "8b895297-2a9a-48bf-b8e3-7c73f3744e4c",
   "metadata": {},
   "outputs": [],
   "source": [
    "class SetEncoder(json.JSONEncoder):\n",
    "    def default(self, obj):\n",
    "        if isinstance(obj, set):\n",
    "            return list(obj)\n",
    "        return json.JSONEncoder.default(self, obj)\n",
    "\n",
    "with open(\"topo_data.json\", \"w\") as file:\n",
    "    json.dump(res, file, cls=SetEncoder)"
   ]
  },
  {
   "cell_type": "code",
   "execution_count": null,
   "id": "81b0777e-6726-4948-90d2-68d3a2c4a52d",
   "metadata": {},
   "outputs": [],
   "source": []
  },
  {
   "cell_type": "code",
   "execution_count": null,
   "id": "47cfe2d5-5a99-4917-aea2-a20b4f4a9c3b",
   "metadata": {},
   "outputs": [],
   "source": []
  },
  {
   "cell_type": "code",
   "execution_count": 6,
   "id": "f7f011eb-d990-4af4-94d1-77c138a87a4f",
   "metadata": {},
   "outputs": [
    {
     "data": {
      "application/vnd.jupyter.widget-view+json": {
       "model_id": "5576d0c65d90462a97da3953ffb3a0a4",
       "version_major": 2,
       "version_minor": 0
      },
      "text/plain": [
       "Retrieving MaterialsDoc documents:   0%|          | 0/1 [00:00<?, ?it/s]"
      ]
     },
     "metadata": {},
     "output_type": "display_data"
    },
    {
     "name": "stdout",
     "output_type": "stream",
     "text": [
      "{'topology': [(1, 3, 'UNKNOWN 3 1 1 0 0 1 1 1 0 1 0 1 1 1 0 0 1 1 1 0 1 1 1 1 1 0 1 1 1 1 1 1 1 2 0 1 1 1 2 1 1 1 1 2 2 1')], 'coordination': {('Rb', 6), ('O', 6)}, 'bonds': {('Rb', 'O')}}\n"
     ]
    }
   ],
   "source": [
    "with MPRester(apikey) as mpr:\n",
    "    structure = mpr.get_structure_by_material_id(\"mp-1206677\")\n",
    "    make_labels_unique(structure)\n",
    "\n",
    "    # Magnetic moments trigger a bug in CifWriter, so we remove them here\n",
    "    # https://github.com/materialsproject/pymatgen/issues/3772\n",
    "    if \"magmom\" in structure.site_properties:\n",
    "        structure.remove_site_property(\"magmom\")\n",
    "\n",
    "    topo = analyse_topology(structure)\n",
    "    print(topo)"
   ]
  },
  {
   "cell_type": "code",
   "execution_count": 7,
   "id": "02b7cb5d-4ed4-42c9-b39c-5298275ae43b",
   "metadata": {},
   "outputs": [],
   "source": [
    "def exportCif(struct):\n",
    "    # All labels should be unique (otherwise bond specifications will fail)\n",
    "    labels = [site.label for site in struct.sites]\n",
    "    if len(labels) != len(set(labels)):\n",
    "        raise ValueError(\"labels are not unique in structure\")\n",
    "\n",
    "    bonded_struct = None\n",
    "    with warnings.catch_warnings():\n",
    "        warnings.simplefilter(\"ignore\")\n",
    "        try:\n",
    "            bonded_struct = crystallnn.get_bonded_structure(struct)\n",
    "        except Exception as e:\n",
    "            print(f\"CrystalNN failed for {mat.material_id}: {e}\")\n",
    "\n",
    "    coord = set()\n",
    "    bonds = set()\n",
    "    for n, site in enumerate(bonded_struct.structure.sites):\n",
    "        coord.add((str(site.specie), bonded_struct.get_coordination_of_site(n)))\n",
    "        for connected in bonded_struct.get_connected_sites(n):\n",
    "            if site.specie <= connected.site.specie:\n",
    "                bonds.add((str(site.specie), str(connected.site.specie)))\n",
    "\n",
    "    with tempfile.NamedTemporaryFile(suffix=\".cif\", delete=False) as f:\n",
    "        writeToCifFile(bonded_struct, f)\n",
    "        f.close()\n",
    "        res = jl.determine_topology(f.name, crystalnets_options)\n",
    "        print(f.name)\n",
    "        topologies = [(mult, jl.ndims(net[jl.Clustering.AllNodes].genome), str(net[jl.Clustering.AllNodes])) for net, mult in res]\n",
    "        print({\"topology\": topologies, \"coordination\": coord, \"bonds\": bonds})"
   ]
  },
  {
   "cell_type": "code",
   "execution_count": 8,
   "id": "0e98e766-1efa-4aff-8f4d-dbac48faaea2",
   "metadata": {},
   "outputs": [
    {
     "name": "stdout",
     "output_type": "stream",
     "text": [
      "/var/folders/h8/9hx_fyj91053ksgdzb2w03vw0000gp/T/tmpe3nch5i_.cif\n",
      "{'topology': [(1, 3, 'UNKNOWN 3 1 1 0 0 1 1 1 0 1 0 1 1 1 0 0 1 1 1 0 1 1 1 1 1 0 1 1 1 1 1 1 1 2 0 1 1 1 2 1 1 1 1 2 2 1')], 'coordination': {('Rb', 6), ('O', 6)}, 'bonds': {('Rb', 'O')}}\n"
     ]
    }
   ],
   "source": [
    "exportCif(structure)"
   ]
  },
  {
   "cell_type": "code",
   "execution_count": null,
   "id": "0126912c-c24a-4e40-9ba7-de6c54df9b5f",
   "metadata": {},
   "outputs": [],
   "source": []
  },
  {
   "cell_type": "code",
   "execution_count": null,
   "id": "077eacd1-10b7-4def-9464-e73409693f28",
   "metadata": {},
   "outputs": [],
   "source": []
  },
  {
   "cell_type": "code",
   "execution_count": null,
   "id": "6c2f7677-908b-426e-825b-4ba449dcd173",
   "metadata": {},
   "outputs": [],
   "source": []
  },
  {
   "cell_type": "code",
   "execution_count": null,
   "id": "be2fffee-a24b-4759-ac8f-18fdc0ea209b",
   "metadata": {},
   "outputs": [],
   "source": []
  },
  {
   "cell_type": "code",
   "execution_count": 9,
   "id": "72bd8ce5-cbb7-4de6-a091-d8d51dec01e0",
   "metadata": {},
   "outputs": [
    {
     "data": {
      "application/vnd.jupyter.widget-view+json": {
       "model_id": "5ed07ef203a84ba1b97d7c6a8c5010b2",
       "version_major": 2,
       "version_minor": 0
      },
      "text/plain": [
       "Retrieving SummaryDoc documents:   0%|          | 0/1 [00:00<?, ?it/s]"
      ]
     },
     "metadata": {},
     "output_type": "display_data"
    },
    {
     "name": "stderr",
     "output_type": "stream",
     "text": [
      "/Users/fx/miniforge3/envs/matten/lib/python3.10/site-packages/pymatgen/analysis/local_env.py:4146: UserWarning: No oxidation states specified on sites! For better results, set the site oxidation states in the structure.\n",
      "  warnings.warn(\n",
      "/Users/fx/miniforge3/envs/matten/lib/python3.10/site-packages/pymatgen/analysis/local_env.py:3939: UserWarning: CrystalNN: cannot locate an appropriate radius, covalent or atomic radii will be used, this can lead to non-optimal results.\n",
      "  warnings.warn(\n"
     ]
    },
    {
     "data": {
      "text/plain": [
       "Structure Graph\n",
       "Structure: \n",
       "Structure Summary\n",
       "Lattice\n",
       "    abc : 2.428889488469988 2.428889488469988 2.428889488469988\n",
       " angles : 109.47122063449069 109.47122063449069 109.47122063449069\n",
       " volume : 11.030656874268672\n",
       "      A : -1.40232 1.40232 1.40232\n",
       "      B : 1.40232 -1.40232 1.40232\n",
       "      C : 1.40232 1.40232 -1.40232\n",
       "    pbc : True True True\n",
       "PeriodicSite: Co (0.0, 0.0, 0.0) [0.0, 0.0, 0.0]\n",
       "Graph: bonds\n",
       "from    to  to_image    \n",
       "----  ----  ------------\n",
       "   0     0  (1, 1, 1)   \n",
       "   0     0  (1, 0, 0)   \n",
       "   0     0  (0, 0, 1)   \n",
       "   0     0  (0, 1, 0)   "
      ]
     },
     "execution_count": 9,
     "metadata": {},
     "output_type": "execute_result"
    }
   ],
   "source": [
    "with MPRester(apikey) as mpr:\n",
    "    mp_data = mpr.materials.summary.search(\n",
    "        material_ids=[\"mp-2647057\"],\n",
    "        fields=[\"material_id\", \"formula\", \"formula_pretty\", \"nelements\", \"structure\"]\n",
    "    )\n",
    "\n",
    "structure = mp_data[0].structure\n",
    "bonded_struct = crystallnn.get_bonded_structure(structure)\n",
    "bonded_struct"
   ]
  },
  {
   "cell_type": "code",
   "execution_count": 17,
   "id": "a40e8b07-6243-4996-9816-45007ad40cef",
   "metadata": {},
   "outputs": [
    {
     "name": "stdout",
     "output_type": "stream",
     "text": [
      "Co\n",
      "4\n",
      "8\n"
     ]
    }
   ],
   "source": [
    "for n, site in enumerate(bonded_struct.structure.sites):\n",
    "    print(site.specie)\n",
    "    print(bonded_struct.get_coordination_of_site(n))\n",
    "    print(len(bonded_struct.get_connected_sites(n)))"
   ]
  },
  {
   "cell_type": "code",
   "execution_count": 18,
   "id": "2381ce82-a6d3-415a-b21a-1157acde52e6",
   "metadata": {},
   "outputs": [
    {
     "data": {
      "application/vnd.jupyter.widget-view+json": {
       "model_id": "7b8da0c9bc2e409a9d010b8037fc6996",
       "version_major": 2,
       "version_minor": 0
      },
      "text/plain": [
       "Retrieving SummaryDoc documents:   0%|          | 0/1 [00:00<?, ?it/s]"
      ]
     },
     "metadata": {},
     "output_type": "display_data"
    },
    {
     "name": "stdout",
     "output_type": "stream",
     "text": [
      "Co\n",
      "4\n",
      "8\n"
     ]
    }
   ],
   "source": [
    "with MPRester(apikey) as mpr:\n",
    "    mp_data = mpr.materials.summary.search(\n",
    "        material_ids=[\"mp-2647057\"],\n",
    "        fields=[\"material_id\", \"formula\", \"formula_pretty\", \"nelements\", \"structure\"]\n",
    "    )\n",
    "\n",
    "structure = mp_data[0].structure\n",
    "bonded_struct = crystallnn.get_bonded_structure(structure)\n",
    "\n",
    "for n, site in enumerate(bonded_struct.structure.sites):\n",
    "    print(site.specie)\n",
    "    print(bonded_struct.get_coordination_of_site(n)) # This is wrong\n",
    "    print(len(bonded_struct.get_connected_sites(n))) # This is right\n",
    "\n",
    "# More bug: https://github.com/materialsproject/pymatgen/issues/3888#issuecomment-2232571072"
   ]
  },
  {
   "cell_type": "code",
   "execution_count": 20,
   "id": "06af094b-7704-4db0-9abc-a9a4250d288b",
   "metadata": {},
   "outputs": [
    {
     "data": {
      "text/plain": [
       "8"
      ]
     },
     "execution_count": 20,
     "metadata": {},
     "output_type": "execute_result"
    }
   ],
   "source": [
    "bonded_struct.graph.degree(0)"
   ]
  },
  {
   "cell_type": "code",
   "execution_count": null,
   "id": "70d813cb-257f-4404-a4a9-212e302d8675",
   "metadata": {},
   "outputs": [],
   "source": []
  }
 ],
 "metadata": {
  "kernelspec": {
   "display_name": "Python 3 (ipykernel)",
   "language": "python",
   "name": "python3"
  },
  "language_info": {
   "codemirror_mode": {
    "name": "ipython",
    "version": 3
   },
   "file_extension": ".py",
   "mimetype": "text/x-python",
   "name": "python",
   "nbconvert_exporter": "python",
   "pygments_lexer": "ipython3",
   "version": "3.10.14"
  }
 },
 "nbformat": 4,
 "nbformat_minor": 5
}
