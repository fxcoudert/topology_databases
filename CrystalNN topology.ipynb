{
 "cells": [
  {
   "cell_type": "code",
   "execution_count": 1,
   "id": "45f889c3-e7bc-447a-a6db-9b6e2d4a426f",
   "metadata": {},
   "outputs": [
    {
     "name": "stdout",
     "output_type": "stream",
     "text": [
      "Detected IPython. Loading juliacall extension. See https://juliapy.github.io/PythonCall.jl/stable/compat/#IPython\n",
      "Using pymatgen version: 2024.6.10\n"
     ]
    }
   ],
   "source": [
    "import juliacall\n",
    "import pymatgen\n",
    "\n",
    "from pymatgen.analysis.local_env import CrystalNN\n",
    "from pymatgen.core import Lattice, Structure\n",
    "from pymatgen.ext.matproj import MPRester\n",
    "from pymatgen.io.cif import CifWriter\n",
    "\n",
    "from tqdm.notebook import tqdm\n",
    "import os, os.path\n",
    "import tempfile\n",
    "import warnings\n",
    "\n",
    "print(\"Using pymatgen version:\", pymatgen.core.__version__)"
   ]
  },
  {
   "cell_type": "code",
   "execution_count": 2,
   "id": "eeec06cc-1657-4e0f-bb18-44c722f07801",
   "metadata": {},
   "outputs": [
    {
     "name": "stdout",
     "output_type": "stream",
     "text": [
      "Using Julia version: 1.10.3\n",
      "Running from directory: /opt/julia-1.10.3/bin\n"
     ]
    }
   ],
   "source": [
    "jl = juliacall.newmodule(\"NotebookModule\")\n",
    "jl.seval(\"using CrystalNets\")\n",
    "jl.CrystalNets.toggle_export(False)\n",
    "\n",
    "print(\"Using Julia version:\", jl.seval(\"VERSION\"))\n",
    "print(\"Running from directory:\", jl.seval(\"Sys.BINDIR\"))"
   ]
  },
  {
   "cell_type": "code",
   "execution_count": 3,
   "id": "daef83cd-46d2-4eea-a059-8ac9102e9d18",
   "metadata": {},
   "outputs": [],
   "source": [
    "crystallnn = CrystalNN()\n",
    "crystalnets_options = jl.CrystalNets.Options(structure=jl.StructureType.Auto, clusterings=[jl.Clustering.AllNodes], bonding=jl.Bonding.Input)\n",
    "\n",
    "\n",
    "def make_labels_unique(struct):\n",
    "    from collections import Counter\n",
    "    \n",
    "    labels = Counter(site.label for site in struct.sites)\n",
    "    counter = {}\n",
    "    for i, site in enumerate(struct.sites):\n",
    "        label = site.label\n",
    "        if labels[label] > 1 or label.isalpha():\n",
    "            c = counter.get(label, 0)\n",
    "            site.label = f\"{label}{c}\" if label.isalpha() else f\"{label}_{c}\"\n",
    "            c = c + 1\n",
    "            counter[label] = c\n",
    "\n",
    "\n",
    "def jimage_to_site_symmetry(jimage):\n",
    "    i, j, k = jimage\n",
    "    return f\"1_{5+i}{5+j}{5+k}\"\n",
    "\n",
    "\n",
    "def writeToCifFile(bonded_struct, file):\n",
    "    cif_writer = CifWriter(bonded_struct.structure)\n",
    "    cif = str(cif_writer)\n",
    "    cif += \"\"\"loop_\n",
    "_geom_bond_atom_site_label_1\n",
    "_geom_bond_atom_site_label_2\n",
    "_geom_bond_distance\n",
    "_geom_bond_site_symmetry_2\n",
    "\"\"\"\n",
    "\n",
    "    for n, site in enumerate(bonded_struct.structure.sites):\n",
    "        for connected in bonded_struct.get_connected_sites(n):\n",
    "            # Make sure we only output each bond once\n",
    "            if site.label < connected.site.label:\n",
    "                cif += f\"{site.label} {connected.site.label} {connected.dist:.6f} {jimage_to_site_symmetry(connected.jimage)}\\n\"\n",
    "\n",
    "    file.write(cif.encode())\n",
    "\n",
    "\n",
    "def analyse_topology(struct):\n",
    "    # All labels should be unique (otherwise bond specifications will fail)\n",
    "    labels = [site.label for site in struct.sites]\n",
    "    if len(labels) != len(set(labels)):\n",
    "        raise ValueError(\"labels are not unique in structure\")\n",
    "\n",
    "    bonded_struct = None\n",
    "    with warnings.catch_warnings():\n",
    "        warnings.simplefilter(\"ignore\")\n",
    "        try:\n",
    "            bonded_struct = crystallnn.get_bonded_structure(struct)\n",
    "        except:\n",
    "            pass\n",
    "\n",
    "    with tempfile.NamedTemporaryFile(suffix=\".cif\", delete=False) as f:\n",
    "        writeToCifFile(bonded_struct, f)\n",
    "        f.close()\n",
    "        res = jl.determine_topology(f.name, crystalnets_options)\n",
    "        os.unlink(f.name)\n",
    "        return [(mult, jl.ndims(net[jl.Clustering.AllNodes].genome), str(net[jl.Clustering.AllNodes])) for net, mult in res]"
   ]
  },
  {
   "cell_type": "code",
   "execution_count": 4,
   "id": "8175dfe7-3ce1-48f9-bc17-de159ea7ee69",
   "metadata": {},
   "outputs": [
    {
     "data": {
      "application/vnd.jupyter.widget-view+json": {
       "model_id": "e1d83fb392624af8b1a69440b08fb69f",
       "version_major": 2,
       "version_minor": 0
      },
      "text/plain": [
       "Retrieving MaterialsDoc documents:   0%|          | 0/1 [00:00<?, ?it/s]"
      ]
     },
     "metadata": {},
     "output_type": "display_data"
    },
    {
     "name": "stdout",
     "output_type": "stream",
     "text": [
      "[(1, 3, 'lon')]\n"
     ]
    }
   ],
   "source": [
    "with open(os.path.expanduser(\"~/.mpapikey\"), \"r\") as f:\n",
    "    apikey = f.read().strip()\n",
    "\n",
    "with MPRester(apikey) as mpr:\n",
    "    structure = mpr.get_structure_by_material_id(\"mp-3934\")\n",
    "    make_labels_unique(structure)\n",
    "\n",
    "    # Magnetic moments trigger a bug in CifWriter, so we remove them here\n",
    "    # https://github.com/materialsproject/pymatgen/issues/3772\n",
    "    if \"magmom\" in structure.site_properties:\n",
    "        structure.remove_site_property(\"magmom\")\n",
    "\n",
    "    topo = analyse_topology(structure)\n",
    "    print(topo)"
   ]
  },
  {
   "cell_type": "code",
   "execution_count": 5,
   "id": "d29d2fc8-96e6-4dc6-a3e0-7c2d2cbeef4c",
   "metadata": {},
   "outputs": [
    {
     "data": {
      "application/vnd.jupyter.widget-view+json": {
       "model_id": "3fd14b4709bd47658504145225c916c9",
       "version_major": 2,
       "version_minor": 0
      },
      "text/plain": [
       "Retrieving SummaryDoc documents:   0%|          | 0/153235 [00:00<?, ?it/s]"
      ]
     },
     "metadata": {},
     "output_type": "display_data"
    },
    {
     "name": "stdout",
     "output_type": "stream",
     "text": [
      "Number of materials found: 155361\n",
      "Database version 2023.11.1\n"
     ]
    }
   ],
   "source": [
    "with MPRester(apikey) as mpr:\n",
    "    mp_data = mpr.materials.summary.search(\n",
    "        fields=[\"material_id\", \"formula\", \"formula_pretty\", \"nelements\", \"structure\"]\n",
    "    )\n",
    "    print(\"Number of materials found:\", len(mp_data))\n",
    "    print(\"Database version\", mpr.get_database_version())"
   ]
  },
  {
   "cell_type": "code",
   "execution_count": null,
   "id": "6a5d1501-cb7d-438e-aec7-73fb9bc16e3c",
   "metadata": {},
   "outputs": [],
   "source": []
  },
  {
   "cell_type": "code",
   "execution_count": 12,
   "id": "ec719df8-6e3a-4afc-9381-27344787f91f",
   "metadata": {
    "scrolled": true
   },
   "outputs": [
    {
     "data": {
      "application/vnd.jupyter.widget-view+json": {
       "model_id": "12e9d49370a04667a929d4473cc06c6c",
       "version_major": 2,
       "version_minor": 0
      },
      "text/plain": [
       "  0%|          | 0/155361 [00:00<?, ?it/s]"
      ]
     },
     "metadata": {},
     "output_type": "display_data"
    },
    {
     "ename": "KeyboardInterrupt",
     "evalue": "",
     "output_type": "error",
     "traceback": [
      "\u001b[0;31m---------------------------------------------------------------------------\u001b[0m",
      "\u001b[0;31mKeyboardInterrupt\u001b[0m                         Traceback (most recent call last)",
      "Cell \u001b[0;32mIn[12], line 17\u001b[0m\n\u001b[1;32m     14\u001b[0m     mat\u001b[38;5;241m.\u001b[39mstructure\u001b[38;5;241m.\u001b[39mremove_site_property(\u001b[38;5;124m\"\u001b[39m\u001b[38;5;124mmagmom\u001b[39m\u001b[38;5;124m\"\u001b[39m)\n\u001b[1;32m     16\u001b[0m \u001b[38;5;28;01mtry\u001b[39;00m:\n\u001b[0;32m---> 17\u001b[0m     topo \u001b[38;5;241m=\u001b[39m \u001b[43manalyse_topology\u001b[49m\u001b[43m(\u001b[49m\u001b[43mmat\u001b[49m\u001b[38;5;241;43m.\u001b[39;49m\u001b[43mstructure\u001b[49m\u001b[43m)\u001b[49m\n\u001b[1;32m     18\u001b[0m     res\u001b[38;5;241m.\u001b[39mappend([mat\u001b[38;5;241m.\u001b[39mmaterial_id, mat\u001b[38;5;241m.\u001b[39mnelements, mat\u001b[38;5;241m.\u001b[39mformula_pretty, topo])\n\u001b[1;32m     19\u001b[0m \u001b[38;5;28;01mexcept\u001b[39;00m \u001b[38;5;167;01mException\u001b[39;00m \u001b[38;5;28;01mas\u001b[39;00m e:\n",
      "Cell \u001b[0;32mIn[3], line 60\u001b[0m, in \u001b[0;36manalyse_topology\u001b[0;34m(struct)\u001b[0m\n\u001b[1;32m     58\u001b[0m writeToCifFile(bonded_struct, f)\n\u001b[1;32m     59\u001b[0m f\u001b[38;5;241m.\u001b[39mclose()\n\u001b[0;32m---> 60\u001b[0m res \u001b[38;5;241m=\u001b[39m \u001b[43mjl\u001b[49m\u001b[38;5;241;43m.\u001b[39;49m\u001b[43mdetermine_topology\u001b[49m\u001b[43m(\u001b[49m\u001b[43mf\u001b[49m\u001b[38;5;241;43m.\u001b[39;49m\u001b[43mname\u001b[49m\u001b[43m,\u001b[49m\u001b[43m \u001b[49m\u001b[43mcrystalnets_options\u001b[49m\u001b[43m)\u001b[49m\n\u001b[1;32m     61\u001b[0m os\u001b[38;5;241m.\u001b[39munlink(f\u001b[38;5;241m.\u001b[39mname)\n\u001b[1;32m     62\u001b[0m \u001b[38;5;28;01mreturn\u001b[39;00m [(mult, jl\u001b[38;5;241m.\u001b[39mndims(net[jl\u001b[38;5;241m.\u001b[39mClustering\u001b[38;5;241m.\u001b[39mAllNodes]\u001b[38;5;241m.\u001b[39mgenome), \u001b[38;5;28mstr\u001b[39m(net[jl\u001b[38;5;241m.\u001b[39mClustering\u001b[38;5;241m.\u001b[39mAllNodes])) \u001b[38;5;28;01mfor\u001b[39;00m net, mult \u001b[38;5;129;01min\u001b[39;00m res]\n",
      "File \u001b[0;32m~/.julia/packages/PythonCall/S5MOg/src/JlWrap/any.jl:223\u001b[0m, in \u001b[0;36m__call__\u001b[0;34m(self, *args, **kwargs)\u001b[0m\n\u001b[1;32m    221\u001b[0m     return ValueBase.__dir__(self) + self._jl_callmethod($(pyjl_methodnum(pyjlany_dir)))\n\u001b[1;32m    222\u001b[0m def __call__(self, *args, **kwargs):\n\u001b[0;32m--> 223\u001b[0m     return self._jl_callmethod($(pyjl_methodnum(pyjlany_call)), args, kwargs)\n\u001b[1;32m    224\u001b[0m def __bool__(self):\n\u001b[1;32m    225\u001b[0m     return True\n",
      "\u001b[0;31mKeyboardInterrupt\u001b[0m: "
     ]
    }
   ],
   "source": [
    "jl.CrystalNets.toggle_export(False)\n",
    "jl.CrystalNets.toggle_warning(False)\n",
    "warnings.filterwarnings('ignore')\n",
    "\n",
    "res = []\n",
    "errors = []\n",
    "\n",
    "for mat in tqdm(mp_data):\n",
    "    make_labels_unique(mat.structure)\n",
    "\n",
    "    # Magnetic moments trigger a bug in CifWriter, so we remove them here\n",
    "    # https://github.com/materialsproject/pymatgen/issues/3772\n",
    "    if \"magmom\" in mat.structure.site_properties:\n",
    "        mat.structure.remove_site_property(\"magmom\")\n",
    "\n",
    "    try:\n",
    "        topo = analyse_topology(mat.structure)\n",
    "        res.append([mat.material_id, mat.nelements, mat.formula_pretty, topo])\n",
    "    except Exception as e:\n",
    "        errors.append((mat.material_id, e))\n",
    "\n",
    "print(\"Number of systems analyzed:\", len(res))\n",
    "print(\"Number of errors:\", len(errors))"
   ]
  },
  {
   "cell_type": "code",
   "execution_count": null,
   "id": "f1d41bb9-f84a-484f-9c01-3f2c59e89532",
   "metadata": {},
   "outputs": [],
   "source": []
  },
  {
   "cell_type": "code",
   "execution_count": 12,
   "id": "ca1d8e23-43a0-4140-aa1b-c356b928df83",
   "metadata": {},
   "outputs": [],
   "source": [
    "import json\n",
    "\n",
    "with open(\"topo_data.json\", \"w\") as file:\n",
    "    json.dump(res, file)"
   ]
  },
  {
   "cell_type": "code",
   "execution_count": 33,
   "id": "229604d3-c190-43b3-833f-d4bc89ef35ab",
   "metadata": {},
   "outputs": [
    {
     "data": {
      "text/plain": [
       "[(1, 46849),\n",
       " (2, 1682),\n",
       " (4, 177),\n",
       " (3, 47),\n",
       " (8, 17),\n",
       " (6, 16),\n",
       " (12, 13),\n",
       " (10, 13),\n",
       " (11, 10),\n",
       " (9, 9),\n",
       " (7, 8),\n",
       " (14, 7),\n",
       " (15, 7),\n",
       " (5, 6),\n",
       " (13, 5),\n",
       " (17, 4),\n",
       " (16, 3),\n",
       " (20, 3),\n",
       " (19, 2),\n",
       " (18, 1),\n",
       " (21, 1),\n",
       " (25, 1),\n",
       " (22, 1),\n",
       " (29, 1)]"
      ]
     },
     "execution_count": 33,
     "metadata": {},
     "output_type": "execute_result"
    }
   ],
   "source": [
    "from collections import Counter\n",
    "\n",
    "interp = [len(x[3]) for x in res]\n",
    "Counter(interp).most_common()"
   ]
  },
  {
   "cell_type": "code",
   "execution_count": 48,
   "id": "038ae214-2b71-4e9a-b33d-af5e73d03f37",
   "metadata": {},
   "outputs": [
    {
     "data": {
      "text/plain": [
       "[(3, 40143), (2, 5569), (0, 4241), (1, 2501)]"
      ]
     },
     "execution_count": 48,
     "metadata": {},
     "output_type": "execute_result"
    }
   ],
   "source": [
    "dim = [y[1] for x in res for y in x[3]]\n",
    "Counter(dim).most_common()"
   ]
  },
  {
   "cell_type": "code",
   "execution_count": 55,
   "id": "c92ba0cd-efc5-4e08-8ca4-13ffe0d12a97",
   "metadata": {},
   "outputs": [
    {
     "data": {
      "text/plain": [
       "[('non-periodic', 4190),\n",
       " ('UNKNOWN 1 1 1 1', 1811),\n",
       " ('kgd', 1646),\n",
       " ('pcu', 1067),\n",
       " ('sql', 631),\n",
       " ('bcu', 612),\n",
       " ('hcb', 563),\n",
       " ('fcu', 531),\n",
       " ('xal', 385),\n",
       " ('UNKNOWN 3 1 2 0 0 0 1 2 0 0 1 1 2 1 0 0 1 2 1 0 1 1 2 1 1 0 1 2 1 1 1 1 3 0 0 0 1 3 0 0 1 1 3 0 1 0 1 3 0 1 1 1 3 1 1 0 1 3 1 1 1 2 3 -1 0 0 2 3 0 0 0 2 3 0 1 0',\n",
       "  378),\n",
       " ('dia', 363),\n",
       " ('UNKNOWN 3 1 1 0 0 1 1 1 1 -1 -1 1 1 1 0 -1 1 2 -2 1 2 1 2 -2 1 3 1 2 -1 0 1 1 2 -1 0 2 1 2 -1 1 1 1 2 -1 1 2 1 2 0 0 0 1 2 0 0 1 2 2 0 0 1 2 2 0 1 0 2 2 1 -1 -2 2 2 1 -1 -1 2 2 1 -1 0 2 2 1 0 -2 2 2 1 0 -1 2 2 1 0 0 2 2 2 -1 -2',\n",
       "  318),\n",
       " ('UNKNOWN 3 1 1 0 1 1 1 1 1 0 1 1 2 0 0 0 1 2 0 1 1 1 2 1 0 1 1 2 1 1 2 1 3 0 0 0 1 3 0 1 1 1 3 1 0 1 1 3 1 1 2 1 4 0 0 0 1 4 0 0 1 2 2 0 1 1 2 2 1 0 1 2 3 -1 0 -2 2 3 -1 0 -1 2 3 0 -1 -2 2 3 0 -1 -1 2 3 0 0 -1 2 3 0 0 0 2 4 -1 -1 -2 2 4 -1 0 -1 2 4 0 -1 -1 2 4 0 0 0 3 3 0 1 1 3 3 1 0 1 3 4 -1 -1 -1 3 4 -1 0 0 3 4 0 -1 0 3 4 0 0 1 4 4 0 1 1 4 4 1 0 1',\n",
       "  284),\n",
       " ('UNKNOWN 3 1 2 0 0 0 1 2 1 0 1 1 3 0 0 0 1 4 0 0 0 1 4 1 0 1 1 5 0 0 0 1 6 0 0 0 1 6 1 0 1 1 7 0 0 0 2 3 -1 0 -1 2 3 0 0 0 2 5 -1 0 -1 2 5 0 0 0 2 7 -2 -1 -1 2 7 -1 -1 0 2 8 0 0 0 2 9 0 0 0 3 4 0 0 0 3 4 1 0 1 3 6 -1 -1 -1 3 6 0 -1 0 3 8 0 0 0 3 8 1 0 1 3 9 0 0 -1 3 9 1 0 0 4 5 -1 0 -2 4 5 0 0 -1 4 7 -1 0 -1 4 7 0 0 0 4 8 1 1 0 4 9 0 0 -1 5 6 0 0 0 5 6 1 0 1 5 8 1 1 1 5 8 2 1 2 5 9 0 0 0 5 9 1 0 1 6 7 -1 0 -1 6 7 0 0 0 6 8 1 1 1 6 9 1 1 0 7 8 1 1 0 7 8 2 1 1 7 9 1 1 0 7 9 2 1 1',\n",
       "  262),\n",
       " ('UNKNOWN 3 1 2 0 0 0 1 2 0 1 1 1 2 1 1 1 1 3 0 0 0 1 3 0 1 0 1 3 1 1 0 1 4 0 0 0 1 4 0 0 1 1 4 1 1 1 1 5 0 0 0 1 5 0 0 1 1 5 0 1 1 2 3 0 0 -1 2 3 0 0 0 2 4 0 -1 0 2 4 0 0 0 2 5 -1 -1 0 2 5 0 0 0 2 6 0 0 0 2 6 0 1 1 2 6 1 1 1 3 4 0 -1 0 3 4 0 0 1 3 5 -1 -1 0 3 5 0 0 1 3 6 0 0 1 3 6 0 1 1 3 6 1 1 1 4 5 -1 0 0 4 5 0 0 0 4 6 0 1 0 4 6 0 1 1 4 6 1 2 1 5 6 1 1 0 5 6 1 1 1 5 6 1 2 1',\n",
       "  254),\n",
       " ('xbo', 249),\n",
       " ('UNKNOWN 3 1 1 0 0 1 1 1 0 1 0 1 1 1 0 0 1 1 1 0 1 1 1 1 1 0 1 1 1 1 1 1 1 2 0 1 1 1 2 1 1 1 1 2 2 1',\n",
       "  201),\n",
       " ('UNKNOWN 3 1 2 -2 1 1 1 2 -1 0 0 1 2 -1 0 1 1 2 0 0 0 1 3 -1 1 0 1 3 0 0 0 1 4 -1 0 0 1 4 0 0 0 2 3 -1 1 0 2 3 0 0 0 2 3 0 1 0 2 3 1 0 0 2 4 0 0 -1 2 4 1 -1 -1 2 4 1 0 -1 2 4 2 -1 -1 2 5 -2 1 1 2 5 -1 0 0 2 5 -1 0 1 2 5 0 0 0 3 4 1 -1 -1 3 5 -2 0 1 3 5 -1 0 1 4 5 -2 1 1 4 5 -1 0 1',\n",
       "  201),\n",
       " ('reo-d', 193),\n",
       " ('UNKNOWN 3 1 2 0 0 0 1 2 0 1 0 1 2 1 1 1 1 3 0 0 0 1 3 1 0 1 1 3 1 1 1 1 4 0 0 0 1 4 0 1 0 1 4 0 1 1 1 5 0 0 0 1 5 0 0 1 1 5 0 1 1 2 3 0 -1 0 2 3 0 0 0 2 4 0 0 0 2 5 0 0 1 2 6 0 0 0 2 6 0 1 0 2 6 0 1 1 3 4 0 1 1 3 5 -1 0 0 3 6 0 1 0 3 6 0 1 1 3 6 0 2 1 4 5 0 -1 0 4 5 0 0 0 4 6 0 0 0 4 6 0 1 0 4 6 1 1 1 5 6 0 1 0 5 6 1 1 1 5 6 1 2 1',\n",
       "  192),\n",
       " ('ftw', 183),\n",
       " ('UNKNOWN 3 1 2 0 0 0 1 2 0 1 0 1 3 0 0 0 1 4 0 0 0 1 5 0 0 0 1 5 0 1 0 1 6 0 0 0 1 6 0 1 0 1 7 0 0 0 2 3 0 -1 0 2 3 0 0 0 2 6 0 0 0 2 7 -1 -2 -1 2 7 -1 -1 -1 2 8 0 0 0 2 8 0 1 0 2 9 0 0 0 2 10 0 0 0 3 4 0 -1 -1 3 5 0 0 0 3 5 0 1 0 3 8 0 1 0 3 11 0 0 0 3 11 0 1 0 3 12 0 0 0 4 6 0 0 0 4 6 0 1 0 4 7 -1 -1 -1 4 9 0 1 1 4 9 0 2 1 4 10 0 0 0 4 10 0 1 0 4 11 0 1 1 4 11 0 2 1 5 6 0 0 0 5 7 0 -1 0 5 7 0 0 0 5 8 1 1 1 5 8 1 2 1 5 9 1 1 1 5 11 0 0 0 6 10 1 1 1 6 11 0 1 1 6 12 0 0 1 6 12 0 1 1 7 8 1 2 1 7 10 1 1 1 7 10 1 2 1 7 12 0 1 1 8 9 0 -1 0 8 9 0 0 0 8 12 -1 -2 -1 9 10 0 -1 -1 9 11 0 0 0 9 12 -1 -2 -1 9 12 -1 -1 -1 10 12 -1 -1 0 10 12 -1 0 0 11 12 0 -1 0 11 12 0 0 0',\n",
       "  173),\n",
       " ('mgc-x', 172),\n",
       " ('nia', 171),\n",
       " ('UNKNOWN 3 1 2 0 0 0 1 2 0 1 1 1 2 1 1 1 1 2 1 2 2 1 3 0 0 0 1 3 0 1 0 1 3 1 1 1 1 3 1 2 1 1 4 0 0 0 1 4 0 1 0 1 4 0 1 1 1 4 0 2 1 2 2 0 1 0 2 3 0 -1 -1 2 3 0 0 -1 2 3 0 0 0 2 3 0 1 0 2 4 -1 -1 -1 2 4 -1 0 -1 2 4 0 0 0 2 4 0 1 0 3 3 0 1 1 3 4 -1 -1 -1 3 4 -1 0 0 3 4 0 0 0 3 4 0 1 1 4 4 1 1 1',\n",
       "  167),\n",
       " ('UNKNOWN 3 1 2 0 0 0 1 2 0 1 1 1 3 0 0 0 1 4 0 0 0 1 4 0 1 1 1 5 0 0 0 1 6 0 0 0 1 6 0 1 1 1 7 0 0 0 2 8 0 0 0 2 9 0 0 0 3 8 0 0 0 3 8 0 1 1 3 9 0 0 -1 3 9 0 1 0 4 8 -1 0 0 4 9 0 0 -1 5 8 -1 0 1 5 8 -1 1 2 5 9 0 0 0 5 9 0 1 1 6 8 -1 0 1 6 9 -1 0 0 7 8 -1 0 0 7 8 -1 1 1 7 9 -1 0 0 7 9 -1 1 1',\n",
       "  163),\n",
       " ('flu', 161),\n",
       " ('UNKNOWN 3 1 2 0 0 0 1 2 0 1 1 1 3 0 0 0 1 4 0 0 0 2 5 0 0 0 2 5 0 1 1 2 6 0 0 0 2 7 0 0 0 2 7 0 1 1 2 8 0 0 0 2 9 0 0 0 3 7 0 0 1 3 8 0 0 0 3 8 0 1 1 3 9 0 -1 0 3 9 0 0 1 3 10 0 0 0 3 10 0 1 1 3 11 0 0 0 4 5 -1 1 1 4 6 -1 0 0 4 6 -1 1 1 4 9 0 0 0 4 9 0 1 1 4 10 0 0 0 4 10 0 1 1 4 11 0 1 0 5 12 0 0 0 5 12 0 1 1 6 12 0 2 1 7 12 0 1 0 7 12 0 2 1 8 12 0 1 1 10 12 -1 1 1 11 12 -1 1 1 11 12 -1 2 2',\n",
       "  153),\n",
       " ('sqc1279', 152),\n",
       " ('UNKNOWN 3 1 2 0 0 0 1 3 0 0 0 1 4 0 0 0 1 5 0 0 0 1 6 0 0 0 1 7 0 0 0 2 8 0 0 0 2 8 0 1 1 2 9 0 0 0 2 10 0 0 0 2 11 0 0 0 2 12 0 0 0 2 13 0 0 0 2 14 0 0 0 3 9 0 1 0 3 10 -1 1 0 3 11 0 1 0 3 12 0 0 0 3 13 0 1 0 3 14 0 0 0 3 15 0 0 0 3 15 0 1 1 4 8 0 1 1 4 9 0 1 1 4 11 0 0 0 4 12 0 1 1 4 13 0 0 0 4 13 0 1 1 4 15 0 0 1 4 16 0 0 0 5 9 -1 1 0 5 10 -1 1 0 5 11 -1 1 0 5 12 0 0 0 5 13 0 0 0 5 14 -1 0 0 5 16 0 -1 -1 5 16 0 0 0 6 8 0 1 1 6 9 0 2 1 6 11 0 1 0 6 12 0 1 1 6 14 0 0 0 6 14 0 1 1 6 15 0 1 1 6 16 1 0 0 7 8 -1 2 1 7 9 -1 2 1 7 10 -1 1 0 7 10 -1 2 1 7 11 -1 1 0 7 12 0 1 1 7 15 0 1 1 7 16 0 0 0',\n",
       "  140)]"
      ]
     },
     "execution_count": 55,
     "metadata": {},
     "output_type": "execute_result"
    }
   ],
   "source": [
    "nets = [y[2] for x in res for y in x[3]]\n",
    "Counter(nets).most_common(30)"
   ]
  },
  {
   "cell_type": "code",
   "execution_count": 73,
   "id": "aeb9582b-3a87-49b4-8f15-2fd1f3f43d68",
   "metadata": {},
   "outputs": [
    {
     "data": {
      "text/plain": [
       "1811"
      ]
     },
     "execution_count": 73,
     "metadata": {},
     "output_type": "execute_result"
    }
   ],
   "source": [
    "unknown_1111 = [str(x[0]) for x in res for y in x[3] if y[2] == 'UNKNOWN 1 1 1 1']\n",
    "len(unknown_1111)"
   ]
  },
  {
   "cell_type": "code",
   "execution_count": 75,
   "id": "038a60df-005e-44aa-9547-b71968fd224a",
   "metadata": {},
   "outputs": [
    {
     "data": {
      "text/plain": [
       "['mp-732005',\n",
       " 'mp-732005',\n",
       " 'mp-732005',\n",
       " 'mp-732005',\n",
       " 'mp-695941',\n",
       " 'mp-695941',\n",
       " 'mp-649756',\n",
       " 'mp-649756',\n",
       " 'mp-703539',\n",
       " 'mp-703539']"
      ]
     },
     "execution_count": 75,
     "metadata": {},
     "output_type": "execute_result"
    }
   ],
   "source": [
    "unknown_1111[:10]"
   ]
  },
  {
   "cell_type": "code",
   "execution_count": 79,
   "id": "93e908c6-546b-4c7d-80e6-5aa2ce0682cf",
   "metadata": {},
   "outputs": [
    {
     "data": {
      "text/plain": [
       "378"
      ]
     },
     "execution_count": 79,
     "metadata": {},
     "output_type": "execute_result"
    }
   ],
   "source": [
    "s = \"UNKNOWN 3 1 2 0 0 0 1 2 0 0 1 1 2 1 0 0 1 2 1 0 1 1 2 1 1 0 1 2 1 1 1 1 3 0 0 0 1 3 0 0 1 1 3 0 1 0 1 3 0 1 1 1 3 1 1 0 1 3 1 1 1 2 3 -1 0 0 2 3 0 0 0 2 3 0 1 0\"\n",
    "unknown_2nd = [str(x[0]) for x in res for y in x[3] if y[2] == s]\n",
    "len(unknown_2nd)"
   ]
  },
  {
   "cell_type": "code",
   "execution_count": 80,
   "id": "03f12d09-7ba8-4c7a-aafb-6a030289608c",
   "metadata": {},
   "outputs": [
    {
     "data": {
      "text/plain": [
       "['mp-12062',\n",
       " 'mp-944',\n",
       " 'mp-7359',\n",
       " 'mp-1205318',\n",
       " 'mp-9899',\n",
       " 'mp-1205316',\n",
       " 'mp-13272',\n",
       " 'mp-1077361',\n",
       " 'mp-9744',\n",
       " 'mp-30363',\n",
       " 'mp-11816',\n",
       " 'mp-9898',\n",
       " 'mp-31145',\n",
       " 'mp-16254',\n",
       " 'mp-11700',\n",
       " 'mp-1219',\n",
       " 'mp-1102026',\n",
       " 'mp-10616',\n",
       " 'mp-10615',\n",
       " 'mp-13277']"
      ]
     },
     "execution_count": 80,
     "metadata": {},
     "output_type": "execute_result"
    }
   ],
   "source": [
    "unknown_2nd[:20]"
   ]
  },
  {
   "cell_type": "code",
   "execution_count": 105,
   "id": "b09c10e1-81d1-4534-9ebc-308b9e36595e",
   "metadata": {},
   "outputs": [],
   "source": [
    "def write_cif_with_bonds(mpid):\n",
    "    with MPRester(apikey) as mpr:\n",
    "        struct = mpr.get_structure_by_material_id(mpid)\n",
    "\n",
    "    # Magnetic moments trigger a bug in CifWriter, so we remove them here\n",
    "    # https://github.com/materialsproject/pymatgen/issues/3772\n",
    "    if \"magmom\" in struct.site_properties:\n",
    "        struct.remove_site_property(\"magmom\")\n",
    "\n",
    "    make_labels_unique(struct)\n",
    "\n",
    "    bonded_struct = None\n",
    "    with warnings.catch_warnings():\n",
    "        warnings.simplefilter(\"ignore\")\n",
    "        bonded_struct = crystallnn.get_bonded_structure(struct)\n",
    "\n",
    "    for n, site in enumerate(bonded_struct.structure.sites):\n",
    "        cs = bonded_struct.get_connected_sites(n)\n",
    "        cl = [connected.site.label for connected in cs]\n",
    "        print(f\"{site.label}: coordination {len(cs)} = {' '.join(cl)}\")\n",
    "\n",
    "    with tempfile.NamedTemporaryFile(suffix=\".cif\", delete=False) as f:\n",
    "        writeToCifFile(bonded_struct, f)\n",
    "        f.close()\n",
    "        print(f.name)"
   ]
  },
  {
   "cell_type": "code",
   "execution_count": 106,
   "id": "ef0e9ba1-c645-4abc-9f3d-7a2228238b89",
   "metadata": {},
   "outputs": [
    {
     "data": {
      "application/vnd.jupyter.widget-view+json": {
       "model_id": "d90dd46e8db447f798fdceb5963bf8ce",
       "version_major": 2,
       "version_minor": 0
      },
      "text/plain": [
       "Retrieving MaterialsDoc documents:   0%|          | 0/1 [00:00<?, ?it/s]"
      ]
     },
     "metadata": {},
     "output_type": "display_data"
    },
    {
     "name": "stdout",
     "output_type": "stream",
     "text": [
      "Ba0: coordination 12 = Ga1 Ga0 Ga0 Ga1 Ga0 Ga0 Ga1 Ga1 Ga1 Ga0 Ga1 Ga0\n",
      "Ga0: coordination 9 = Ga1 Ga1 Ga1 Ba0 Ba0 Ba0 Ba0 Ba0 Ba0\n",
      "Ga1: coordination 9 = Ga0 Ga0 Ga0 Ba0 Ba0 Ba0 Ba0 Ba0 Ba0\n",
      "/var/folders/h8/9hx_fyj91053ksgdzb2w03vw0000gp/T/tmpn0x9vyc1.cif\n"
     ]
    }
   ],
   "source": [
    "write_cif_with_bonds(\"mp-1219\")"
   ]
  },
  {
   "cell_type": "code",
   "execution_count": 97,
   "id": "4411fe69-4570-489f-a708-2a58b4096cd3",
   "metadata": {},
   "outputs": [
    {
     "data": {
      "text/plain": [
       "318"
      ]
     },
     "execution_count": 97,
     "metadata": {},
     "output_type": "execute_result"
    }
   ],
   "source": [
    "s = \"UNKNOWN 3 1 1 0 0 1 1 1 1 -1 -1 1 1 1 0 -1 1 2 -2 1 2 1 2 -2 1 3 1 2 -1 0 1 1 2 -1 0 2 1 2 -1 1 1 1 2 -1 1 2 1 2 0 0 0 1 2 0 0 1 2 2 0 0 1 2 2 0 1 0 2 2 1 -1 -2 2 2 1 -1 -1 2 2 1 -1 0 2 2 1 0 -2 2 2 1 0 -1 2 2 1 0 0 2 2 2 -1 -2\"\n",
    "unknown_3rd = [str(x[0]) for x in res for y in x[3] if y[2] == s]\n",
    "len(unknown_3rd)"
   ]
  },
  {
   "cell_type": "code",
   "execution_count": 98,
   "id": "030d6938-3b2c-40df-8d90-6e1afe332712",
   "metadata": {},
   "outputs": [
    {
     "data": {
      "text/plain": [
       "['mp-23438',\n",
       " 'mp-545783',\n",
       " 'mp-5663',\n",
       " 'mp-19035',\n",
       " 'mp-1079686',\n",
       " 'mp-1105900',\n",
       " 'mp-5660',\n",
       " 'mp-20477',\n",
       " 'mp-19245',\n",
       " 'mp-19322',\n",
       " 'mp-3020',\n",
       " 'mp-555635',\n",
       " 'mp-22571',\n",
       " 'mp-8558',\n",
       " 'mp-781625',\n",
       " 'mp-8557',\n",
       " 'mp-20991',\n",
       " 'mp-21280',\n",
       " 'mp-22230',\n",
       " 'mp-22751']"
      ]
     },
     "execution_count": 98,
     "metadata": {},
     "output_type": "execute_result"
    }
   ],
   "source": [
    "unknown_3rd[:20]"
   ]
  },
  {
   "cell_type": "code",
   "execution_count": 107,
   "id": "c1206351-09d7-48be-8595-4fc3d83166e6",
   "metadata": {},
   "outputs": [
    {
     "data": {
      "application/vnd.jupyter.widget-view+json": {
       "model_id": "1a49f5021a22471bb88c874989e27d19",
       "version_major": 2,
       "version_minor": 0
      },
      "text/plain": [
       "Retrieving MaterialsDoc documents:   0%|          | 0/1 [00:00<?, ?it/s]"
      ]
     },
     "metadata": {},
     "output_type": "display_data"
    },
    {
     "name": "stdout",
     "output_type": "stream",
     "text": [
      "Ba0: coordination 12 = O2 O2 O0 O1 O0 O0 O2 O2 O1 O1 O0 O1\n",
      "Ce0: coordination 6 = O1 O1 O2 O0 O0 O2\n",
      "O0: coordination 6 = Ce0 Ce0 Ba0 Ba0 Ba0 Ba0\n",
      "O1: coordination 6 = Ce0 Ce0 Ba0 Ba0 Ba0 Ba0\n",
      "O2: coordination 6 = Ce0 Ce0 Ba0 Ba0 Ba0 Ba0\n",
      "/var/folders/h8/9hx_fyj91053ksgdzb2w03vw0000gp/T/tmp4aoc4mqn.cif\n"
     ]
    }
   ],
   "source": [
    "write_cif_with_bonds(\"mp-5663\")"
   ]
  },
  {
   "cell_type": "code",
   "execution_count": 122,
   "id": "6269febc-78df-4a18-a3c0-a714e1f83ba5",
   "metadata": {},
   "outputs": [
    {
     "name": "stdout",
     "output_type": "stream",
     "text": [
      "Number of UNKNOWN: 35799\n",
      "Number of unstable: 1461\n"
     ]
    },
    {
     "data": {
      "text/plain": [
       "[('non-periodic', 4190),\n",
       " ('kgd', 1646),\n",
       " ('pcu', 1067),\n",
       " ('sql', 631),\n",
       " ('bcu', 612),\n",
       " ('hcb', 563),\n",
       " ('fcu', 531),\n",
       " ('xal', 385),\n",
       " ('dia', 363),\n",
       " ('xbo', 249),\n",
       " ('reo-d', 193),\n",
       " ('ftw', 183),\n",
       " ('mgc-x', 172),\n",
       " ('nia', 171),\n",
       " ('flu', 161),\n",
       " ('sqc1279', 152),\n",
       " ('hxl', 109),\n",
       " ('hcp', 101),\n",
       " ('wzz', 101),\n",
       " ('spl', 94),\n",
       " ('lon', 92),\n",
       " ('bct', 91),\n",
       " ('rtl', 89),\n",
       " ('kpc', 87),\n",
       " ('tph', 87),\n",
       " ('seh', 84),\n",
       " ('acs', 80),\n",
       " ('mgz-x', 78),\n",
       " ('cco', 68),\n",
       " ('nin', 62)]"
      ]
     },
     "execution_count": 122,
     "metadata": {},
     "output_type": "execute_result"
    }
   ],
   "source": [
    "nets = [y[2] for x in res for y in x[3]]\n",
    "print(\"Number of UNKNOWN:\", sum(1 for net in nets if \"UNKNOWN\" in net))\n",
    "print(\"Number of unstable:\", sum(1 for net in nets if \"unstable\" in net))\n",
    "\n",
    "known_nets = [net for net in nets if \"UNKNOWN\" not in net and \"unstable\" not in net]\n",
    "Counter(known_nets).most_common(30)"
   ]
  },
  {
   "cell_type": "code",
   "execution_count": 146,
   "id": "e7675793-e81e-41ce-9af6-16ef588fe2ce",
   "metadata": {},
   "outputs": [
    {
     "data": {
      "image/png": "[encoded data removed]",
      "text/plain": [
       "<Figure size 640x480 with 1 Axes>"
      ]
     },
     "metadata": {},
     "output_type": "display_data"
    }
   ],
   "source": [
    "import matplotlib.pyplot as plt\n",
    "\n",
    "counts = Counter(known_nets)\n",
    "_ = plt.pie([float(v) for _, v in counts.most_common()], labels=[k if v > 200 else '' for k, v in counts.most_common()], autopct=None)"
   ]
  },
  {
   "cell_type": "code",
   "execution_count": 149,
   "id": "d1c5e1c0-fbd1-4c03-8078-54dd2eaf8e72",
   "metadata": {},
   "outputs": [
    {
     "name": "stdout",
     "output_type": "stream",
     "text": [
      "Number of nets found: 52454\n",
      "Number of unique nets: 15533\n"
     ]
    }
   ],
   "source": [
    "print(\"Number of nets found:\", len(nets))\n",
    "print(\"Number of unique nets:\", len(set(nets)))"
   ]
  },
  {
   "cell_type": "code",
   "execution_count": null,
   "id": "5a5e9256-4b08-48c1-98ae-be14e891c721",
   "metadata": {},
   "outputs": [],
   "source": []
  }
 ],
 "metadata": {
  "kernelspec": {
   "display_name": "Python 3 (ipykernel)",
   "language": "python",
   "name": "python3"
  },
  "language_info": {
   "codemirror_mode": {
    "name": "ipython",
    "version": 3
   },
   "file_extension": ".py",
   "mimetype": "text/x-python",
   "name": "python",
   "nbconvert_exporter": "python",
   "pygments_lexer": "ipython3",
   "version": "3.10.14"
  }
 },
 "nbformat": 4,
 "nbformat_minor": 5
}
