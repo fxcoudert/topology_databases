{
 "cells": [
  {
   "cell_type": "markdown",
   "id": "9d9ce041-19f8-485b-9b2a-3e257820c43f",
   "metadata": {},
   "source": [
    "# Bonding and topology determination in the Materials Project database\n",
    "\n"
   ]
  },
  {
   "cell_type": "code",
   "execution_count": 1,
   "id": "65784a98-0478-4827-ba8a-69ec0431e189",
   "metadata": {},
   "outputs": [
    {
     "name": "stdout",
     "output_type": "stream",
     "text": [
      "Detected IPython. Loading juliacall extension. See https://juliapy.github.io/PythonCall.jl/stable/compat/#IPython\n",
      "Using pymatgen version: 2025.2.18\n"
     ]
    }
   ],
   "source": [
    "import json\n",
    "import os\n",
    "import random\n",
    "import warnings\n",
    "\n",
    "import juliacall\n",
    "\n",
    "import pymatgen\n",
    "from pymatgen.analysis.chemenv.coordination_environments.chemenv_strategies import SimplestChemenvStrategy, MultiWeightsChemenvStrategy\n",
    "from pymatgen.analysis.chemenv.coordination_environments.coordination_geometry_finder import LocalGeometryFinder\n",
    "from pymatgen.analysis.chemenv.coordination_environments.structure_environments import LightStructureEnvironments\n",
    "from pymatgen.analysis.graphs import StructureGraph\n",
    "from pymatgen.analysis.local_env import CrystalNN\n",
    "from pymatgen.core import Structure\n",
    "from pymatgen.ext.matproj import MPRester\n",
    "from pymatgen.io.cif import CifWriter\n",
    "\n",
    "from tqdm.notebook import tqdm\n",
    "\n",
    "random.seed(\"Call me Ishmael\")\n",
    "print(\"Using pymatgen version:\", pymatgen.core.__version__)"
   ]
  },
  {
   "cell_type": "code",
   "execution_count": 2,
   "id": "d883bc49-1801-4693-8bf3-26522f8b8220",
   "metadata": {},
   "outputs": [
    {
     "name": "stdout",
     "output_type": "stream",
     "text": [
      "Using Julia version: 1.11.3\n",
      "Running from directory: /opt/julia-1.11.3/bin\n"
     ]
    }
   ],
   "source": [
    "jl = juliacall.newmodule(\"NotebookModule\")\n",
    "jl.seval(\"using CrystalNets\")\n",
    "jl.CrystalNets.toggle_export(False)\n",
    "\n",
    "print(\"Using Julia version:\", jl.seval(\"VERSION\"))\n",
    "print(\"Running from directory:\", jl.seval(\"Sys.BINDIR\"))"
   ]
  },
  {
   "cell_type": "code",
   "execution_count": 3,
   "id": "a4a50d5a-f489-4c1c-a531-89b383f8f46c",
   "metadata": {},
   "outputs": [],
   "source": [
    "with open(os.path.expanduser(\"~/.mpapikey\"), \"r\") as f:\n",
    "    apikey = f.read().strip()"
   ]
  },
  {
   "cell_type": "code",
   "execution_count": 4,
   "id": "45d876c4-d495-403c-b13c-43d3ce4093c1",
   "metadata": {},
   "outputs": [],
   "source": [
    "try:\n",
    "    os.mkdir(\"cif\")\n",
    "except FileExistsError as e:\n",
    "    pass\n",
    "\n",
    "try:\n",
    "    os.mkdir(\"cif_chemenv\")\n",
    "except FileExistsError as e:\n",
    "    pass"
   ]
  },
  {
   "cell_type": "code",
   "execution_count": 5,
   "id": "adc46520-ecac-4099-8ab1-c873efe494ea",
   "metadata": {},
   "outputs": [],
   "source": [
    "crystallnn = CrystalNN()\n",
    "\n",
    "chemenv_strategy = SimplestChemenvStrategy(distance_cutoff=1.4, angle_cutoff=0.3)\n",
    "# We cannot use the more powerful multi-weight strategy, because it creates fractional coordination environment\n",
    "# chemenv_strategy = MultiWeightsChemenvStrategy.stats_article_weights_parameters()\n",
    "\n",
    "\n",
    "def make_labels_unique(struct):\n",
    "    from collections import Counter\n",
    "    \n",
    "    labels = Counter(site.label for site in struct.sites)\n",
    "    counter = {}\n",
    "    for i, site in enumerate(struct.sites):\n",
    "        label = site.label\n",
    "        if labels[label] > 1 or label.isalpha():\n",
    "            c = counter.get(label, 0)\n",
    "            site.label = f\"{label}{c}\" if label.isalpha() else f\"{label}_{c}\"\n",
    "            c = c + 1\n",
    "            counter[label] = c\n",
    "\n",
    "\n",
    "def jimage_to_site_symmetry(jimage):\n",
    "    i, j, k = jimage\n",
    "    return f\"1_{5+i}{5+j}{5+k}\"\n",
    "\n",
    "\n",
    "def writeToCifFile(bonded_struct, file):\n",
    "    cif_writer = CifWriter(bonded_struct.structure)\n",
    "    cif = str(cif_writer)\n",
    "    cif += \"\"\"loop_\n",
    "_geom_bond_atom_site_label_1\n",
    "_geom_bond_atom_site_label_2\n",
    "_geom_bond_distance\n",
    "_geom_bond_site_symmetry_2\n",
    "\"\"\"\n",
    "\n",
    "    for n, site in enumerate(bonded_struct.structure.sites):\n",
    "        for connected in bonded_struct.get_connected_sites(n):\n",
    "            # Make sure we only output each bond once\n",
    "            if site.label <= connected.site.label:\n",
    "                cif += f\"{site.label} {connected.site.label} {connected.dist:.6f} {jimage_to_site_symmetry(connected.jimage)}\\n\"\n",
    "\n",
    "    file.write(cif)\n",
    "\n",
    "\n",
    "def bonded_structure_from_lse(lse: LightStructureEnvironments) -> StructureGraph:\n",
    "    \"\"\"\n",
    "    Convert a LightStructureEnvironments from chemenv to a StructureGraph\n",
    "    \"\"\"\n",
    "    graph = StructureGraph.from_empty_graph(lse.structure, name=\"bonds\")\n",
    "\n",
    "    for nset in lse.neighbors_sets:\n",
    "        assert len(nset) == 1\n",
    "        for neighbor in nset[0].neighb_indices_and_images:\n",
    "            graph.add_edge(\n",
    "                from_index=nset[0].isite,\n",
    "                from_jimage=(0, 0, 0),\n",
    "                to_index=neighbor[\"index\"],\n",
    "                to_jimage=neighbor[\"image_cell\"],\n",
    "                weight=1,\n",
    "                edge_properties=None,\n",
    "                warn_duplicates=False,\n",
    "            )\n",
    "\n",
    "    graph.set_node_attributes()\n",
    "    return graph\n",
    "\n",
    "\n",
    "def analyse_bonding(mat, method = \"CrystalNN\"):\n",
    "    if method != \"CrystalNN\" and method != \"ChemEnv\":\n",
    "        raise ValueError(\"invalid method name\")\n",
    "\n",
    "    # Magnetic moments trigger a bug in CifWriter, so we remove them here\n",
    "    # https://github.com/materialsproject/pymatgen/issues/3772\n",
    "    if \"magmom\" in mat.structure.site_properties:\n",
    "        mat.structure.remove_site_property(\"magmom\")\n",
    "\n",
    "    # All labels should be unique (otherwise bond specifications will fail)\n",
    "    make_labels_unique(mat.structure)\n",
    "    labels = [site.label for site in mat.structure.sites]\n",
    "    if len(labels) != len(set(labels)):\n",
    "        raise ValueError(\"labels are not unique in structure\")\n",
    "\n",
    "    while True:\n",
    "        bonded_struct = None\n",
    "        with warnings.catch_warnings():\n",
    "            warnings.simplefilter(\"ignore\")\n",
    "            try:\n",
    "                if method == \"ChemEnv\":\n",
    "                    lgf = LocalGeometryFinder()\n",
    "                    lgf.setup_structure(structure=mat.structure)\n",
    "                    se = lgf.compute_structure_environments(\n",
    "                        maximum_distance_factor=1.41, only_cations=False\n",
    "                    )\n",
    "                    lse = LightStructureEnvironments.from_structure_environments(\n",
    "                        strategy=chemenv_strategy, structure_environments=se\n",
    "                    )\n",
    "                    bonded_struct = bonded_structure_from_lse(lse)\n",
    "                else:\n",
    "                    bonded_struct = crystallnn.get_bonded_structure(mat.structure)\n",
    "\n",
    "            except Exception as e:\n",
    "                print(f\"{method} failed for {mat.material_id}: {e}\")\n",
    "                return None\n",
    "\n",
    "        coord = set()\n",
    "        bonds = set()\n",
    "        rerun_flag = False\n",
    "        for n, site in enumerate(bonded_struct.structure.sites):\n",
    "            neighbors = bonded_struct.get_connected_sites(n)\n",
    "            # We cannot use get_coordination_of_site() because of a bug:\n",
    "            # https://github.com/materialsproject/pymatgen/issues/3888#issuecomment-2232571072\n",
    "            coord.add((str(site.specie), len(neighbors)))\n",
    "            for connected in neighbors:\n",
    "                if site.specie <= connected.site.specie:\n",
    "                    bonds.add((str(site.specie), str(connected.site.specie)))\n",
    "                if site.label == connected.site.label:\n",
    "                    # If an atom is bonded to its own image, then CrystalNets will not like it\n",
    "                    # and we need to make rerun on a supercell\n",
    "                    rerun_flag = True\n",
    "\n",
    "        if rerun_flag:\n",
    "            # If we found an atom bonded to itself, \n",
    "            mat.structure.make_supercell(2, in_place=True)\n",
    "            make_labels_unique(mat.structure)\n",
    "        else:\n",
    "            # Otherwise we're done\n",
    "            break\n",
    "\n",
    "    # Write bonded structure as CIF; output directory depends on method\n",
    "    if method == \"ChemEnv\":\n",
    "        dirname = \"cif_chemenv\"\n",
    "    else:\n",
    "        dirname = \"cif\"\n",
    "    with open(f\"{dirname}/{mat.material_id}.cif\", \"w\") as f:\n",
    "        writeToCifFile(bonded_struct, f)\n",
    "\n",
    "    return {\"material_id\": str(mat.material_id),\n",
    "            \"formula_pretty\": mat.formula_pretty,\n",
    "            \"nelements\": mat.nelements,\n",
    "            \"theoretical\": mat.theoretical,\n",
    "            \"is_stable\": mat.is_stable,\n",
    "            \"crystal_system\": str(mat.symmetry.crystal_system),\n",
    "            \"space_group\": mat.symmetry.number,\n",
    "            \"coordination\": coord,\n",
    "            \"bonds\": bonds}"
   ]
  },
  {
   "cell_type": "code",
   "execution_count": 6,
   "id": "44d94499-80e1-416d-9d78-e9af43193220",
   "metadata": {},
   "outputs": [
    {
     "data": {
      "application/vnd.jupyter.widget-view+json": {
       "model_id": "2190aeacd1694fb1864fd49117760851",
       "version_major": 2,
       "version_minor": 0
      },
      "text/plain": [
       "Retrieving SummaryDoc documents:   0%|          | 0/1 [00:00<?, ?it/s]"
      ]
     },
     "metadata": {},
     "output_type": "display_data"
    },
    {
     "name": "stdout",
     "output_type": "stream",
     "text": [
      "{'material_id': 'mp-3934', 'formula_pretty': 'Cu3PS4', 'nelements': 3, 'theoretical': False, 'is_stable': None, 'crystal_system': 'Orthorhombic', 'space_group': 31, 'coordination': {('P', 4), ('S', 4), ('Cu', 4)}, 'bonds': {('Cu', 'S'), ('P', 'S')}}\n",
      "{'material_id': 'mp-3934', 'formula_pretty': 'Cu3PS4', 'nelements': 3, 'theoretical': False, 'is_stable': None, 'crystal_system': 'Orthorhombic', 'space_group': 31, 'coordination': {('P', 4), ('S', 4), ('Cu', 4)}, 'bonds': {('Cu', 'S'), ('P', 'S')}}\n"
     ]
    }
   ],
   "source": [
    "# Test our analysis method on one material\n",
    "with MPRester(apikey) as mpr:\n",
    "    mp_data = mpr.materials.summary.search(\n",
    "        material_ids=[\"mp-3934\"],\n",
    "        fields=[\"material_id\", \"builder_meta\", \"deprecated\", \"formula_pretty\", \"nelements\", \"structure\", \"theoretical\", \"symmetry\"]\n",
    "    )\n",
    "\n",
    "    assert len(mp_data) == 1\n",
    "    res = analyse_bonding(mp_data[0])\n",
    "    print(res)\n",
    "\n",
    "    res = analyse_bonding(mp_data[0], \"ChemEnv\")\n",
    "    print(res)"
   ]
  },
  {
   "cell_type": "code",
   "execution_count": 7,
   "id": "269cdd7d-2275-4981-8de3-ccbbdcd8e084",
   "metadata": {},
   "outputs": [
    {
     "data": {
      "application/vnd.jupyter.widget-view+json": {
       "model_id": "e3ce1b7abe3a40a28cf4cf5b526eb32f",
       "version_major": 2,
       "version_minor": 0
      },
      "text/plain": [
       "Retrieving SummaryDoc documents:   0%|          | 0/170470 [00:00<?, ?it/s]"
      ]
     },
     "metadata": {},
     "output_type": "display_data"
    },
    {
     "name": "stderr",
     "output_type": "stream",
     "text": [
      "WARNING:urllib3.connectionpool:Retrying (Retry(total=2, connect=3, read=2, redirect=None, status=None)) after connection broken by 'ReadTimeoutError(\"HTTPSConnectionPool(host='api.materialsproject.org', port=443): Read timed out. (read timeout=20)\")': /materials/summary/?deprecated=False&_limit=1000&_fields=material_id%2Cbuilder_meta%2Cdeprecated%2Cformula_pretty%2Cnelements%2Cstructure%2Ctheoretical%2Csymmetry&_skip=102000\n"
     ]
    },
    {
     "name": "stdout",
     "output_type": "stream",
     "text": [
      "Database version 2025.02.12.post\n",
      "Number of materials found: 170470\n"
     ]
    }
   ],
   "source": [
    "with MPRester(apikey) as mpr:\n",
    "    mp_data = mpr.materials.summary.search(\n",
    "        deprecated=False,\n",
    "        fields=[\"material_id\", \"builder_meta\", \"deprecated\", \"formula_pretty\", \"nelements\", \"structure\", \"theoretical\", \"symmetry\"]\n",
    "    )\n",
    "\n",
    "print(\"Database version\", mpr.get_database_version())\n",
    "print(\"Number of materials found:\", len(mp_data))\n",
    "\n",
    "# Check that we did not get any deprecated material\n",
    "# See https://github.com/materialsproject/api/issues/964\n",
    "assert sum(1 for x in mp_data if x.deprecated) == 0"
   ]
  },
  {
   "cell_type": "code",
   "execution_count": 8,
   "id": "8ba5b095-9ca8-455e-ba96-38ac5546b20f",
   "metadata": {},
   "outputs": [
    {
     "name": "stdout",
     "output_type": "stream",
     "text": [
      "Number of GnoME structures: 15483\n",
      "Number of non-GnoME structures: 154987\n",
      "Number of CC-BY-ND structures: 15483\n"
     ]
    }
   ],
   "source": [
    "n_gnome = sum(1 for x in mp_data if x.builder_meta.batch_id and \"gnome\" in x.builder_meta.batch_id)\n",
    "n_ccbynd = sum(1 for x in mp_data if x.builder_meta.license == \"BY-NC\")\n",
    "\n",
    "print(\"Number of GnoME structures:\", n_gnome)\n",
    "print(\"Number of non-GnoME structures:\", len(mp_data) - n_gnome)\n",
    "print(\"Number of CC-BY-ND structures:\", n_ccbynd)"
   ]
  },
  {
   "cell_type": "code",
   "execution_count": 9,
   "id": "692bbce6-6494-480f-aa4a-78f1d98dc53a",
   "metadata": {
    "scrolled": true
   },
   "outputs": [
    {
     "data": {
      "application/vnd.jupyter.widget-view+json": {
       "model_id": "c1848c1ec14447b09b2180502dba1b43",
       "version_major": 2,
       "version_minor": 0
      },
      "text/plain": [
       "  0%|          | 0/170470 [00:00<?, ?it/s]"
      ]
     },
     "metadata": {},
     "output_type": "display_data"
    },
    {
     "name": "stdout",
     "output_type": "stream",
     "text": [
      "CrystalNN failed for mp-994911: No Voronoi neighbors found for site - try increasing cutoff\n",
      "CrystalNN failed for mp-1210439: No Voronoi neighbors found for site - try increasing cutoff\n",
      "CrystalNN failed for mp-1247838: No Voronoi neighbors found for site - try increasing cutoff\n",
      "CrystalNN failed for mp-1213668: No Voronoi neighbors found for site - try increasing cutoff\n",
      "CrystalNN failed for mp-1215144: No Voronoi neighbors found for site - try increasing cutoff\n",
      "CrystalNN failed for mp-1180797: No Voronoi neighbors found for site - try increasing cutoff\n",
      "CrystalNN failed for mp-1247813: No Voronoi neighbors found for site - try increasing cutoff\n",
      "CrystalNN failed for mp-1212347: No Voronoi neighbors found for site - try increasing cutoff\n",
      "CrystalNN failed for mp-1214815: No Voronoi neighbors found for site - try increasing cutoff\n",
      "CrystalNN failed for mp-1215160: No Voronoi neighbors found for site - try increasing cutoff\n",
      "CrystalNN failed for mp-1180180: No Voronoi neighbors found for site - try increasing cutoff\n",
      "CrystalNN failed for mp-1101037: No Voronoi neighbors found for site - try increasing cutoff\n",
      "CrystalNN failed for mp-1182718: No Voronoi neighbors found for site - try increasing cutoff\n",
      "CrystalNN failed for mp-1182772: No Voronoi neighbors found for site - try increasing cutoff\n",
      "CrystalNN failed for mp-1212042: No Voronoi neighbors found for site - try increasing cutoff\n",
      "Number of systems analyzed: 170455\n"
     ]
    }
   ],
   "source": [
    "data = {}\n",
    "\n",
    "with warnings.catch_warnings():\n",
    "    warnings.filterwarnings(\"ignore\", message=\"No Pauling electronegativity\")\n",
    "    for mat in tqdm(mp_data, smoothing=0.01, mininterval=1):\n",
    "        x = analyse_bonding(mat)\n",
    "        if x is not None:\n",
    "            data[mat.material_id] = x\n",
    "\n",
    "print(\"Number of systems analyzed:\", len(data))"
   ]
  },
  {
   "cell_type": "code",
   "execution_count": 10,
   "id": "02d66d4e-5b98-4cb3-beae-296591d842d6",
   "metadata": {},
   "outputs": [
    {
     "data": {
      "application/vnd.jupyter.widget-view+json": {
       "model_id": "9943e4ada3644aa1bc72eb1aa4b62df3",
       "version_major": 2,
       "version_minor": 0
      },
      "text/plain": [
       "  0%|          | 0/5000 [00:00<?, ?it/s]"
      ]
     },
     "metadata": {},
     "output_type": "display_data"
    },
    {
     "name": "stdout",
     "output_type": "stream",
     "text": [
      "ChemEnv failed for mp-1093836: QH6239 Qhull precision error: initial Delaunay input sites are cocircular or cospherical.  Use option 'Qz' for the Delaunay triangulation or Voronoi diagram of cocircular/cospherical points; it adds a point \"at infinity\".  Alternatively use option 'QJ' to joggle the input.  Use option 'Qs' to search all points for the initial simplex.\n",
      "\n",
      "input sites with last coordinate projected to a paraboloid\n",
      "- p3(v5):  -2.2 5.7e-17 1.2e-16   4.8\n",
      "- p0(v4):   2.2 -5.7e-17 -1.2e-16   4.8\n",
      "- p4(v3):   8.1 2.8e-16 -3.3e-16    65\n",
      "- p6(v2):    10     0     0 1.1e+02\n",
      "- p5(v1):  -5.1     0     0    26\n",
      "\n",
      "While executing:  | qhull v o Fv\n",
      "Options selected for Qhull 2019.1.r 2019/06/21:\n",
      "  run-id 1858205819  voronoi  offFile  _pre-merge  _zero-centrum  Pgood\n",
      "  Fvoronoi  _max-width 1.1e+02  Error-roundoff 1.3e-13  _one-merge 1.1e-12\n",
      "  _near-inside 5.7e-12  Visible-distance 7.7e-13  U-max-coplanar 7.7e-13\n",
      "  Width-outside 1.5e-12  _wide-facet 4.6e-12  _maxoutside 1.5e-12\n",
      "\n",
      "ChemEnv failed for mp-1197448: object of type 'NoneType' has no len()\n",
      "ChemEnv failed for mp-1096252: QH6239 Qhull precision error: initial Delaunay input sites are cocircular or cospherical.  Use option 'Qz' for the Delaunay triangulation or Voronoi diagram of cocircular/cospherical points; it adds a point \"at infinity\".  Alternatively use option 'QJ' to joggle the input.  Use option 'Qs' to search all points for the initial simplex.\n",
      "\n",
      "input sites with last coordinate projected to a paraboloid\n",
      "- p1(v5):  -2.3 9.7e-18 5.7e-18   5.3\n",
      "- p2(v4):   2.3 -9.7e-18 -5.7e-18   5.3\n",
      "- p6(v3):   6.9 -4.3e-16 5.7e-18    47\n",
      "- p8(v2):   9.2     0     0    84\n",
      "- p7(v1):  -9.2     0     0    84\n",
      "\n",
      "While executing:  | qhull v o Fv\n",
      "Options selected for Qhull 2019.1.r 2019/06/21:\n",
      "  run-id 1864004234  voronoi  offFile  _pre-merge  _zero-centrum  Pgood\n",
      "  Fvoronoi  _max-width 84  Error-roundoff 1e-13  _one-merge 9.2e-13\n",
      "  _near-inside 4.6e-12  Visible-distance 6.2e-13  U-max-coplanar 6.2e-13\n",
      "  Width-outside 1.2e-12  _wide-facet 3.7e-12  _maxoutside 1.2e-12\n",
      "\n",
      "ChemEnv failed for mp-1224497: object of type 'NoneType' has no len()\n",
      "ChemEnv failed for mp-1095743: QH6239 Qhull precision error: initial Delaunay input sites are cocircular or cospherical.  Use option 'Qz' for the Delaunay triangulation or Voronoi diagram of cocircular/cospherical points; it adds a point \"at infinity\".  Alternatively use option 'QJ' to joggle the input.  Use option 'Qs' to search all points for the initial simplex.\n",
      "\n",
      "input sites with last coordinate projected to a paraboloid\n",
      "- p0(v5):   2.5 1.1e-16 -6.7e-17   6.1\n",
      "- p3(v4):  -2.5 1.3e-17 7.7e-17   6.1\n",
      "- p4(v3):   7.9 -2.1e-16 7.7e-17    62\n",
      "- p6(v2):    10     0     0 1.1e+02\n",
      "- p5(v1):  -5.2     0     0    27\n",
      "\n",
      "While executing:  | qhull v o Fv\n",
      "Options selected for Qhull 2019.1.r 2019/06/21:\n",
      "  run-id 1867113529  voronoi  offFile  _pre-merge  _zero-centrum  Pgood\n",
      "  Fvoronoi  _max-width 1.1e+02  Error-roundoff 1.3e-13  _one-merge 1.2e-12\n",
      "  _near-inside 5.8e-12  Visible-distance 7.8e-13  U-max-coplanar 7.8e-13\n",
      "  Width-outside 1.6e-12  _wide-facet 4.7e-12  _maxoutside 1.6e-12\n",
      "\n",
      "ChemEnv failed for mp-1202076: object of type 'NoneType' has no len()\n",
      "ChemEnv failed for mp-1206305: QH6239 Qhull precision error: initial Delaunay input sites are cocircular or cospherical.  Use option 'Qz' for the Delaunay triangulation or Voronoi diagram of cocircular/cospherical points; it adds a point \"at infinity\".  Alternatively use option 'QJ' to joggle the input.  Use option 'Qs' to search all points for the initial simplex.\n",
      "\n",
      "input sites with last coordinate projected to a paraboloid\n",
      "- p0(v5):     0     0     0     0\n",
      "- p18(v4):  -5.4   8.1     0    94\n",
      "- p17(v3):  -5.4  -8.1     0    94\n",
      "- p13(v2):   9.3    -2     0    90\n",
      "- p15(v1):  -9.3     2     0    90\n",
      "\n",
      "While executing:  | qhull v o Fv\n",
      "Options selected for Qhull 2019.1.r 2019/06/21:\n",
      "  run-id 1871231244  voronoi  offFile  _pre-merge  _zero-centrum  Pgood\n",
      "  Fvoronoi  _max-width 94  Error-roundoff 1.2e-13  _one-merge 1.1e-12\n",
      "  _near-inside 5.4e-12  Visible-distance 7.2e-13  U-max-coplanar 7.2e-13\n",
      "  Width-outside 1.4e-12  _wide-facet 4.3e-12  _maxoutside 1.4e-12\n",
      "\n",
      "ChemEnv failed for mp-1228259: object of type 'NoneType' has no len()\n",
      "ChemEnv failed for mp-1093906: QH6239 Qhull precision error: initial Delaunay input sites are cocircular or cospherical.  Use option 'Qz' for the Delaunay triangulation or Voronoi diagram of cocircular/cospherical points; it adds a point \"at infinity\".  Alternatively use option 'QJ' to joggle the input.  Use option 'Qs' to search all points for the initial simplex.\n",
      "\n",
      "input sites with last coordinate projected to a paraboloid\n",
      "- p2(v5):   2.3 5.5e-17 -2.1e-16   5.5\n",
      "- p1(v4):  -2.3 -5.5e-17 2.1e-16   5.5\n",
      "- p5(v3):  -7.6 -1.7e-16 2.4e-16    58\n",
      "- p8(v2):    10     0     0 1e+02\n",
      "- p7(v1):   -10     0     0 1e+02\n",
      "\n",
      "While executing:  | qhull v o Fv\n",
      "Options selected for Qhull 2019.1.r 2019/06/21:\n",
      "  run-id 1875264924  voronoi  offFile  _pre-merge  _zero-centrum  Pgood\n",
      "  Fvoronoi  _max-width 1e+02  Error-roundoff 1.2e-13  _one-merge 1.1e-12\n",
      "  _near-inside 5.4e-12  Visible-distance 7.2e-13  U-max-coplanar 7.2e-13\n",
      "  Width-outside 1.4e-12  _wide-facet 4.3e-12  _maxoutside 1.4e-12\n",
      "\n",
      "ChemEnv failed for mp-1029248: This structure is pathological, infinite vertex in the voronoi construction\n",
      "ChemEnv failed for mp-1027334: This structure is pathological, infinite vertex in the voronoi construction\n",
      "ChemEnv failed for mp-1095817: QH6239 Qhull precision error: initial Delaunay input sites are cocircular or cospherical.  Use option 'Qz' for the Delaunay triangulation or Voronoi diagram of cocircular/cospherical points; it adds a point \"at infinity\".  Alternatively use option 'QJ' to joggle the input.  Use option 'Qs' to search all points for the initial simplex.\n",
      "\n",
      "input sites with last coordinate projected to a paraboloid\n",
      "- p0(v5):   2.8 -7.4e-17 -8.5e-17   7.8\n",
      "- p3(v4):  -2.8 -9.2e-17 9.7e-17   7.8\n",
      "- p4(v3):     9 1.3e-16 3.2e-16    82\n",
      "- p6(v2):    12     0     0 1.4e+02\n",
      "- p5(v1):  -5.9     0     0    35\n",
      "\n",
      "While executing:  | qhull v o Fv\n",
      "Options selected for Qhull 2019.1.r 2019/06/21:\n",
      "  run-id 1881332251  voronoi  offFile  _pre-merge  _zero-centrum  Pgood\n",
      "  Fvoronoi  _max-width 1.4e+02  Error-roundoff 1.7e-13  _one-merge 1.5e-12\n",
      "  _near-inside 7.5e-12  Visible-distance 1e-12  U-max-coplanar 1e-12\n",
      "  Width-outside 2e-12  _wide-facet 6e-12  _maxoutside 2e-12\n",
      "\n",
      "ChemEnv failed for mp-3215156: object of type 'NoneType' has no len()\n",
      "ChemEnv failed for mp-1027134: This structure is pathological, infinite vertex in the voronoi construction\n",
      "ChemEnv failed for mp-1096008: QH6239 Qhull precision error: initial Delaunay input sites are cocircular or cospherical.  Use option 'Qz' for the Delaunay triangulation or Voronoi diagram of cocircular/cospherical points; it adds a point \"at infinity\".  Alternatively use option 'QJ' to joggle the input.  Use option 'Qs' to search all points for the initial simplex.\n",
      "\n",
      "input sites with last coordinate projected to a paraboloid\n",
      "- p1(v5):   2.3 4.9e-17 -1.6e-16   5.4\n",
      "- p2(v4):  -2.3 -3.3e-17 2e-16   5.4\n",
      "- p6(v3):  -6.8 2.7e-16 2.9e-16    47\n",
      "- p8(v2):   9.2     0     0    84\n",
      "- p7(v1):  -9.2     0     0    84\n",
      "\n",
      "While executing:  | qhull v o Fv\n",
      "Options selected for Qhull 2019.1.r 2019/06/21:\n",
      "  run-id 1888676910  voronoi  offFile  _pre-merge  _zero-centrum  Pgood\n",
      "  Fvoronoi  _max-width 84  Error-roundoff 1e-13  _one-merge 9.2e-13\n",
      "  _near-inside 4.6e-12  Visible-distance 6.1e-13  U-max-coplanar 6.1e-13\n",
      "  Width-outside 1.2e-12  _wide-facet 3.7e-12  _maxoutside 1.2e-12\n",
      "\n",
      "ChemEnv failed for mp-1093935: QH6239 Qhull precision error: initial Delaunay input sites are cocircular or cospherical.  Use option 'Qz' for the Delaunay triangulation or Voronoi diagram of cocircular/cospherical points; it adds a point \"at infinity\".  Alternatively use option 'QJ' to joggle the input.  Use option 'Qs' to search all points for the initial simplex.\n",
      "\n",
      "input sites with last coordinate projected to a paraboloid\n",
      "- p1(v5):     0     0     0     0\n",
      "- p0(v4):   3.1 3.6e-17 -7.8e-17   9.5\n",
      "- p4(v3):   9.8 3e-16 4.4e-16    96\n",
      "- p6(v2):    13     0     0 1.7e+02\n",
      "- p5(v1):  -6.4     0     0    41\n",
      "\n",
      "While executing:  | qhull v o Fv\n",
      "Options selected for Qhull 2019.1.r 2019/06/21:\n",
      "  run-id 1889466839  voronoi  offFile  _pre-merge  _zero-centrum  Pgood\n",
      "  Fvoronoi  _max-width 1.7e+02  Error-roundoff 2e-13  _one-merge 1.8e-12\n",
      "  _near-inside 8.9e-12  Visible-distance 1.2e-12  U-max-coplanar 1.2e-12\n",
      "  Width-outside 2.4e-12  _wide-facet 7.1e-12  _maxoutside 2.4e-12\n",
      "\n",
      "ChemEnv failed for mp-1096339: QH6239 Qhull precision error: initial Delaunay input sites are cocircular or cospherical.  Use option 'Qz' for the Delaunay triangulation or Voronoi diagram of cocircular/cospherical points; it adds a point \"at infinity\".  Alternatively use option 'QJ' to joggle the input.  Use option 'Qs' to search all points for the initial simplex.\n",
      "\n",
      "input sites with last coordinate projected to a paraboloid\n",
      "- p0(v5):   2.5 7.8e-17 -9.6e-17   6.2\n",
      "- p3(v4):  -2.5 4.7e-17 7.3e-17   6.2\n",
      "- p4(v3):   8.4 -1.7e-16 3e-16    70\n",
      "- p6(v2):    11     0     0 1.2e+02\n",
      "- p5(v1):  -5.4     0     0    30\n",
      "\n",
      "While executing:  | qhull v o Fv\n",
      "Options selected for Qhull 2019.1.r 2019/06/21:\n",
      "  run-id 1890777785  voronoi  offFile  _pre-merge  _zero-centrum  Pgood\n",
      "  Fvoronoi  _max-width 1.2e+02  Error-roundoff 1.4e-13  _one-merge 1.3e-12\n",
      "  _near-inside 6.4e-12  Visible-distance 8.5e-13  U-max-coplanar 8.5e-13\n",
      "  Width-outside 1.7e-12  _wide-facet 5.1e-12  _maxoutside 1.7e-12\n",
      "\n",
      "ChemEnv failed for mp-1095995: QH6239 Qhull precision error: initial Delaunay input sites are cocircular or cospherical.  Use option 'Qz' for the Delaunay triangulation or Voronoi diagram of cocircular/cospherical points; it adds a point \"at infinity\".  Alternatively use option 'QJ' to joggle the input.  Use option 'Qs' to search all points for the initial simplex.\n",
      "\n",
      "input sites with last coordinate projected to a paraboloid\n",
      "- p0(v5):     0     0     0     0\n",
      "- p3(v4):     0    -6     0    36\n",
      "- p5(v3): 2.4e-16     9 3.3e-16    82\n",
      "- p6(v2): 3e-16    -9 -1.2e-16    82\n",
      "- p1(v1): -3.4e-17     3 -1.5e-16     9\n",
      "\n",
      "While executing:  | qhull v o Fv\n",
      "Options selected for Qhull 2019.1.r 2019/06/21:\n",
      "  run-id 1893651782  voronoi  offFile  _pre-merge  _zero-centrum  Pgood\n",
      "  Fvoronoi  _max-width 82  Error-roundoff 1e-13  _one-merge 9e-13\n",
      "  _near-inside 4.5e-12  Visible-distance 6e-13  U-max-coplanar 6e-13\n",
      "  Width-outside 1.2e-12  _wide-facet 3.6e-12  _maxoutside 1.2e-12\n",
      "\n",
      "ChemEnv failed for mp-1105740: object of type 'NoneType' has no len()\n",
      "ChemEnv failed for mp-1096651: QH6239 Qhull precision error: initial Delaunay input sites are cocircular or cospherical.  Use option 'Qz' for the Delaunay triangulation or Voronoi diagram of cocircular/cospherical points; it adds a point \"at infinity\".  Alternatively use option 'QJ' to joggle the input.  Use option 'Qs' to search all points for the initial simplex.\n",
      "\n",
      "input sites with last coordinate projected to a paraboloid\n",
      "- p0(v5):   2.7 -5.6e-17 1.3e-16   7.1\n",
      "- p3(v4):  -2.7 1.8e-17 8.7e-17   7.1\n",
      "- p4(v3):   8.6 2.4e-16 -3.6e-16    74\n",
      "- p6(v2):    11     0     0 1.3e+02\n",
      "- p5(v1):  -5.6     0     0    32\n",
      "\n",
      "While executing:  | qhull v o Fv\n",
      "Options selected for Qhull 2019.1.r 2019/06/21:\n",
      "  run-id 1900290547  voronoi  offFile  _pre-merge  _zero-centrum  Pgood\n",
      "  Fvoronoi  _max-width 1.3e+02  Error-roundoff 1.5e-13  _one-merge 1.4e-12\n",
      "  _near-inside 6.9e-12  Visible-distance 9.2e-13  U-max-coplanar 9.2e-13\n",
      "  Width-outside 1.8e-12  _wide-facet 5.5e-12  _maxoutside 1.8e-12\n",
      "\n",
      "ChemEnv failed for mp-1093835: QH6239 Qhull precision error: initial Delaunay input sites are cocircular or cospherical.  Use option 'Qz' for the Delaunay triangulation or Voronoi diagram of cocircular/cospherical points; it adds a point \"at infinity\".  Alternatively use option 'QJ' to joggle the input.  Use option 'Qs' to search all points for the initial simplex.\n",
      "\n",
      "input sites with last coordinate projected to a paraboloid\n",
      "- p4(v5):  -3.1 4e-17 1.9e-16   9.7\n",
      "- p3(v4):   9.1 4e-17 1.9e-16    83\n",
      "- p0(v3):   3.1 -4e-17 -1.9e-16   9.7\n",
      "- p5(v2):    12     0     0 1.5e+02\n",
      "- p6(v1):  -6.1     0     0    37\n",
      "\n",
      "While executing:  | qhull v o Fv\n",
      "Options selected for Qhull 2019.1.r 2019/06/21:\n",
      "  run-id 1900340968  voronoi  offFile  _pre-merge  _zero-centrum  Pgood\n",
      "  Fvoronoi  _max-width 1.5e+02  Error-roundoff 1.8e-13  _one-merge 1.6e-12\n",
      "  _near-inside 8e-12  Visible-distance 1.1e-12  U-max-coplanar 1.1e-12\n",
      "  Width-outside 2.1e-12  _wide-facet 6.4e-12  _maxoutside 2.1e-12\n",
      "\n",
      "ChemEnv failed for mp-2647020: This structure is pathological, infinite vertex in the voronoi construction\n",
      "ChemEnv failed for mp-1096425: QH6239 Qhull precision error: initial Delaunay input sites are cocircular or cospherical.  Use option 'Qz' for the Delaunay triangulation or Voronoi diagram of cocircular/cospherical points; it adds a point \"at infinity\".  Alternatively use option 'QJ' to joggle the input.  Use option 'Qs' to search all points for the initial simplex.\n",
      "\n",
      "input sites with last coordinate projected to a paraboloid\n",
      "- p4(v5):  -5.8     0     0    34\n",
      "- p1(v4):   3.2 7.7e-17 -1.7e-16    10\n",
      "- p2(v3):  -3.2 -6.1e-17 5.3e-18    10\n",
      "- p5(v2):   8.4 1.6e-16 5.3e-18    70\n",
      "- p6(v1):  -8.4 2e-16 2.9e-16    70\n",
      "\n",
      "While executing:  | qhull v o Fv\n",
      "Options selected for Qhull 2019.1.r 2019/06/21:\n",
      "  run-id 1902206545  voronoi  offFile  _pre-merge  _zero-centrum  Pgood\n",
      "  Fvoronoi  _max-width 70  Error-roundoff 8.6e-14  _one-merge 7.8e-13\n",
      "  _near-inside 3.9e-12  Visible-distance 5.2e-13  U-max-coplanar 5.2e-13\n",
      "  Width-outside 1e-12  _wide-facet 3.1e-12  _maxoutside 1e-12\n",
      "\n",
      "ChemEnv failed for mp-1097576: QH6239 Qhull precision error: initial Delaunay input sites are cocircular or cospherical.  Use option 'Qz' for the Delaunay triangulation or Voronoi diagram of cocircular/cospherical points; it adds a point \"at infinity\".  Alternatively use option 'QJ' to joggle the input.  Use option 'Qs' to search all points for the initial simplex.\n",
      "\n",
      "input sites with last coordinate projected to a paraboloid\n",
      "- p1(v5):   2.8 -5.6e-17 7.3e-17   7.9\n",
      "- p4(v4):  -5.7     0     0    32\n",
      "- p3(v3):   5.7     0     0    32\n",
      "- p5(v2):   8.6 3.4e-16 3.3e-16    73\n",
      "- p6(v1):  -8.6 -2.3e-16 3.1e-16    73\n",
      "\n",
      "While executing:  | qhull v o Fv\n",
      "Options selected for Qhull 2019.1.r 2019/06/21:\n",
      "  run-id 1906425102  voronoi  offFile  _pre-merge  _zero-centrum  Pgood\n",
      "  Fvoronoi  _max-width 73  Error-roundoff 9e-14  _one-merge 8.1e-13\n",
      "  _near-inside 4e-12  Visible-distance 5.4e-13  U-max-coplanar 5.4e-13\n",
      "  Width-outside 1.1e-12  _wide-facet 3.2e-12  _maxoutside 1.1e-12\n",
      "\n",
      "ChemEnv failed for mp-1030513: This structure is pathological, infinite vertex in the voronoi construction\n",
      "ChemEnv failed for mp-1210048: object of type 'NoneType' has no len()\n",
      "ChemEnv failed for mp-1202044: object of type 'NoneType' has no len()\n",
      "ChemEnv failed for mp-1028531: This structure is pathological, infinite vertex in the voronoi construction\n",
      "ChemEnv failed for mp-1028976: This structure is pathological, infinite vertex in the voronoi construction\n",
      "ChemEnv failed for mp-2219005: This structure is pathological, infinite vertex in the voronoi construction\n",
      "ChemEnv failed for mp-1027722: This structure is pathological, infinite vertex in the voronoi construction\n",
      "ChemEnv failed for mp-1028663: This structure is pathological, infinite vertex in the voronoi construction\n",
      "ChemEnv failed for mp-1096391: QH6239 Qhull precision error: initial Delaunay input sites are cocircular or cospherical.  Use option 'Qz' for the Delaunay triangulation or Voronoi diagram of cocircular/cospherical points; it adds a point \"at infinity\".  Alternatively use option 'QJ' to joggle the input.  Use option 'Qs' to search all points for the initial simplex.\n",
      "\n",
      "input sites with last coordinate projected to a paraboloid\n",
      "- p2(v5):   -13    12  -2.9 3.2e+02\n",
      "- p1(v4):   -19    12  -6.1 5.3e+02\n",
      "- p0(v3):   -16    12  -4.7 4.3e+02\n",
      "- p4(v2):   -10    12  -1.1 2.4e+02\n",
      "- p5(v1):   -24    12  -9.3 8.2e+02\n",
      "\n",
      "While executing:  | qhull v o Fv\n",
      "Options selected for Qhull 2019.1.r 2019/06/21:\n",
      "  run-id 1932139812  voronoi  offFile  _pre-merge  _zero-centrum  Pgood\n",
      "  Fvoronoi  _max-width 5.8e+02  Error-roundoff 9.6e-13  _one-merge 8.7e-12\n",
      "  _near-inside 4.3e-11  Visible-distance 5.8e-12  U-max-coplanar 5.8e-12\n",
      "  Width-outside 1.2e-11  _wide-facet 3.5e-11  _maxoutside 1.2e-11\n",
      "\n",
      "ChemEnv failed for mp-1025898: This structure is pathological, infinite vertex in the voronoi construction\n",
      "ChemEnv failed for mp-1096721: QH6239 Qhull precision error: initial Delaunay input sites are cocircular or cospherical.  Use option 'Qz' for the Delaunay triangulation or Voronoi diagram of cocircular/cospherical points; it adds a point \"at infinity\".  Alternatively use option 'QJ' to joggle the input.  Use option 'Qs' to search all points for the initial simplex.\n",
      "\n",
      "input sites with last coordinate projected to a paraboloid\n",
      "- p1(v5):  -2.5 9.9e-17 1e-16   6.2\n",
      "- p2(v4):   2.5 8.7e-18 -1.2e-16   6.2\n",
      "- p5(v3):  -7.1 -9.9e-17 -1e-16    50\n",
      "- p8(v2):   9.5     0     0    91\n",
      "- p7(v1):  -9.5     0     0    91\n",
      "\n",
      "While executing:  | qhull v o Fv\n",
      "Options selected for Qhull 2019.1.r 2019/06/21:\n",
      "  run-id 1939333208  voronoi  offFile  _pre-merge  _zero-centrum  Pgood\n",
      "  Fvoronoi  _max-width 91  Error-roundoff 1.1e-13  _one-merge 9.9e-13\n",
      "  _near-inside 5e-12  Visible-distance 6.6e-13  U-max-coplanar 6.6e-13\n",
      "  Width-outside 1.3e-12  _wide-facet 4e-12  _maxoutside 1.3e-12\n",
      "\n",
      "ChemEnv failed for mp-2224719: This structure is pathological, infinite vertex in the voronoi construction\n",
      "ChemEnv failed for mp-3207808: object of type 'NoneType' has no len()\n",
      "ChemEnv failed for mp-16791: object of type 'NoneType' has no len()\n",
      "ChemEnv failed for mp-1096092: QH6239 Qhull precision error: initial Delaunay input sites are cocircular or cospherical.  Use option 'Qz' for the Delaunay triangulation or Voronoi diagram of cocircular/cospherical points; it adds a point \"at infinity\".  Alternatively use option 'QJ' to joggle the input.  Use option 'Qs' to search all points for the initial simplex.\n",
      "\n",
      "input sites with last coordinate projected to a paraboloid\n",
      "- p4(v5):   5.3 -0.00094   3.1    38\n",
      "- p3(v4):  -5.3 0.00094  -3.1    38\n",
      "- p1(v3):   2.7 -0.00052   1.6    10\n",
      "- p5(v2):   7.9 -0.0014   4.6    83\n",
      "- p6(v1):  -7.9 0.0014  -4.6    83\n",
      "\n",
      "While executing:  | qhull v o Fv\n",
      "Options selected for Qhull 2019.1.r 2019/06/21:\n",
      "  run-id 1963669744  voronoi  offFile  _pre-merge  _zero-centrum  Pgood\n",
      "  Fvoronoi  _max-width 83  Error-roundoff 1e-13  _one-merge 9.4e-13\n",
      "  _near-inside 4.7e-12  Visible-distance 6.3e-13  U-max-coplanar 6.3e-13\n",
      "  Width-outside 1.3e-12  _wide-facet 3.8e-12  _maxoutside 1.3e-12\n",
      "\n",
      "ChemEnv failed for mp-1028541: This structure is pathological, infinite vertex in the voronoi construction\n",
      "ChemEnv failed for mp-1207340: QH6214 qhull input error: not enough points(2) to construct initial simplex (need 5)\n",
      "\n",
      "While executing:  | qhull v o Fv\n",
      "Options selected for Qhull 2019.1.r 2019/06/21:\n",
      "  run-id 1965737005  voronoi  offFile  _pre-merge  _zero-centrum\n",
      "  _maxoutside  0\n",
      "\n",
      "ChemEnv failed for mp-16836: object of type 'NoneType' has no len()\n",
      "ChemEnv failed for mp-13608: object of type 'NoneType' has no len()\n",
      "ChemEnv failed for mp-1097307: QH6239 Qhull precision error: initial Delaunay input sites are cocircular or cospherical.  Use option 'Qz' for the Delaunay triangulation or Voronoi diagram of cocircular/cospherical points; it adds a point \"at infinity\".  Alternatively use option 'QJ' to joggle the input.  Use option 'Qs' to search all points for the initial simplex.\n",
      "\n",
      "input sites with last coordinate projected to a paraboloid\n",
      "- p0(v5):   2.4 9e-17 -8e-17   5.9\n",
      "- p3(v4):  -2.4 -6.5e-17 9.9e-17   5.9\n",
      "- p4(v3):     8 1.6e-16 9.9e-17    64\n",
      "- p6(v2):    10     0     0 1.1e+02\n",
      "- p5(v1):  -5.2     0     0    27\n",
      "\n",
      "While executing:  | qhull v o Fv\n",
      "Options selected for Qhull 2019.1.r 2019/06/21:\n",
      "  run-id 1967484933  voronoi  offFile  _pre-merge  _zero-centrum  Pgood\n",
      "  Fvoronoi  _max-width 1.1e+02  Error-roundoff 1.3e-13  _one-merge 1.2e-12\n",
      "  _near-inside 5.9e-12  Visible-distance 7.9e-13  U-max-coplanar 7.9e-13\n",
      "  Width-outside 1.6e-12  _wide-facet 4.7e-12  _maxoutside 1.6e-12\n",
      "\n",
      "ChemEnv failed for mp-1212766: QH6239 Qhull precision error: initial Delaunay input sites are cocircular or cospherical.  Use option 'Qz' for the Delaunay triangulation or Voronoi diagram of cocircular/cospherical points; it adds a point \"at infinity\".  Alternatively use option 'QJ' to joggle the input.  Use option 'Qs' to search all points for the initial simplex.\n",
      "\n",
      "input sites with last coordinate projected to a paraboloid\n",
      "- p0(v5):   2.4  -3.9     0    21\n",
      "- p27(v4):   3.2   5.6     0    42\n",
      "- p28(v3):   1.6   -13     0 1.8e+02\n",
      "- p29(v2):    12  -3.9     0 1.6e+02\n",
      "- p30(v1):  -7.3  -3.9     0    68\n",
      "\n",
      "While executing:  | qhull v o Fv\n",
      "Options selected for Qhull 2019.1.r 2019/06/21:\n",
      "  run-id 1968627809  voronoi  offFile  _pre-merge  _zero-centrum  Pgood\n",
      "  Fvoronoi  _max-width 1.9e+02  Error-roundoff 2.3e-13  _one-merge 2.1e-12\n",
      "  _near-inside 1e-11  Visible-distance 1.4e-12  U-max-coplanar 1.4e-12\n",
      "  Width-outside 2.8e-12  _wide-facet 8.4e-12  _maxoutside 2.8e-12\n",
      "\n",
      "ChemEnv failed for mp-1028621: This structure is pathological, infinite vertex in the voronoi construction\n",
      "ChemEnv failed for mp-1025710: This structure is pathological, infinite vertex in the voronoi construction\n",
      "ChemEnv failed for mp-1206751: QH6013 qhull input error: input is less than 4-dimensional since all points have the same x coordinate 5.507\n",
      "\n",
      "While executing:  | qhull v o Fv\n",
      "Options selected for Qhull 2019.1.r 2019/06/21:\n",
      "  run-id 1971854753  voronoi  offFile  _pre-merge  _zero-centrum  Pgood\n",
      "  Fvoronoi  _max-width 1.9e+02  Error-roundoff 3.4e-13  _one-merge 3.1e-12\n",
      "  _near-inside 1.5e-11  Visible-distance 2.1e-12  U-max-coplanar 2.1e-12\n",
      "  Width-outside 4.1e-12  _wide-facet 1.2e-11  _maxoutside 4.1e-12\n",
      "\n",
      "ChemEnv failed for mp-1030239: This structure is pathological, infinite vertex in the voronoi construction\n",
      "ChemEnv failed for mp-1027149: This structure is pathological, infinite vertex in the voronoi construction\n",
      "ChemEnv failed for mp-1096024: QH6239 Qhull precision error: initial Delaunay input sites are cocircular or cospherical.  Use option 'Qz' for the Delaunay triangulation or Voronoi diagram of cocircular/cospherical points; it adds a point \"at infinity\".  Alternatively use option 'QJ' to joggle the input.  Use option 'Qs' to search all points for the initial simplex.\n",
      "\n",
      "input sites with last coordinate projected to a paraboloid\n",
      "- p1(v5):  -2.5 2.5e-09  -1.5   8.6\n",
      "- p4(v4):     0     0     0     0\n",
      "- p2(v3):  -7.7 7.5e-09  -4.4    79\n",
      "- p6(v2):   2.5 -2.5e-09   1.5   8.6\n",
      "- p5(v1):   -13 1.2e-08  -7.4 2.2e+02\n",
      "\n",
      "While executing:  | qhull v o Fv\n",
      "Options selected for Qhull 2019.1.r 2019/06/21:\n",
      "  run-id 1977485098  voronoi  offFile  _pre-merge  _zero-centrum  Pgood\n",
      "  Fvoronoi  _max-width 2.2e+02  Error-roundoff 2.6e-13  _one-merge 2.4e-12\n",
      "  _near-inside 1.2e-11  Visible-distance 1.6e-12  U-max-coplanar 1.6e-12\n",
      "  Width-outside 3.1e-12  _wide-facet 9.4e-12  _maxoutside 3.1e-12\n",
      "\n",
      "ChemEnv failed for mp-1030106: This structure is pathological, infinite vertex in the voronoi construction\n",
      "ChemEnv failed for mp-1027311: This structure is pathological, infinite vertex in the voronoi construction\n",
      "ChemEnv failed for mp-1027109: This structure is pathological, infinite vertex in the voronoi construction\n",
      "ChemEnv failed for mp-1245113: This structure is pathological, infinite vertex in the voronoi construction\n",
      "ChemEnv failed for mp-1029190: This structure is pathological, infinite vertex in the voronoi construction\n",
      "ChemEnv failed for mp-1097472: QH6239 Qhull precision error: initial Delaunay input sites are cocircular or cospherical.  Use option 'Qz' for the Delaunay triangulation or Voronoi diagram of cocircular/cospherical points; it adds a point \"at infinity\".  Alternatively use option 'QJ' to joggle the input.  Use option 'Qs' to search all points for the initial simplex.\n",
      "\n",
      "input sites with last coordinate projected to a paraboloid\n",
      "- p0(v5):     0     0     0     0\n",
      "- p3(v4):  -5.7     0     0    33\n",
      "- p1(v3):     3 3.6e-17 -1.9e-16   8.7\n",
      "- p5(v2):   8.5 -1.3e-17 3.5e-16    72\n",
      "- p6(v1):  -8.5 -7e-17 2.2e-16    72\n",
      "\n",
      "While executing:  | qhull v o Fv\n",
      "Options selected for Qhull 2019.1.r 2019/06/21:\n",
      "  run-id 1989418068  voronoi  offFile  _pre-merge  _zero-centrum  Pgood\n",
      "  Fvoronoi  _max-width 72  Error-roundoff 8.9e-14  _one-merge 8e-13\n",
      "  _near-inside 4e-12  Visible-distance 5.3e-13  U-max-coplanar 5.3e-13\n",
      "  Width-outside 1.1e-12  _wide-facet 3.2e-12  _maxoutside 1.1e-12\n",
      "\n",
      "ChemEnv failed for mp-1028422: This structure is pathological, infinite vertex in the voronoi construction\n",
      "ChemEnv failed for mp-1030160: This structure is pathological, infinite vertex in the voronoi construction\n",
      "ChemEnv failed for mp-1096314: QH6239 Qhull precision error: initial Delaunay input sites are cocircular or cospherical.  Use option 'Qz' for the Delaunay triangulation or Voronoi diagram of cocircular/cospherical points; it adds a point \"at infinity\".  Alternatively use option 'QJ' to joggle the input.  Use option 'Qs' to search all points for the initial simplex.\n",
      "\n",
      "input sites with last coordinate projected to a paraboloid\n",
      "- p1(v5):     0     0     0     0\n",
      "- p3(v4):  -2.9 -3.1e-18 -1.1e-16   8.4\n",
      "- p4(v3):   8.9 2.2e-16 -1.1e-16    78\n",
      "- p6(v2):    12     0     0 1.4e+02\n",
      "- p5(v1):  -5.9     0     0    34\n",
      "\n",
      "While executing:  | qhull v o Fv\n",
      "Options selected for Qhull 2019.1.r 2019/06/21:\n",
      "  run-id 1996981218  voronoi  offFile  _pre-merge  _zero-centrum  Pgood\n",
      "  Fvoronoi  _max-width 1.4e+02  Error-roundoff 1.6e-13  _one-merge 1.5e-12\n",
      "  _near-inside 7.4e-12  Visible-distance 9.9e-13  U-max-coplanar 9.9e-13\n",
      "  Width-outside 2e-12  _wide-facet 5.9e-12  _maxoutside 2e-12\n",
      "\n",
      "ChemEnv failed for mp-1097356: QH6239 Qhull precision error: initial Delaunay input sites are cocircular or cospherical.  Use option 'Qz' for the Delaunay triangulation or Voronoi diagram of cocircular/cospherical points; it adds a point \"at infinity\".  Alternatively use option 'QJ' to joggle the input.  Use option 'Qs' to search all points for the initial simplex.\n",
      "\n",
      "input sites with last coordinate projected to a paraboloid\n",
      "- p1(v5):     0     0     0     0\n",
      "- p3(v4):  -2.5 -6.9e-17 7.1e-17   6.4\n",
      "- p0(v3):   2.5 -9.9e-17 1.6e-16   6.4\n",
      "- p6(v2):    11     0     0 1.1e+02\n",
      "- p5(v1):  -5.4     0     0    29\n",
      "\n",
      "While executing:  | qhull v o Fv\n",
      "Options selected for Qhull 2019.1.r 2019/06/21:\n",
      "  run-id 1999603110  voronoi  offFile  _pre-merge  _zero-centrum  Pgood\n",
      "  Fvoronoi  _max-width 1.1e+02  Error-roundoff 1.4e-13  _one-merge 1.2e-12\n",
      "  _near-inside 6.2e-12  Visible-distance 8.3e-13  U-max-coplanar 8.3e-13\n",
      "  Width-outside 1.7e-12  _wide-facet 5e-12  _maxoutside 1.7e-12\n",
      "\n",
      "ChemEnv failed for mp-1098700: QH6239 Qhull precision error: initial Delaunay input sites are cocircular or cospherical.  Use option 'Qz' for the Delaunay triangulation or Voronoi diagram of cocircular/cospherical points; it adds a point \"at infinity\".  Alternatively use option 'QJ' to joggle the input.  Use option 'Qs' to search all points for the initial simplex.\n",
      "\n",
      "input sites with last coordinate projected to a paraboloid\n",
      "- p0(v5):     0     0     0     0\n",
      "- p1(v4):   3.2 4.7e-17 -1.2e-16    10\n",
      "- p2(v3):  -3.2 9.6e-17 -1.7e-17    10\n",
      "- p5(v2):     9 9.6e-17 -1.7e-17    81\n",
      "- p6(v1):    -9 -2.8e-16 -1.6e-16    81\n",
      "\n",
      "While executing:  | qhull v o Fv\n",
      "Options selected for Qhull 2019.1.r 2019/06/21:\n",
      "  run-id 2000157741  voronoi  offFile  _pre-merge  _zero-centrum  Pgood\n",
      "  Fvoronoi  _max-width 81  Error-roundoff 9.9e-14  _one-merge 8.9e-13\n",
      "  _near-inside 4.5e-12  Visible-distance 6e-13  U-max-coplanar 6e-13\n",
      "  Width-outside 1.2e-12  _wide-facet 3.6e-12  _maxoutside 1.2e-12\n",
      "\n",
      "ChemEnv failed for mp-1025926: This structure is pathological, infinite vertex in the voronoi construction\n",
      "ChemEnv failed for mp-1025810: This structure is pathological, infinite vertex in the voronoi construction\n",
      "ChemEnv failed for mp-1096653: QH6239 Qhull precision error: initial Delaunay input sites are cocircular or cospherical.  Use option 'Qz' for the Delaunay triangulation or Voronoi diagram of cocircular/cospherical points; it adds a point \"at infinity\".  Alternatively use option 'QJ' to joggle the input.  Use option 'Qs' to search all points for the initial simplex.\n",
      "\n",
      "input sites with last coordinate projected to a paraboloid\n",
      "- p4(v5):    -3 -5.1e-17 -1.8e-16   8.9\n",
      "- p0(v4):     3 5.1e-17 1.8e-16   8.9\n",
      "- p3(v3):   8.7 -2.7e-16 -1.8e-16    76\n",
      "- p5(v2):    12     0     0 1.4e+02\n",
      "- p6(v1):  -5.8     0     0    34\n",
      "\n",
      "While executing:  | qhull v o Fv\n",
      "Options selected for Qhull 2019.1.r 2019/06/21:\n",
      "  run-id 2006225068  voronoi  offFile  _pre-merge  _zero-centrum  Pgood\n",
      "  Fvoronoi  _max-width 1.4e+02  Error-roundoff 1.6e-13  _one-merge 1.5e-12\n",
      "  _near-inside 7.3e-12  Visible-distance 9.8e-13  U-max-coplanar 9.8e-13\n",
      "  Width-outside 2e-12  _wide-facet 5.9e-12  _maxoutside 2e-12\n",
      "\n",
      "ChemEnv failed for mp-22319: object of type 'NoneType' has no len()\n",
      "ChemEnv failed for mp-1096692: QH6239 Qhull precision error: initial Delaunay input sites are cocircular or cospherical.  Use option 'Qz' for the Delaunay triangulation or Voronoi diagram of cocircular/cospherical points; it adds a point \"at infinity\".  Alternatively use option 'QJ' to joggle the input.  Use option 'Qs' to search all points for the initial simplex.\n",
      "\n",
      "input sites with last coordinate projected to a paraboloid\n",
      "- p3(v5): 9.8e-17   3.5 -3.1e-17    12\n",
      "- p4(v4): 3.2e-16    16 8.6e-16 2.7e+02\n",
      "- p5(v3):     0     0     0     0\n",
      "- p6(v2): 8.9e-16    20     0 3.8e+02\n",
      "- p0(v1): -3.2e-16   9.5 3.1e-17    91\n",
      "\n",
      "While executing:  | qhull v o Fv\n",
      "Options selected for Qhull 2019.1.r 2019/06/21:\n",
      "  run-id 2015317655  voronoi  offFile  _pre-merge  _zero-centrum  Pgood\n",
      "  Fvoronoi  _max-width 3.8e+02  Error-roundoff 4.4e-13  _one-merge 4e-12\n",
      "  _near-inside 2e-11  Visible-distance 2.7e-12  U-max-coplanar 2.7e-12\n",
      "  Width-outside 5.3e-12  _wide-facet 1.6e-11  _maxoutside 5.3e-12\n",
      "\n",
      "ChemEnv failed for mp-1028731: This structure is pathological, infinite vertex in the voronoi construction\n",
      "ChemEnv failed for mp-672225: object of type 'NoneType' has no len()\n",
      "Number of systems analyzed: 4931\n"
     ]
    }
   ],
   "source": [
    "sample_data = random.sample(mp_data, 5000)\n",
    "data_chemenv = {}\n",
    "\n",
    "with warnings.catch_warnings():\n",
    "    warnings.filterwarnings(\"ignore\", message=\"No Pauling electronegativity\")\n",
    "    for mat in tqdm(sample_data, smoothing=0.01, mininterval=1):\n",
    "        x = analyse_bonding(mat, \"ChemEnv\")\n",
    "        if x is not None:\n",
    "            data_chemenv[mat.material_id] = x\n",
    "\n",
    "print(\"Number of systems analyzed:\", len(data_chemenv))"
   ]
  },
  {
   "cell_type": "code",
   "execution_count": 11,
   "id": "7cafdca1-f40e-450a-9266-16c3a36685b1",
   "metadata": {},
   "outputs": [
    {
     "data": {
      "text/plain": [
       "3114"
      ]
     },
     "execution_count": 11,
     "metadata": {},
     "output_type": "execute_result"
    }
   ],
   "source": [
    "# Number of systems where CrystalNN and ChemEnv disagree\n",
    "sum(1 for k in data_chemenv.keys() if data_chemenv[k] != data.get(k, None))"
   ]
  },
  {
   "cell_type": "code",
   "execution_count": null,
   "id": "5fcb1a7c-4a3d-4693-8bc6-b5cc703ea6ec",
   "metadata": {},
   "outputs": [],
   "source": []
  },
  {
   "cell_type": "code",
   "execution_count": 12,
   "id": "3542de12-6896-4788-a135-70eb27b11e17",
   "metadata": {},
   "outputs": [],
   "source": [
    "crystalnets_options = jl.CrystalNets.Options(structure=jl.StructureType.Auto, clusterings=[jl.Clustering.EachVertex], bonding=jl.Bonding.Input, split_O_vertex=False)\n",
    "\n",
    "def analyse_topology(material_id):\n",
    "    res = jl.determine_topology(f\"cif/{material_id}.cif\", crystalnets_options)\n",
    "    topologies = [(mult, jl.ndims(net[jl.Clustering.EachVertex].genome), str(net[jl.Clustering.EachVertex])) for net, mult in res]\n",
    "    return topologies"
   ]
  },
  {
   "cell_type": "code",
   "execution_count": 13,
   "id": "faaf9f08-d496-4f2c-bcd0-36fb84b37560",
   "metadata": {},
   "outputs": [
    {
     "data": {
      "text/plain": [
       "[(1, 3, 'pcu')]"
      ]
     },
     "execution_count": 13,
     "metadata": {},
     "output_type": "execute_result"
    }
   ],
   "source": [
    "analyse_topology(\"mp-1206677\")"
   ]
  },
  {
   "cell_type": "code",
   "execution_count": 14,
   "id": "dc2400f0-adc5-40ca-a6db-1165c5848324",
   "metadata": {},
   "outputs": [
    {
     "data": {
      "application/vnd.jupyter.widget-view+json": {
       "model_id": "4edd85a086164537adb498faf0fdc983",
       "version_major": 2,
       "version_minor": 0
      },
      "text/plain": [
       "  0%|          | 0/170455 [00:00<?, ?it/s]"
      ]
     },
     "metadata": {},
     "output_type": "display_data"
    },
    {
     "name": "stderr",
     "output_type": "stream",
     "text": [
      "spglib: Indicated max size(=384) is less than number spglib: of symmetry operations(=768).\n",
      "spglib: Indicated max size(=384) is less than number spglib: of symmetry operations(=768).\n",
      "spglib: Indicated max size(=384) is less than number spglib: of symmetry operations(=768).\n",
      "spglib: Indicated max size(=384) is less than number spglib: of symmetry operations(=768).\n",
      "spglib: Indicated max size(=384) is less than number spglib: of symmetry operations(=768).\n",
      "spglib: Indicated max size(=384) is less than number spglib: of symmetry operations(=768).\n",
      "spglib: Indicated max size(=384) is less than number spglib: of symmetry operations(=768).\n",
      "spglib: Indicated max size(=384) is less than number spglib: of symmetry operations(=768).\n"
     ]
    }
   ],
   "source": [
    "jl.CrystalNets.toggle_export(False)\n",
    "jl.CrystalNets.toggle_warning(False)\n",
    "\n",
    "for material_id in tqdm(data.keys(), smoothing=0.01, mininterval=1):\n",
    "    topo = analyse_topology(material_id)\n",
    "    data[material_id][\"topology\"] = topo"
   ]
  },
  {
   "cell_type": "code",
   "execution_count": 15,
   "id": "fff2f122-c800-441e-aad3-5f0ea2acc912",
   "metadata": {},
   "outputs": [
    {
     "data": {
      "text/plain": [
       "{'material_id': 'mp-1206677',\n",
       " 'formula_pretty': 'Rb2O2',\n",
       " 'nelements': 2,\n",
       " 'theoretical': False,\n",
       " 'is_stable': None,\n",
       " 'crystal_system': 'Monoclinic',\n",
       " 'space_group': 11,\n",
       " 'coordination': {('O', 6), ('Rb', 6)},\n",
       " 'bonds': {('Rb', 'O')},\n",
       " 'topology': [(1, 3, 'pcu')]}"
      ]
     },
     "execution_count": 15,
     "metadata": {},
     "output_type": "execute_result"
    }
   ],
   "source": [
    "data[\"mp-1206677\"]"
   ]
  },
  {
   "cell_type": "code",
   "execution_count": 16,
   "id": "13cae65e-76af-4965-b4e5-d047d083b98b",
   "metadata": {},
   "outputs": [],
   "source": [
    "class SetEncoder(json.JSONEncoder):\n",
    "    def default(self, obj):\n",
    "        if isinstance(obj, set):\n",
    "            return list(obj)\n",
    "        return json.JSONEncoder.default(self, obj)\n",
    "\n",
    "with open(\"topo_data.json\", \"w\") as file:\n",
    "    json.dump(data, file, cls=SetEncoder)"
   ]
  },
  {
   "cell_type": "code",
   "execution_count": 17,
   "id": "9f7e5c8d-4dfa-42d7-bc06-13aed728f08d",
   "metadata": {},
   "outputs": [
    {
     "data": {
      "application/vnd.jupyter.widget-view+json": {
       "model_id": "a8a14864a7ee4079b045e8a62ffb5d5d",
       "version_major": 2,
       "version_minor": 0
      },
      "text/plain": [
       "  0%|          | 0/4931 [00:00<?, ?it/s]"
      ]
     },
     "metadata": {},
     "output_type": "display_data"
    }
   ],
   "source": [
    "# Compare with topology from ChemEnv bonding\n",
    "\n",
    "crystalnets_options = jl.CrystalNets.Options(structure=jl.StructureType.Auto, clusterings=[jl.Clustering.EachVertex], bonding=jl.Bonding.Input, split_O_vertex=False)\n",
    "\n",
    "def analyse_topology_chemenv(material_id):\n",
    "    res = jl.determine_topology(f\"cif_chemenv/{material_id}.cif\", crystalnets_options)\n",
    "    topologies = [(mult, jl.ndims(net[jl.Clustering.EachVertex].genome), str(net[jl.Clustering.EachVertex])) for net, mult in res]\n",
    "    return topologies\n",
    "\n",
    "for material_id in tqdm(data_chemenv.keys(), smoothing=0.01, mininterval=1):\n",
    "    topo = analyse_topology_chemenv(material_id)\n",
    "    data_chemenv[material_id][\"topology\"] = topo"
   ]
  },
  {
   "cell_type": "code",
   "execution_count": 19,
   "id": "d57a0667-ae9f-4a79-979e-628be9bc241d",
   "metadata": {},
   "outputs": [
    {
     "data": {
      "text/plain": [
       "3091"
      ]
     },
     "execution_count": 19,
     "metadata": {},
     "output_type": "execute_result"
    }
   ],
   "source": [
    "# Number of systems where CrystalNN and ChemEnv disagree\n",
    "sum(1 for k in data_chemenv.keys() if data_chemenv[k][\"topology\"] != data.get(k, {}).get(\"topology\", None))"
   ]
  },
  {
   "cell_type": "code",
   "execution_count": 20,
   "id": "cc059cee-6d93-470f-9003-3e92acc9abc1",
   "metadata": {},
   "outputs": [
    {
     "data": {
      "text/plain": [
       "3147"
      ]
     },
     "execution_count": 20,
     "metadata": {},
     "output_type": "execute_result"
    }
   ],
   "source": [
    "sum(1 for k in data_chemenv.keys() if data_chemenv[k] != data.get(k, None))"
   ]
  },
  {
   "cell_type": "code",
   "execution_count": 29,
   "id": "7eac2fce-6e1e-4c80-8b4f-252c728e253d",
   "metadata": {},
   "outputs": [
    {
     "data": {
      "text/plain": [
       "['mp-978276',\n",
       " 'mp-1187858',\n",
       " 'mp-1220734',\n",
       " 'mp-1182251',\n",
       " 'mp-1217922',\n",
       " 'mp-2458',\n",
       " 'mp-276',\n",
       " 'mp-1179374',\n",
       " 'mp-1226378',\n",
       " 'mp-9472']"
      ]
     },
     "execution_count": 29,
     "metadata": {},
     "output_type": "execute_result"
    }
   ],
   "source": [
    "list(str(k) for k in data_chemenv.keys() if data_chemenv[k] != data.get(k, None) and 'UNKNOWN' not in data_chemenv[k]['topology'][0][2])[:10]"
   ]
  },
  {
   "cell_type": "code",
   "execution_count": 32,
   "id": "bcd6026a-70ac-4aaa-920c-a58605497ad0",
   "metadata": {},
   "outputs": [
    {
     "data": {
      "text/plain": [
       "{'material_id': 'mp-978276',\n",
       " 'formula_pretty': 'Mg3Co',\n",
       " 'nelements': 2,\n",
       " 'theoretical': True,\n",
       " 'is_stable': None,\n",
       " 'crystal_system': 'Cubic',\n",
       " 'space_group': 225,\n",
       " 'coordination': {('Co', 14), ('Mg', 14)},\n",
       " 'bonds': {('Mg', 'Co'), ('Mg', 'Mg')},\n",
       " 'topology': [(1, 3, 'bcu-x')]}"
      ]
     },
     "execution_count": 32,
     "metadata": {},
     "output_type": "execute_result"
    }
   ],
   "source": [
    "data_chemenv['mp-978276']"
   ]
  },
  {
   "cell_type": "code",
   "execution_count": 33,
   "id": "ed2ed85e-ce5e-4432-aeb6-2bfcaa7736b8",
   "metadata": {},
   "outputs": [
    {
     "data": {
      "text/plain": [
       "{'material_id': 'mp-978276',\n",
       " 'formula_pretty': 'Mg3Co',\n",
       " 'nelements': 2,\n",
       " 'theoretical': True,\n",
       " 'is_stable': None,\n",
       " 'crystal_system': 'Cubic',\n",
       " 'space_group': 225,\n",
       " 'coordination': {('Co', 14), ('Mg', 8), ('Mg', 14)},\n",
       " 'bonds': {('Mg', 'Co'), ('Mg', 'Mg')},\n",
       " 'topology': [(1, 3, 'reo-d')]}"
      ]
     },
     "execution_count": 33,
     "metadata": {},
     "output_type": "execute_result"
    }
   ],
   "source": [
    "data['mp-978276']"
   ]
  },
  {
   "cell_type": "code",
   "execution_count": null,
   "id": "66a6fd78-db38-40b5-b5e6-00cfb86c62ee",
   "metadata": {},
   "outputs": [],
   "source": [
    "with open(\"topo_data_chemenv.json\", \"w\") as file:\n",
    "    json.dump(data_chemenv, file, cls=SetEncoder)"
   ]
  },
  {
   "cell_type": "code",
   "execution_count": null,
   "id": "eb93afef-4223-4ae8-b83b-5b7e424f48e5",
   "metadata": {},
   "outputs": [],
   "source": []
  }
 ],
 "metadata": {
  "kernelspec": {
   "display_name": "Python 3 (ipykernel)",
   "language": "python",
   "name": "python3"
  },
  "language_info": {
   "codemirror_mode": {
    "name": "ipython",
    "version": 3
   },
   "file_extension": ".py",
   "mimetype": "text/x-python",
   "name": "python",
   "nbconvert_exporter": "python",
   "pygments_lexer": "ipython3",
   "version": "3.12.9"
  }
 },
 "nbformat": 4,
 "nbformat_minor": 5
}
