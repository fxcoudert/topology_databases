{
 "cells": [
  {
   "cell_type": "code",
   "execution_count": 1,
   "id": "65784a98-0478-4827-ba8a-69ec0431e189",
   "metadata": {},
   "outputs": [
    {
     "name": "stdout",
     "output_type": "stream",
     "text": [
      "Detected IPython. Loading juliacall extension. See https://juliapy.github.io/PythonCall.jl/stable/compat/#IPython\n",
      "Using pymatgen version: 2024.6.10\n"
     ]
    }
   ],
   "source": [
    "import json\n",
    "import os\n",
    "import warnings\n",
    "\n",
    "import juliacall\n",
    "\n",
    "import pymatgen\n",
    "from pymatgen.analysis.local_env import CrystalNN\n",
    "from pymatgen.core import Structure\n",
    "from pymatgen.ext.matproj import MPRester\n",
    "from pymatgen.io.cif import CifWriter\n",
    "\n",
    "from tqdm.notebook import tqdm\n",
    "\n",
    "print(\"Using pymatgen version:\", pymatgen.core.__version__)"
   ]
  },
  {
   "cell_type": "code",
   "execution_count": 2,
   "id": "d883bc49-1801-4693-8bf3-26522f8b8220",
   "metadata": {},
   "outputs": [
    {
     "name": "stdout",
     "output_type": "stream",
     "text": [
      "Using Julia version: 1.10.4\n",
      "Running from directory: /opt/julia-1.10.4/bin\n"
     ]
    }
   ],
   "source": [
    "jl = juliacall.newmodule(\"NotebookModule\")\n",
    "jl.seval(\"using CrystalNets\")\n",
    "jl.CrystalNets.toggle_export(False)\n",
    "\n",
    "print(\"Using Julia version:\", jl.seval(\"VERSION\"))\n",
    "print(\"Running from directory:\", jl.seval(\"Sys.BINDIR\"))"
   ]
  },
  {
   "cell_type": "code",
   "execution_count": 3,
   "id": "a4a50d5a-f489-4c1c-a531-89b383f8f46c",
   "metadata": {},
   "outputs": [],
   "source": [
    "with open(os.path.expanduser(\"~/.mpapikey\"), \"r\") as f:\n",
    "    apikey = f.read().strip()"
   ]
  },
  {
   "cell_type": "code",
   "execution_count": 4,
   "id": "adc46520-ecac-4099-8ab1-c873efe494ea",
   "metadata": {},
   "outputs": [],
   "source": [
    "crystallnn = CrystalNN()\n",
    "\n",
    "try:\n",
    "    os.mkdir(\"cif\")\n",
    "except FileExistsError as e:\n",
    "    pass\n",
    "\n",
    "def make_labels_unique(struct):\n",
    "    from collections import Counter\n",
    "    \n",
    "    labels = Counter(site.label for site in struct.sites)\n",
    "    counter = {}\n",
    "    for i, site in enumerate(struct.sites):\n",
    "        label = site.label\n",
    "        if labels[label] > 1 or label.isalpha():\n",
    "            c = counter.get(label, 0)\n",
    "            site.label = f\"{label}{c}\" if label.isalpha() else f\"{label}_{c}\"\n",
    "            c = c + 1\n",
    "            counter[label] = c\n",
    "\n",
    "\n",
    "def jimage_to_site_symmetry(jimage):\n",
    "    i, j, k = jimage\n",
    "    return f\"1_{5+i}{5+j}{5+k}\"\n",
    "\n",
    "\n",
    "def writeToCifFile(bonded_struct, file):\n",
    "    cif_writer = CifWriter(bonded_struct.structure)\n",
    "    cif = str(cif_writer)\n",
    "    cif += \"\"\"loop_\n",
    "_geom_bond_atom_site_label_1\n",
    "_geom_bond_atom_site_label_2\n",
    "_geom_bond_distance\n",
    "_geom_bond_site_symmetry_2\n",
    "\"\"\"\n",
    "\n",
    "    for n, site in enumerate(bonded_struct.structure.sites):\n",
    "        for connected in bonded_struct.get_connected_sites(n):\n",
    "            # Make sure we only output each bond once\n",
    "            if site.label <= connected.site.label:\n",
    "                cif += f\"{site.label} {connected.site.label} {connected.dist:.6f} {jimage_to_site_symmetry(connected.jimage)}\\n\"\n",
    "\n",
    "    file.write(cif)\n",
    "\n",
    "\n",
    "def analyse_bonding(mat):\n",
    "    # Magnetic moments trigger a bug in CifWriter, so we remove them here\n",
    "    # https://github.com/materialsproject/pymatgen/issues/3772\n",
    "    if \"magmom\" in mat.structure.site_properties:\n",
    "        mat.structure.remove_site_property(\"magmom\")\n",
    "\n",
    "    # All labels should be unique (otherwise bond specifications will fail)\n",
    "    make_labels_unique(mat.structure)\n",
    "    labels = [site.label for site in mat.structure.sites]\n",
    "    if len(labels) != len(set(labels)):\n",
    "        raise ValueError(\"labels are not unique in structure\")\n",
    "\n",
    "    while True:\n",
    "        bonded_struct = None\n",
    "        with warnings.catch_warnings():\n",
    "            warnings.simplefilter(\"ignore\")\n",
    "            try:\n",
    "                bonded_struct = crystallnn.get_bonded_structure(mat.structure)\n",
    "            except Exception as e:\n",
    "                print(f\"CrystalNN failed for {mat.material_id}: {e}\")\n",
    "                return None\n",
    "\n",
    "        coord = set()\n",
    "        bonds = set()\n",
    "        rerun_flag = False\n",
    "        for n, site in enumerate(bonded_struct.structure.sites):\n",
    "            neighbors = bonded_struct.get_connected_sites(n)\n",
    "            # We cannot use get_coordination_of_site() because of a bug:\n",
    "            # https://github.com/materialsproject/pymatgen/issues/3888#issuecomment-2232571072\n",
    "            coord.add((str(site.specie), len(neighbors)))\n",
    "            for connected in neighbors:\n",
    "                if site.specie <= connected.site.specie:\n",
    "                    bonds.add((str(site.specie), str(connected.site.specie)))\n",
    "                if site.label == connected.site.label:\n",
    "                    # If an atom is bonded to its own image, then CrystalNets will not like it\n",
    "                    # and we need to make rerun on a supercell\n",
    "                    rerun_flag = True\n",
    "\n",
    "        if rerun_flag:\n",
    "            # If we found an atom bonded to itself, \n",
    "            mat.structure.make_supercell(2, in_place=True)\n",
    "            make_labels_unique(mat.structure)\n",
    "        else:\n",
    "            # Otherwise we're done\n",
    "            break\n",
    "\n",
    "    with open(f\"cif/{mat.material_id}.cif\", \"w\") as f:\n",
    "        writeToCifFile(bonded_struct, f)\n",
    "\n",
    "    return {\"material_id\": str(mat.material_id),\n",
    "            \"formula_pretty\": mat.formula_pretty,\n",
    "            \"nelements\": mat.nelements,\n",
    "            \"theoretical\": mat.theoretical,\n",
    "            \"is_stable\": mat.is_stable,\n",
    "            \"crystal_system\": str(mat.symmetry.crystal_system),\n",
    "            \"space_group\": mat.symmetry.number,\n",
    "            \"coordination\": coord,\n",
    "            \"bonds\": bonds}"
   ]
  },
  {
   "cell_type": "code",
   "execution_count": 5,
   "id": "44d94499-80e1-416d-9d78-e9af43193220",
   "metadata": {},
   "outputs": [
    {
     "data": {
      "application/vnd.jupyter.widget-view+json": {
       "model_id": "535fe7b01c8a4617ab11d8646513e228",
       "version_major": 2,
       "version_minor": 0
      },
      "text/plain": [
       "Retrieving SummaryDoc documents:   0%|          | 0/1 [00:00<?, ?it/s]"
      ]
     },
     "metadata": {},
     "output_type": "display_data"
    },
    {
     "name": "stdout",
     "output_type": "stream",
     "text": [
      "{'material_id': 'mp-3934', 'formula_pretty': 'Cu3PS4', 'nelements': 3, 'theoretical': False, 'is_stable': None, 'crystal_system': 'Orthorhombic', 'space_group': 31, 'coordination': {('Cu', 4), ('S', 4), ('P', 4)}, 'bonds': {('Cu', 'S'), ('P', 'S')}}\n"
     ]
    }
   ],
   "source": [
    "with MPRester(apikey) as mpr:\n",
    "    mp_data = mpr.materials.summary.search(\n",
    "        material_ids=[\"mp-3934\"],\n",
    "        fields=[\"material_id\", \"formula\", \"formula_pretty\", \"nelements\", \"structure\", \"theoretical\", \"symmetry\"]\n",
    "    )\n",
    "\n",
    "    assert len(mp_data) == 1\n",
    "    res = analyse_bonding(mp_data[0])\n",
    "    print(res)"
   ]
  },
  {
   "cell_type": "code",
   "execution_count": 6,
   "id": "269cdd7d-2275-4981-8de3-ccbbdcd8e084",
   "metadata": {},
   "outputs": [
    {
     "data": {
      "application/vnd.jupyter.widget-view+json": {
       "model_id": "dcdaea1565304e99aa0a8fa62356bd20",
       "version_major": 2,
       "version_minor": 0
      },
      "text/plain": [
       "Retrieving SummaryDoc documents:   0%|          | 0/153235 [00:00<?, ?it/s]"
      ]
     },
     "metadata": {},
     "output_type": "display_data"
    },
    {
     "name": "stdout",
     "output_type": "stream",
     "text": [
      "Number of materials found: 155361\n",
      "Database version 2023.11.1\n"
     ]
    }
   ],
   "source": [
    "with MPRester(apikey) as mpr:\n",
    "    mp_data = mpr.materials.summary.search(\n",
    "        fields=[\"material_id\", \"formula\", \"formula_pretty\", \"nelements\", \"structure\", \"theoretical\", \"symmetry\"]\n",
    "    )\n",
    "    print(\"Number of materials found:\", len(mp_data))\n",
    "    print(\"Database version\", mpr.get_database_version())"
   ]
  },
  {
   "cell_type": "code",
   "execution_count": 7,
   "id": "692bbce6-6494-480f-aa4a-78f1d98dc53a",
   "metadata": {
    "scrolled": true
   },
   "outputs": [
    {
     "data": {
      "application/vnd.jupyter.widget-view+json": {
       "model_id": "d4e54d2a90ac429a856feccca4dd6363",
       "version_major": 2,
       "version_minor": 0
      },
      "text/plain": [
       "  0%|          | 0/155361 [00:00<?, ?it/s]"
      ]
     },
     "metadata": {},
     "output_type": "display_data"
    },
    {
     "name": "stdout",
     "output_type": "stream",
     "text": [
      "CrystalNN failed for mp-994911: No Voronoi neighbors found for site - try increasing cutoff\n",
      "CrystalNN failed for mp-1210439: No Voronoi neighbors found for site - try increasing cutoff\n",
      "CrystalNN failed for mp-1247838: No Voronoi neighbors found for site - try increasing cutoff\n",
      "CrystalNN failed for mp-1213668: No Voronoi neighbors found for site - try increasing cutoff\n",
      "CrystalNN failed for mp-1215144: No Voronoi neighbors found for site - try increasing cutoff\n",
      "CrystalNN failed for mp-1180797: No Voronoi neighbors found for site - try increasing cutoff\n",
      "CrystalNN failed for mp-1247813: No Voronoi neighbors found for site - try increasing cutoff\n",
      "CrystalNN failed for mp-1214815: No Voronoi neighbors found for site - try increasing cutoff\n",
      "CrystalNN failed for mp-1215160: No Voronoi neighbors found for site - try increasing cutoff\n",
      "CrystalNN failed for mp-1212347: No Voronoi neighbors found for site - try increasing cutoff\n",
      "CrystalNN failed for mp-1212578: No Voronoi neighbors found for site - try increasing cutoff\n",
      "CrystalNN failed for mp-1180180: No Voronoi neighbors found for site - try increasing cutoff\n",
      "CrystalNN failed for mp-1101037: No Voronoi neighbors found for site - try increasing cutoff\n",
      "CrystalNN failed for mp-1182718: No Voronoi neighbors found for site - try increasing cutoff\n",
      "CrystalNN failed for mp-1182772: No Voronoi neighbors found for site - try increasing cutoff\n",
      "CrystalNN failed for mp-1212042: No Voronoi neighbors found for site - try increasing cutoff\n",
      "Number of systems analyzed: 155345\n"
     ]
    }
   ],
   "source": [
    "data = {}\n",
    "\n",
    "with warnings.catch_warnings():\n",
    "    warnings.filterwarnings(\"ignore\", message=\"No Pauling electronegativity\")\n",
    "    for mat in tqdm(mp_data, smoothing=0.01, mininterval=1):\n",
    "        x = analyse_bonding(mat)\n",
    "        if x is not None:\n",
    "            data[mat.material_id] = x\n",
    "\n",
    "print(\"Number of systems analyzed:\", len(data))"
   ]
  },
  {
   "cell_type": "code",
   "execution_count": 8,
   "id": "29ef1b6e-d163-4663-8ed1-34e5b6d5a0eb",
   "metadata": {},
   "outputs": [
    {
     "data": {
      "text/plain": [
       "{'material_id': 'mp-1206677',\n",
       " 'formula_pretty': 'Rb2O2',\n",
       " 'nelements': 2,\n",
       " 'theoretical': False,\n",
       " 'is_stable': None,\n",
       " 'crystal_system': 'Monoclinic',\n",
       " 'space_group': 11,\n",
       " 'coordination': {('O', 6), ('Rb', 6)},\n",
       " 'bonds': {('Rb', 'O')}}"
      ]
     },
     "execution_count": 8,
     "metadata": {},
     "output_type": "execute_result"
    }
   ],
   "source": [
    "data[\"mp-1206677\"]"
   ]
  },
  {
   "cell_type": "code",
   "execution_count": 9,
   "id": "3542de12-6896-4788-a135-70eb27b11e17",
   "metadata": {},
   "outputs": [],
   "source": [
    "crystalnets_options = jl.CrystalNets.Options(structure=jl.StructureType.Auto, clusterings=[jl.Clustering.EachVertex], bonding=jl.Bonding.Input, split_O_vertex=False)\n",
    "\n",
    "def analyse_topology(material_id):\n",
    "    res = jl.determine_topology(f\"cif/{material_id}.cif\", crystalnets_options)\n",
    "    topologies = [(mult, jl.ndims(net[jl.Clustering.EachVertex].genome), str(net[jl.Clustering.EachVertex])) for net, mult in res]\n",
    "    return topologies"
   ]
  },
  {
   "cell_type": "code",
   "execution_count": 10,
   "id": "faaf9f08-d496-4f2c-bcd0-36fb84b37560",
   "metadata": {},
   "outputs": [
    {
     "data": {
      "text/plain": [
       "[(1, 3, 'pcu')]"
      ]
     },
     "execution_count": 10,
     "metadata": {},
     "output_type": "execute_result"
    }
   ],
   "source": [
    "analyse_topology(\"mp-1206677\")"
   ]
  },
  {
   "cell_type": "code",
   "execution_count": 11,
   "id": "dc2400f0-adc5-40ca-a6db-1165c5848324",
   "metadata": {},
   "outputs": [
    {
     "data": {
      "application/vnd.jupyter.widget-view+json": {
       "model_id": "bd51d7b157964591bc03a58b275177c4",
       "version_major": 2,
       "version_minor": 0
      },
      "text/plain": [
       "  0%|          | 0/155345 [00:00<?, ?it/s]"
      ]
     },
     "metadata": {},
     "output_type": "display_data"
    },
    {
     "name": "stderr",
     "output_type": "stream",
     "text": [
      "spglib: Indicated max size(=384) is less than number spglib: of symmetry operations(=768).\n",
      "spglib: Indicated max size(=384) is less than number spglib: of symmetry operations(=768).\n",
      "spglib: Indicated max size(=384) is less than number spglib: of symmetry operations(=768).\n",
      "spglib: Indicated max size(=384) is less than number spglib: of symmetry operations(=768).\n",
      "spglib: Indicated max size(=384) is less than number spglib: of symmetry operations(=768).\n",
      "spglib: Indicated max size(=384) is less than number spglib: of symmetry operations(=768).\n"
     ]
    }
   ],
   "source": [
    "jl.CrystalNets.toggle_export(False)\n",
    "jl.CrystalNets.toggle_warning(False)\n",
    "\n",
    "for material_id in tqdm(data.keys(), smoothing=0.01, mininterval=1):\n",
    "    topo = analyse_topology(material_id)\n",
    "    data[material_id][\"topology\"] = topo"
   ]
  },
  {
   "cell_type": "code",
   "execution_count": 12,
   "id": "fff2f122-c800-441e-aad3-5f0ea2acc912",
   "metadata": {},
   "outputs": [
    {
     "data": {
      "text/plain": [
       "{'material_id': 'mp-1206677',\n",
       " 'formula_pretty': 'Rb2O2',\n",
       " 'nelements': 2,\n",
       " 'theoretical': False,\n",
       " 'is_stable': None,\n",
       " 'crystal_system': 'Monoclinic',\n",
       " 'space_group': 11,\n",
       " 'coordination': {('O', 6), ('Rb', 6)},\n",
       " 'bonds': {('Rb', 'O')},\n",
       " 'topology': [(1, 3, 'pcu')]}"
      ]
     },
     "execution_count": 12,
     "metadata": {},
     "output_type": "execute_result"
    }
   ],
   "source": [
    "data[\"mp-1206677\"]"
   ]
  },
  {
   "cell_type": "code",
   "execution_count": 13,
   "id": "13cae65e-76af-4965-b4e5-d047d083b98b",
   "metadata": {},
   "outputs": [],
   "source": [
    "class SetEncoder(json.JSONEncoder):\n",
    "    def default(self, obj):\n",
    "        if isinstance(obj, set):\n",
    "            return list(obj)\n",
    "        return json.JSONEncoder.default(self, obj)\n",
    "\n",
    "with open(\"topo_data.json\", \"w\") as file:\n",
    "    json.dump(data, file, cls=SetEncoder)"
   ]
  },
  {
   "cell_type": "code",
   "execution_count": null,
   "id": "9f7e5c8d-4dfa-42d7-bc06-13aed728f08d",
   "metadata": {},
   "outputs": [],
   "source": []
  },
  {
   "cell_type": "code",
   "execution_count": null,
   "id": "10cbacaa-fb39-4275-9201-701b95338a48",
   "metadata": {},
   "outputs": [],
   "source": []
  }
 ],
 "metadata": {
  "kernelspec": {
   "display_name": "Python 3 (ipykernel)",
   "language": "python",
   "name": "python3"
  },
  "language_info": {
   "codemirror_mode": {
    "name": "ipython",
    "version": 3
   },
   "file_extension": ".py",
   "mimetype": "text/x-python",
   "name": "python",
   "nbconvert_exporter": "python",
   "pygments_lexer": "ipython3",
   "version": "3.10.14"
  }
 },
 "nbformat": 4,
 "nbformat_minor": 5
}
